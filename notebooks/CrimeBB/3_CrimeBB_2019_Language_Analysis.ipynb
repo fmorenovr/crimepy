{
 "cells": [
  {
   "cell_type": "code",
   "execution_count": 1,
   "id": "bb9d7924",
   "metadata": {},
   "outputs": [],
   "source": [
    "import pandas as pd\n",
    "import sys, os\n",
    "\n",
    "module_path = os.path.abspath(os.path.join('../..'))\n",
    "if module_path not in sys.path:\n",
    "    sys.path.append(module_path)"
   ]
  },
  {
   "cell_type": "code",
   "execution_count": 2,
   "id": "3b9d1697",
   "metadata": {},
   "outputs": [],
   "source": [
    "from crimebb import *"
   ]
  },
  {
   "cell_type": "code",
   "execution_count": 3,
   "id": "624ec6d3",
   "metadata": {},
   "outputs": [],
   "source": [
    "from tqdm.notebook import tqdm\n",
    "\n",
    "tqdm.pandas()"
   ]
  },
  {
   "cell_type": "code",
   "execution_count": 4,
   "id": "06d434bb",
   "metadata": {},
   "outputs": [],
   "source": [
    "YEAR=\"2019\""
   ]
  },
  {
   "cell_type": "code",
   "execution_count": 5,
   "id": "f5a666e5",
   "metadata": {},
   "outputs": [],
   "source": [
    "DATA_PATH=\"../../data/\"\n",
    "CSV_PATH = f\"{DATA_PATH}csv/{YEAR}/summary/\"\n",
    "CSV_PROCESSED = f\"{DATA_PATH}csv/{YEAR}/processed/\""
   ]
  },
  {
   "cell_type": "code",
   "execution_count": 6,
   "id": "3c5dac2a",
   "metadata": {},
   "outputs": [],
   "source": [
    "verifyDir(CSV_PROCESSED)"
   ]
  },
  {
   "cell_type": "markdown",
   "id": "18f2af85",
   "metadata": {},
   "source": [
    "### Loading data"
   ]
  },
  {
   "cell_type": "code",
   "execution_count": 7,
   "id": "c05f930a",
   "metadata": {},
   "outputs": [],
   "source": [
    "crimeBB_data = CrimeBBManager(DATA_PATH, YEAR)"
   ]
  },
  {
   "cell_type": "markdown",
   "id": "275fe4e9",
   "metadata": {},
   "source": [
    "#### website"
   ]
  },
  {
   "cell_type": "code",
   "execution_count": 8,
   "id": "724191ae",
   "metadata": {},
   "outputs": [
    {
     "data": {
      "text/html": [
       "<div>\n",
       "<style scoped>\n",
       "    .dataframe tbody tr th:only-of-type {\n",
       "        vertical-align: middle;\n",
       "    }\n",
       "\n",
       "    .dataframe tbody tr th {\n",
       "        vertical-align: top;\n",
       "    }\n",
       "\n",
       "    .dataframe thead th {\n",
       "        text-align: right;\n",
       "    }\n",
       "</style>\n",
       "<table border=\"1\" class=\"dataframe\">\n",
       "  <thead>\n",
       "    <tr style=\"text-align: right;\">\n",
       "      <th></th>\n",
       "      <th>site_id</th>\n",
       "      <th>site_name</th>\n",
       "    </tr>\n",
       "  </thead>\n",
       "  <tbody>\n",
       "    <tr>\n",
       "      <th>1</th>\n",
       "      <td>0</td>\n",
       "      <td>hackforums.net</td>\n",
       "    </tr>\n",
       "    <tr>\n",
       "      <th>2</th>\n",
       "      <td>1</td>\n",
       "      <td>www.kernelmode.info/forum</td>\n",
       "    </tr>\n",
       "    <tr>\n",
       "      <th>4</th>\n",
       "      <td>3</td>\n",
       "      <td>offensivecommunity.net/index.php</td>\n",
       "    </tr>\n",
       "    <tr>\n",
       "      <th>3</th>\n",
       "      <td>4</td>\n",
       "      <td>www.mpgh.net</td>\n",
       "    </tr>\n",
       "    <tr>\n",
       "      <th>5</th>\n",
       "      <td>5</td>\n",
       "      <td>stresserforums.net/index.php</td>\n",
       "    </tr>\n",
       "    <tr>\n",
       "      <th>0</th>\n",
       "      <td>6</td>\n",
       "      <td>greysec.net/index.php</td>\n",
       "    </tr>\n",
       "  </tbody>\n",
       "</table>\n",
       "</div>"
      ],
      "text/plain": [
       "   site_id                         site_name\n",
       "1        0                    hackforums.net\n",
       "2        1         www.kernelmode.info/forum\n",
       "4        3  offensivecommunity.net/index.php\n",
       "3        4                      www.mpgh.net\n",
       "5        5      stresserforums.net/index.php\n",
       "0        6             greysec.net/index.php"
      ]
     },
     "execution_count": 8,
     "metadata": {},
     "output_type": "execute_result"
    }
   ],
   "source": [
    "crimeBB_data.read_sites_2019()\n",
    "crimeBB_data.website_df"
   ]
  },
  {
   "cell_type": "markdown",
   "id": "6e9f9549",
   "metadata": {},
   "source": [
    "#### boards"
   ]
  },
  {
   "cell_type": "code",
   "execution_count": 9,
   "id": "cc280552",
   "metadata": {},
   "outputs": [
    {
     "data": {
      "text/html": [
       "<div>\n",
       "<style scoped>\n",
       "    .dataframe tbody tr th:only-of-type {\n",
       "        vertical-align: middle;\n",
       "    }\n",
       "\n",
       "    .dataframe tbody tr th {\n",
       "        vertical-align: top;\n",
       "    }\n",
       "\n",
       "    .dataframe thead th {\n",
       "        text-align: right;\n",
       "    }\n",
       "</style>\n",
       "<table border=\"1\" class=\"dataframe\">\n",
       "  <thead>\n",
       "    <tr style=\"text-align: right;\">\n",
       "      <th></th>\n",
       "      <th>board_id</th>\n",
       "      <th>site_id</th>\n",
       "      <th>site_name</th>\n",
       "      <th>board_title</th>\n",
       "      <th>board_url</th>\n",
       "    </tr>\n",
       "  </thead>\n",
       "  <tbody>\n",
       "    <tr>\n",
       "      <th>0</th>\n",
       "      <td>9</td>\n",
       "      <td>6</td>\n",
       "      <td>greysec.net/index.php</td>\n",
       "      <td>Web Application Security</td>\n",
       "      <td>https://greysec.net/forumdisplay.php?fid=9&amp;page=2</td>\n",
       "    </tr>\n",
       "    <tr>\n",
       "      <th>1</th>\n",
       "      <td>3</td>\n",
       "      <td>6</td>\n",
       "      <td>greysec.net/index.php</td>\n",
       "      <td>Changelog</td>\n",
       "      <td>https://greysec.net/forumdisplay.php?fid=3&amp;page=2</td>\n",
       "    </tr>\n",
       "    <tr>\n",
       "      <th>2</th>\n",
       "      <td>8</td>\n",
       "      <td>6</td>\n",
       "      <td>greysec.net/index.php</td>\n",
       "      <td>General Hacking and Security</td>\n",
       "      <td>https://greysec.net/forumdisplay.php?fid=8&amp;page=2</td>\n",
       "    </tr>\n",
       "    <tr>\n",
       "      <th>3</th>\n",
       "      <td>28</td>\n",
       "      <td>6</td>\n",
       "      <td>greysec.net/index.php</td>\n",
       "      <td>Other Languages</td>\n",
       "      <td>https://greysec.net/forumdisplay.php?fid=28</td>\n",
       "    </tr>\n",
       "    <tr>\n",
       "      <th>4</th>\n",
       "      <td>5</td>\n",
       "      <td>6</td>\n",
       "      <td>greysec.net/index.php</td>\n",
       "      <td>Miscellaneous Discussion</td>\n",
       "      <td>https://greysec.net/forumdisplay.php?fid=5&amp;page=2</td>\n",
       "    </tr>\n",
       "    <tr>\n",
       "      <th>...</th>\n",
       "      <td>...</td>\n",
       "      <td>...</td>\n",
       "      <td>...</td>\n",
       "      <td>...</td>\n",
       "      <td>...</td>\n",
       "    </tr>\n",
       "    <tr>\n",
       "      <th>1048</th>\n",
       "      <td>12</td>\n",
       "      <td>5</td>\n",
       "      <td>stresserforums.net/index.php</td>\n",
       "      <td>Server Stress Testing</td>\n",
       "      <td>https://stresserforums.net/forumdisplay.php?fi...</td>\n",
       "    </tr>\n",
       "    <tr>\n",
       "      <th>1049</th>\n",
       "      <td>22</td>\n",
       "      <td>5</td>\n",
       "      <td>stresserforums.net/index.php</td>\n",
       "      <td>Contests &amp; Rewards</td>\n",
       "      <td>https://stresserforums.net/forumdisplay.php?fi...</td>\n",
       "    </tr>\n",
       "    <tr>\n",
       "      <th>1050</th>\n",
       "      <td>4</td>\n",
       "      <td>5</td>\n",
       "      <td>stresserforums.net/index.php</td>\n",
       "      <td>DDoS Talk &amp; News</td>\n",
       "      <td>https://stresserforums.net/forumdisplay.php?fi...</td>\n",
       "    </tr>\n",
       "    <tr>\n",
       "      <th>1051</th>\n",
       "      <td>13</td>\n",
       "      <td>5</td>\n",
       "      <td>stresserforums.net/index.php</td>\n",
       "      <td>DDoS Protection</td>\n",
       "      <td>https://stresserforums.net/forumdisplay.php?fi...</td>\n",
       "    </tr>\n",
       "    <tr>\n",
       "      <th>1052</th>\n",
       "      <td>9</td>\n",
       "      <td>5</td>\n",
       "      <td>stresserforums.net/index.php</td>\n",
       "      <td>Stresser Services</td>\n",
       "      <td>https://stresserforums.net/forumdisplay.php?fi...</td>\n",
       "    </tr>\n",
       "  </tbody>\n",
       "</table>\n",
       "<p>1053 rows × 5 columns</p>\n",
       "</div>"
      ],
      "text/plain": [
       "      board_id  site_id                     site_name  \\\n",
       "0            9        6         greysec.net/index.php   \n",
       "1            3        6         greysec.net/index.php   \n",
       "2            8        6         greysec.net/index.php   \n",
       "3           28        6         greysec.net/index.php   \n",
       "4            5        6         greysec.net/index.php   \n",
       "...        ...      ...                           ...   \n",
       "1048        12        5  stresserforums.net/index.php   \n",
       "1049        22        5  stresserforums.net/index.php   \n",
       "1050         4        5  stresserforums.net/index.php   \n",
       "1051        13        5  stresserforums.net/index.php   \n",
       "1052         9        5  stresserforums.net/index.php   \n",
       "\n",
       "                       board_title  \\\n",
       "0         Web Application Security   \n",
       "1                        Changelog   \n",
       "2     General Hacking and Security   \n",
       "3                  Other Languages   \n",
       "4         Miscellaneous Discussion   \n",
       "...                            ...   \n",
       "1048         Server Stress Testing   \n",
       "1049            Contests & Rewards   \n",
       "1050              DDoS Talk & News   \n",
       "1051               DDoS Protection   \n",
       "1052             Stresser Services   \n",
       "\n",
       "                                              board_url  \n",
       "0     https://greysec.net/forumdisplay.php?fid=9&page=2  \n",
       "1     https://greysec.net/forumdisplay.php?fid=3&page=2  \n",
       "2     https://greysec.net/forumdisplay.php?fid=8&page=2  \n",
       "3           https://greysec.net/forumdisplay.php?fid=28  \n",
       "4     https://greysec.net/forumdisplay.php?fid=5&page=2  \n",
       "...                                                 ...  \n",
       "1048  https://stresserforums.net/forumdisplay.php?fi...  \n",
       "1049  https://stresserforums.net/forumdisplay.php?fi...  \n",
       "1050  https://stresserforums.net/forumdisplay.php?fi...  \n",
       "1051  https://stresserforums.net/forumdisplay.php?fi...  \n",
       "1052  https://stresserforums.net/forumdisplay.php?fi...  \n",
       "\n",
       "[1053 rows x 5 columns]"
      ]
     },
     "execution_count": 9,
     "metadata": {},
     "output_type": "execute_result"
    }
   ],
   "source": [
    "crimeBB_data.read_boards_2019()\n",
    "crimeBB_data.boards_df"
   ]
  },
  {
   "cell_type": "markdown",
   "id": "1c452183",
   "metadata": {},
   "source": [
    "#### Threads"
   ]
  },
  {
   "cell_type": "code",
   "execution_count": null,
   "id": "975b2818",
   "metadata": {},
   "outputs": [],
   "source": [
    "crimeBB_data.read_threads_2019()\n",
    "crimeBB_data.threads_df"
   ]
  },
  {
   "cell_type": "markdown",
   "id": "28acda76",
   "metadata": {},
   "source": [
    "#### posts"
   ]
  },
  {
   "cell_type": "code",
   "execution_count": null,
   "id": "e8e92f34",
   "metadata": {},
   "outputs": [],
   "source": [
    "crimeBB_data.read_posts()\n",
    "crimeBB_data.posts_df"
   ]
  },
  {
   "cell_type": "code",
   "execution_count": null,
   "id": "442e091d",
   "metadata": {},
   "outputs": [],
   "source": [
    "os.exit()"
   ]
  },
  {
   "cell_type": "markdown",
   "id": "c65ff5bf",
   "metadata": {},
   "source": [
    "#### posts x threads x boards x website"
   ]
  },
  {
   "cell_type": "code",
   "execution_count": null,
   "id": "5419e7a5",
   "metadata": {},
   "outputs": [],
   "source": [
    "crimeBB_data.generates()"
   ]
  },
  {
   "cell_type": "code",
   "execution_count": null,
   "id": "b394447d",
   "metadata": {},
   "outputs": [],
   "source": [
    "crimeBB_data.crimebb_df.isnull().any()"
   ]
  },
  {
   "cell_type": "code",
   "execution_count": null,
   "id": "f3d5ac92",
   "metadata": {},
   "outputs": [],
   "source": [
    "crimeBB_data.crimebb_df"
   ]
  },
  {
   "cell_type": "code",
   "execution_count": null,
   "id": "deccfafc",
   "metadata": {},
   "outputs": [],
   "source": [
    "os.exit()"
   ]
  },
  {
   "cell_type": "markdown",
   "id": "60cd31d5",
   "metadata": {},
   "source": [
    "#### Detecting languages"
   ]
  },
  {
   "cell_type": "code",
   "execution_count": null,
   "id": "fe1f1b03",
   "metadata": {},
   "outputs": [],
   "source": [
    "language_to_eval = [\"russian\", \"german\", \"english\"]"
   ]
  },
  {
   "cell_type": "code",
   "execution_count": null,
   "id": "e4a2d998",
   "metadata": {},
   "outputs": [],
   "source": [
    "if verifyFile(f\"{CSV_PROCESSED}content_languages.csv\"):\n",
    "    content_df = pd.read_csv(f\"{CSV_PROCESSED}content_languages.csv\", sep=\"\\t\", low_memory=False)\n",
    "    list_post = content_df[~content_df[\"language_detected\"].isna()][\"post_id\"].values\n",
    "else:\n",
    "    content_df = posts_threads_df[[\"post_id\", \"content\"]].copy()\n",
    "    # content_df[\"content_processed\"] = content_df[\"content\"].apply(lambda x: re.sub('[\\\\\\\\\\'\\\"+@_!#$%^&*,;().<>?/\\|\\[\\]}{~:=\\n]', \" \", x) )\n",
    "    # content_df[\"content_processed\"] = content_df[\"content_processed\"].apply(str.lower)\n",
    "    content_df[\"lang_ratio\"] = np.nan\n",
    "    content_df[\"language_detected\"] = np.nan\n",
    "    content_df[\"lang_correct_words\"] = np.nan\n",
    "    content_df[\"len_correct_words\"] = np.nan\n",
    "    content_df[\"lang_incorrect_words\"] = np.nan\n",
    "    content_df[\"len_incorrect_words\"] = np.nan\n",
    "    list_post = []"
   ]
  },
  {
   "cell_type": "code",
   "execution_count": null,
   "id": "9a4c705c",
   "metadata": {},
   "outputs": [],
   "source": [
    "os.exit()"
   ]
  },
  {
   "cell_type": "code",
   "execution_count": null,
   "id": "e54fd8d6",
   "metadata": {
    "scrolled": true
   },
   "outputs": [],
   "source": [
    "count = 1\n",
    "for index, row in tqdm(content_df.iterrows()):\n",
    "    \n",
    "    lang_ratio, lang_badwords, lang_goodwords = detect_language_and_words(row[\"content\"], language_to_eval=language_to_eval)\n",
    "    posts_threads_df.loc[index, \"lang_ratio\"] = [lang_ratio]\n",
    "    lang_detected = max(lang_ratio, key=lang_ratio.get)\n",
    "    content_df.loc[(d_manejo_key['TpRem'] == 'MANEJO'), \"language_detected\"] = lang_detected\n",
    "    content_df.loc[index, \"lang_correct_words\"] = [{lang_detected: lang_goodwords[lang_detected]}]\n",
    "    content_df.loc[index, \"len_correct_words\"] = len(set(lang_goodwords[lang_detected]))\n",
    "    content_df.loc[index, \"lang_incorrect_words\"] = [{lang_detected: lang_badwords[lang_detected]}]\n",
    "    content_df.loc[index, \"len_incorrect_words\"] = len(set(lang_badwords[lang_detected]))\n",
    "\n",
    "    if count%10000==0: # grava cada 10 k muestras\n",
    "        content_df.to_csv(f\"{CSV_PROCESSED}content_languages.csv\", sep='\\t', index=False)\n",
    "    \n",
    "    count+=1\n",
    "    "
   ]
  },
  {
   "cell_type": "code",
   "execution_count": null,
   "id": "0666fbac",
   "metadata": {},
   "outputs": [],
   "source": [
    "content_df.to_csv(f\"{CSV_PROCESSED}content_languages.csv\", sep='\\t', index=False)"
   ]
  },
  {
   "cell_type": "markdown",
   "id": "08f1bcfc",
   "metadata": {},
   "source": [
    "### Languages"
   ]
  },
  {
   "cell_type": "code",
   "execution_count": null,
   "id": "c42e3f16",
   "metadata": {},
   "outputs": [],
   "source": [
    "lang_post_df = content_df.pivot_table(columns=['language_detected'], aggfunc='size')\n",
    "lang_post_df.sort_values(ascending=False, inplace=True)\n",
    "lang_post_df"
   ]
  },
  {
   "cell_type": "code",
   "execution_count": null,
   "id": "6be0f188",
   "metadata": {
    "scrolled": false
   },
   "outputs": [],
   "source": [
    "mean_val = round(lang_post_df.mean(), 2)\n",
    "\n",
    "import matplotlib.pyplot as plt\n",
    "\n",
    "fig, ax = plt.subplots(figsize=(16,8))\n",
    "ax.bar(lang_post_df.index.values, lang_post_df.values)\n",
    "\n",
    "for x,y,p in zip(lang_post_df.index.values, lang_post_df.values, lang_post_df.values):\n",
    "  plt.text(x, y, p)\n",
    "plt.xlabel(\"Languages detected\")\n",
    "plt.ylabel(\"Number of documents\")\n",
    "plt.title(f\"Number of documents per language, Avg: {mean_val}\")\n",
    "plt.show()"
   ]
  },
  {
   "cell_type": "markdown",
   "id": "40024980",
   "metadata": {},
   "source": [
    "#### Russian"
   ]
  },
  {
   "cell_type": "code",
   "execution_count": null,
   "id": "68726af1",
   "metadata": {},
   "outputs": [],
   "source": [
    "# russian_df = content_df[content_df[\"language_detected\"]==\"russian\"].copy()\n",
    "# russian_df.info(), russian_df.shape, russian_df.iloc[0,:]"
   ]
  },
  {
   "cell_type": "code",
   "execution_count": null,
   "id": "6404667d",
   "metadata": {},
   "outputs": [],
   "source": [
    "# russian_content = ' '.join(russian_df[\"content\"])"
   ]
  },
  {
   "cell_type": "code",
   "execution_count": null,
   "id": "2bf431eb",
   "metadata": {},
   "outputs": [],
   "source": [
    "# russian_dict = get_text_frequency(russian_content)\n",
    "# len(russian_dict)"
   ]
  },
  {
   "cell_type": "code",
   "execution_count": null,
   "id": "93c2c479",
   "metadata": {},
   "outputs": [],
   "source": [
    "# showWordCloud(russian_dict, f\"Russian-Wordcloud\", max_words=int(len(russian_dict)))"
   ]
  },
  {
   "cell_type": "markdown",
   "id": "aa24c723",
   "metadata": {},
   "source": [
    "#### English"
   ]
  },
  {
   "cell_type": "code",
   "execution_count": null,
   "id": "f0bab7c7",
   "metadata": {},
   "outputs": [],
   "source": [
    "# english_df = content_df[content_df[\"language_detected\"]==\"english\"].copy()\n",
    "# english_df.info(), english_df.shape, english_df.iloc[0,:]"
   ]
  },
  {
   "cell_type": "code",
   "execution_count": null,
   "id": "6e4c0ddd",
   "metadata": {},
   "outputs": [],
   "source": [
    "# english_content = ' '.join(english_df[\"content\"])"
   ]
  },
  {
   "cell_type": "code",
   "execution_count": null,
   "id": "c0f614d3",
   "metadata": {},
   "outputs": [],
   "source": [
    "# english_dict = get_text_frequency(english_content)\n",
    "# len(english_dict)"
   ]
  },
  {
   "cell_type": "code",
   "execution_count": null,
   "id": "f94506a5",
   "metadata": {},
   "outputs": [],
   "source": [
    "# showWordCloud(english_dict, f\"English-Wordcloud\", max_words=int(len(english_dict)))"
   ]
  },
  {
   "cell_type": "markdown",
   "id": "76c59438",
   "metadata": {},
   "source": [
    "#### German"
   ]
  },
  {
   "cell_type": "code",
   "execution_count": null,
   "id": "2ad577c7",
   "metadata": {},
   "outputs": [],
   "source": [
    "# german_df = content_df[content_df[\"language_detected\"]==\"german\"].copy()\n",
    "# german_df.info(), german_df.shape, german_df.iloc[0,:]"
   ]
  },
  {
   "cell_type": "code",
   "execution_count": null,
   "id": "a270ed4a",
   "metadata": {},
   "outputs": [],
   "source": [
    "# german_content = ' '.join(german_df[\"content\"])"
   ]
  },
  {
   "cell_type": "code",
   "execution_count": null,
   "id": "609fc7b5",
   "metadata": {},
   "outputs": [],
   "source": [
    "# german_dict = get_text_frequency(german_content)\n",
    "# len(german_dict)"
   ]
  },
  {
   "cell_type": "code",
   "execution_count": null,
   "id": "0ba7fa79",
   "metadata": {},
   "outputs": [],
   "source": [
    "# showWordCloud(german_dict, f\"German-Wordcloud\", max_words=int(len(german_dict)))"
   ]
  }
 ],
 "metadata": {
  "kernelspec": {
   "display_name": "Python 3 (ipykernel)",
   "language": "python",
   "name": "python3"
  },
  "language_info": {
   "codemirror_mode": {
    "name": "ipython",
    "version": 3
   },
   "file_extension": ".py",
   "mimetype": "text/x-python",
   "name": "python",
   "nbconvert_exporter": "python",
   "pygments_lexer": "ipython3",
   "version": "3.9.12"
  }
 },
 "nbformat": 4,
 "nbformat_minor": 5
}
