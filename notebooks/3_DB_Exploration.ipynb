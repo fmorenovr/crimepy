{
 "cells": [
  {
   "cell_type": "code",
   "execution_count": 1,
   "id": "fc013e83",
   "metadata": {},
   "outputs": [],
   "source": [
    "import pandas as pd\n",
    "import sys, os\n",
    "\n",
    "module_path = os.path.abspath(os.path.join('..'))\n",
    "if module_path not in sys.path:\n",
    "    sys.path.append(module_path)"
   ]
  },
  {
   "cell_type": "code",
   "execution_count": 2,
   "id": "fe4e8f22",
   "metadata": {},
   "outputs": [],
   "source": [
    "from crimebb import *"
   ]
  },
  {
   "cell_type": "code",
   "execution_count": 3,
   "id": "2e0acb70",
   "metadata": {},
   "outputs": [],
   "source": [
    "DATA_PATH=\"../data/\"\n",
    "CSV_PATH = f\"{DATA_PATH}csv/\""
   ]
  },
  {
   "cell_type": "code",
   "execution_count": 4,
   "id": "730938d1",
   "metadata": {
    "scrolled": true
   },
   "outputs": [
    {
     "ename": "NameError",
     "evalue": "name 'db_tables' is not defined",
     "output_type": "error",
     "traceback": [
      "\u001b[1;31m---------------------------------------------------------------------------\u001b[0m",
      "\u001b[1;31mNameError\u001b[0m                                 Traceback (most recent call last)",
      "Input \u001b[1;32mIn [4]\u001b[0m, in \u001b[0;36m<cell line: 1>\u001b[1;34m()\u001b[0m\n\u001b[1;32m----> 1\u001b[0m \u001b[43mdb_tables\u001b[49m\n",
      "\u001b[1;31mNameError\u001b[0m: name 'db_tables' is not defined"
     ]
    }
   ],
   "source": [
    "db_tables"
   ]
  },
  {
   "cell_type": "markdown",
   "id": "08bf3df5",
   "metadata": {},
   "source": [
    "### Exploring data"
   ]
  },
  {
   "cell_type": "markdown",
   "id": "508123fc",
   "metadata": {},
   "source": [
    "#### members"
   ]
  },
  {
   "cell_type": "code",
   "execution_count": null,
   "id": "a11b8c04",
   "metadata": {
    "scrolled": true
   },
   "outputs": [],
   "source": [
    "members_df = pd.read_csv(f\"{CSV_PATH}members.csv\", sep=\",\", low_memory=False)\n",
    "members_df.drop_duplicates(inplace=True)\n",
    "members_df"
   ]
  },
  {
   "cell_type": "markdown",
   "id": "ffb14e24",
   "metadata": {},
   "source": [
    "#### boards"
   ]
  },
  {
   "cell_type": "code",
   "execution_count": null,
   "id": "469726b7",
   "metadata": {
    "scrolled": true
   },
   "outputs": [],
   "source": [
    "boards_df = pd.read_csv(f\"{CSV_PATH}boards.csv\", sep=\",\", low_memory=False)\n",
    "boards_df.drop_duplicates(inplace=True)\n",
    "boards_df"
   ]
  },
  {
   "cell_type": "markdown",
   "id": "49b95023",
   "metadata": {},
   "source": [
    "#### contracts"
   ]
  },
  {
   "cell_type": "code",
   "execution_count": null,
   "id": "9ace474a",
   "metadata": {
    "scrolled": true
   },
   "outputs": [],
   "source": [
    "contracts_df = pd.read_csv(f\"{CSV_PATH}contracts.csv\", sep=\",\", low_memory=False)\n",
    "contracts_df.drop_duplicates(inplace=True)\n",
    "contracts_df"
   ]
  },
  {
   "cell_type": "markdown",
   "id": "70108ef4",
   "metadata": {},
   "source": [
    "#### Threads"
   ]
  },
  {
   "cell_type": "code",
   "execution_count": null,
   "id": "66039c60",
   "metadata": {
    "scrolled": true
   },
   "outputs": [],
   "source": [
    "threads_df = pd.read_csv(f\"{CSV_PATH}threads.csv\", sep=\",\", low_memory=False)\n",
    "threads_df.drop_duplicates(inplace=True)\n",
    "threads_df"
   ]
  },
  {
   "cell_type": "markdown",
   "id": "38746895",
   "metadata": {},
   "source": [
    "#### Posts"
   ]
  },
  {
   "cell_type": "code",
   "execution_count": null,
   "id": "31941633",
   "metadata": {},
   "outputs": [],
   "source": [
    "posts_df = pd.read_csv(f\"{CSV_PATH}posts.csv\", sep=\",\", low_memory=False)\n",
    "posts_df.drop_duplicates(inplace=True)\n",
    "posts_df"
   ]
  },
  {
   "cell_type": "markdown",
   "id": "85c6f8d9",
   "metadata": {},
   "source": [
    "#### votes"
   ]
  },
  {
   "cell_type": "code",
   "execution_count": null,
   "id": "37b5f7bd",
   "metadata": {
    "scrolled": true
   },
   "outputs": [],
   "source": [
    "votes_df = pd.read_csv(f\"{CSV_PATH}votes.csv\", sep=\",\", low_memory=False)\n",
    "votes_df.drop_duplicates(inplace=True)\n",
    "votes_df"
   ]
  }
 ],
 "metadata": {
  "kernelspec": {
   "display_name": "Python 3 (ipykernel)",
   "language": "python",
   "name": "python3"
  },
  "language_info": {
   "codemirror_mode": {
    "name": "ipython",
    "version": 3
   },
   "file_extension": ".py",
   "mimetype": "text/x-python",
   "name": "python",
   "nbconvert_exporter": "python",
   "pygments_lexer": "ipython3",
   "version": "3.8.13"
  }
 },
 "nbformat": 4,
 "nbformat_minor": 5
}
