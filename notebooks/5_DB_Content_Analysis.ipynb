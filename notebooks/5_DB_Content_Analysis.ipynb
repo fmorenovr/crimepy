{
 "cells": [
  {
   "cell_type": "code",
   "execution_count": null,
   "id": "9d543143",
   "metadata": {},
   "outputs": [],
   "source": [
    "import pandas as pd\n",
    "import sys, os\n",
    "\n",
    "module_path = os.path.abspath(os.path.join('..'))\n",
    "if module_path not in sys.path:\n",
    "    sys.path.append(module_path)"
   ]
  },
  {
   "cell_type": "code",
   "execution_count": null,
   "id": "450bf137",
   "metadata": {},
   "outputs": [],
   "source": [
    "from crimebb import *"
   ]
  },
  {
   "cell_type": "code",
   "execution_count": null,
   "id": "ea4aecd5",
   "metadata": {},
   "outputs": [],
   "source": [
    "YEAR=\"2021\""
   ]
  },
  {
   "cell_type": "code",
   "execution_count": null,
   "id": "ce46292a",
   "metadata": {},
   "outputs": [],
   "source": [
    "DATA_PATH=\"../data/\"\n",
    "CSV_PATH = f\"{DATA_PATH}csv/{YEAR}/\""
   ]
  },
  {
   "cell_type": "markdown",
   "id": "27c21461",
   "metadata": {},
   "source": [
    "### Loading data"
   ]
  },
  {
   "cell_type": "code",
   "execution_count": null,
   "id": "f6023469",
   "metadata": {
    "scrolled": true
   },
   "outputs": [],
   "source": [
    "posts_threads_df = pd.read_csv(f\"{CSV_PATH}post_thread_board.csv\", sep=\"\\t\", low_memory=False)\n",
    "posts_threads_df.shape, posts_threads_df.info()"
   ]
  },
  {
   "cell_type": "code",
   "execution_count": null,
   "id": "b0d221f4",
   "metadata": {
    "scrolled": true
   },
   "outputs": [],
   "source": [
    "posts_threads_df = posts_threads_df[~posts_threads_df[\"content\"].isna()].copy()\n",
    "posts_threads_df.shape, posts_threads_df.info()"
   ]
  },
  {
   "cell_type": "code",
   "execution_count": null,
   "id": "146b4214",
   "metadata": {},
   "outputs": [],
   "source": [
    "posts_threads_df"
   ]
  },
  {
   "cell_type": "markdown",
   "id": "8258d7ee",
   "metadata": {},
   "source": [
    "### Searching content"
   ]
  },
  {
   "cell_type": "markdown",
   "id": "7da9473c",
   "metadata": {},
   "source": [
    "#### Searching URI"
   ]
  },
  {
   "cell_type": "code",
   "execution_count": null,
   "id": "33e6263b",
   "metadata": {},
   "outputs": [],
   "source": [
    "uri_reference = \"^(?:([A-Za-z][A-Za-z0-9+\\\\-.]*):(?://((?:(?:(?:%[0-9A-Fa-f]{2}|[!$&'()*+,;=A-Za-z0-9\\\\-._~])|:)*@)?(?:\\\\[(?:(?:(?:[0-9A-Fa-f]{1,4}:){6}(?:[0-9A-Fa-f]{1,4}:[0-9A-Fa-f]{1,4}|(?:(?:[0-9]|[1-9][0-9]|1[0-9]{2}|2[0-4][0-9]|25[0-5])\\\\.){3}(?:[0-9]|[1-9][0-9]|1[0-9]{2}|2[0-4][0-9]|25[0-5]))|::(?:[0-9A-Fa-f]{1,4}:){5}(?:[0-9A-Fa-f]{1,4}:[0-9A-Fa-f]{1,4}|(?:(?:[0-9]|[1-9][0-9]|1[0-9]{2}|2[0-4][0-9]|25[0-5])\\\\.){3}(?:[0-9]|[1-9][0-9]|1[0-9]{2}|2[0-4][0-9]|25[0-5]))|(?:[0-9A-Fa-f]{1,4})?::(?:[0-9A-Fa-f]{1,4}:){4}(?:[0-9A-Fa-f]{1,4}:[0-9A-Fa-f]{1,4}|(?:(?:[0-9]|[1-9][0-9]|1[0-9]{2}|2[0-4][0-9]|25[0-5])\\\\.){3}(?:[0-9]|[1-9][0-9]|1[0-9]{2}|2[0-4][0-9]|25[0-5]))|(?:[0-9A-Fa-f]{1,4}:[0-9A-Fa-f]{1,4})?::(?:[0-9A-Fa-f]{1,4}:){3}(?:[0-9A-Fa-f]{1,4}:[0-9A-Fa-f]{1,4}|(?:(?:[0-9]|[1-9][0-9]|1[0-9]{2}|2[0-4][0-9]|25[0-5])\\\\.){3}(?:[0-9]|[1-9][0-9]|1[0-9]{2}|2[0-4][0-9]|25[0-5]))|(?:(?:[0-9A-Fa-f]{1,4}:){,2}[0-9A-Fa-f]{1,4})?::(?:[0-9A-Fa-f]{1,4}:){2}(?:[0-9A-Fa-f]{1,4}:[0-9A-Fa-f]{1,4}|(?:(?:[0-9]|[1-9][0-9]|1[0-9]{2}|2[0-4][0-9]|25[0-5])\\\\.){3}(?:[0-9]|[1-9][0-9]|1[0-9]{2}|2[0-4][0-9]|25[0-5]))|(?:(?:[0-9A-Fa-f]{1,4}:){,3}[0-9A-Fa-f]{1,4})?::[0-9A-Fa-f]{1,4}:(?:[0-9A-Fa-f]{1,4}:[0-9A-Fa-f]{1,4}|(?:(?:[0-9]|[1-9][0-9]|1[0-9]{2}|2[0-4][0-9]|25[0-5])\\\\.){3}(?:[0-9]|[1-9][0-9]|1[0-9]{2}|2[0-4][0-9]|25[0-5]))|(?:(?:[0-9A-Fa-f]{1,4}:){,4}[0-9A-Fa-f]{1,4})?::(?:[0-9A-Fa-f]{1,4}:[0-9A-Fa-f]{1,4}|(?:(?:[0-9]|[1-9][0-9]|1[0-9]{2}|2[0-4][0-9]|25[0-5])\\\\.){3}(?:[0-9]|[1-9][0-9]|1[0-9]{2}|2[0-4][0-9]|25[0-5]))|(?:(?:[0-9A-Fa-f]{1,4}:){,5}[0-9A-Fa-f]{1,4})?::[0-9A-Fa-f]{1,4}|(?:(?:[0-9A-Fa-f]{1,4}:){,6}[0-9A-Fa-f]{1,4})?::)(?:%25(?:[A-Za-z0-9\\\\-._~]|%[0-9A-Fa-f]{2})+)?|[Vv][0-9A-Fa-f]+\\\\.(?:[!$&'()*+,;=A-Za-z0-9\\\\-._~]|:)+)\\\\]|(?:%[0-9A-Fa-f]{2}|[!$&'()*+,;=A-Za-z0-9\\\\-._~])*)(?::[0-9]*)?)((?:/(?:(?:%[0-9A-Fa-f]{2}|[!$&'()*+,;=A-Za-z0-9\\\\-._~])|[:@])*)*)|(/(?:(?:(?:%[0-9A-Fa-f]{2}|[!$&'()*+,;=A-Za-z0-9\\\\-._~])|[:@])+(?:/(?:(?:%[0-9A-Fa-f]{2}|[!$&'()*+,;=A-Za-z0-9\\\\-._~])|[:@])*)*)?)|((?:(?:%[0-9A-Fa-f]{2}|[!$&'()*+,;=A-Za-z0-9\\\\-._~])|[:@])+(?:/(?:(?:%[0-9A-Fa-f]{2}|[!$&'()*+,;=A-Za-z0-9\\\\-._~])|[:@])*)*)|())(?:\\\\?((?:(?:(?:%[0-9A-Fa-f]{2}|[!$&'()*+,;=A-Za-z0-9\\\\-._~])|[:@])|[/?])*))?(?:#((?:(?:(?:%[0-9A-Fa-f]{2}|[!$&'()*+,;=A-Za-z0-9\\\\-._~])|[:@])|[/?])*))?|(?://((?:(?:(?:%[0-9A-Fa-f]{2}|[!$&'()*+,;=A-Za-z0-9\\\\-._~])|:)*@)?(?:\\\\[(?:(?:(?:[0-9A-Fa-f]{1,4}:){6}(?:[0-9A-Fa-f]{1,4}:[0-9A-Fa-f]{1,4}|(?:(?:[0-9]|[1-9][0-9]|1[0-9]{2}|2[0-4][0-9]|25[0-5])\\\\.){3}(?:[0-9]|[1-9][0-9]|1[0-9]{2}|2[0-4][0-9]|25[0-5]))|::(?:[0-9A-Fa-f]{1,4}:){5}(?:[0-9A-Fa-f]{1,4}:[0-9A-Fa-f]{1,4}|(?:(?:[0-9]|[1-9][0-9]|1[0-9]{2}|2[0-4][0-9]|25[0-5])\\\\.){3}(?:[0-9]|[1-9][0-9]|1[0-9]{2}|2[0-4][0-9]|25[0-5]))|(?:[0-9A-Fa-f]{1,4})?::(?:[0-9A-Fa-f]{1,4}:){4}(?:[0-9A-Fa-f]{1,4}:[0-9A-Fa-f]{1,4}|(?:(?:[0-9]|[1-9][0-9]|1[0-9]{2}|2[0-4][0-9]|25[0-5])\\\\.){3}(?:[0-9]|[1-9][0-9]|1[0-9]{2}|2[0-4][0-9]|25[0-5]))|(?:[0-9A-Fa-f]{1,4}:[0-9A-Fa-f]{1,4})?::(?:[0-9A-Fa-f]{1,4}:){3}(?:[0-9A-Fa-f]{1,4}:[0-9A-Fa-f]{1,4}|(?:(?:[0-9]|[1-9][0-9]|1[0-9]{2}|2[0-4][0-9]|25[0-5])\\\\.){3}(?:[0-9]|[1-9][0-9]|1[0-9]{2}|2[0-4][0-9]|25[0-5]))|(?:(?:[0-9A-Fa-f]{1,4}:){,2}[0-9A-Fa-f]{1,4})?::(?:[0-9A-Fa-f]{1,4}:){2}(?:[0-9A-Fa-f]{1,4}:[0-9A-Fa-f]{1,4}|(?:(?:[0-9]|[1-9][0-9]|1[0-9]{2}|2[0-4][0-9]|25[0-5])\\\\.){3}(?:[0-9]|[1-9][0-9]|1[0-9]{2}|2[0-4][0-9]|25[0-5]))|(?:(?:[0-9A-Fa-f]{1,4}:){,3}[0-9A-Fa-f]{1,4})?::[0-9A-Fa-f]{1,4}:(?:[0-9A-Fa-f]{1,4}:[0-9A-Fa-f]{1,4}|(?:(?:[0-9]|[1-9][0-9]|1[0-9]{2}|2[0-4][0-9]|25[0-5])\\\\.){3}(?:[0-9]|[1-9][0-9]|1[0-9]{2}|2[0-4][0-9]|25[0-5]))|(?:(?:[0-9A-Fa-f]{1,4}:){,4}[0-9A-Fa-f]{1,4})?::(?:[0-9A-Fa-f]{1,4}:[0-9A-Fa-f]{1,4}|(?:(?:[0-9]|[1-9][0-9]|1[0-9]{2}|2[0-4][0-9]|25[0-5])\\\\.){3}(?:[0-9]|[1-9][0-9]|1[0-9]{2}|2[0-4][0-9]|25[0-5]))|(?:(?:[0-9A-Fa-f]{1,4}:){,5}[0-9A-Fa-f]{1,4})?::[0-9A-Fa-f]{1,4}|(?:(?:[0-9A-Fa-f]{1,4}:){,6}[0-9A-Fa-f]{1,4})?::)(?:%25(?:[A-Za-z0-9\\\\-._~]|%[0-9A-Fa-f]{2})+)?|[Vv][0-9A-Fa-f]+\\\\.(?:[!$&'()*+,;=A-Za-z0-9\\\\-._~]|:)+)\\\\]|(?:%[0-9A-Fa-f]{2}|[!$&'()*+,;=A-Za-z0-9\\\\-._~])*)(?::[0-9]*)?)((?:/(?:(?:%[0-9A-Fa-f]{2}|[!$&'()*+,;=A-Za-z0-9\\\\-._~])|[:@])*)*)|(/(?:(?:(?:%[0-9A-Fa-f]{2}|[!$&'()*+,;=A-Za-z0-9\\\\-._~])|[:@])+(?:/(?:(?:%[0-9A-Fa-f]{2}|[!$&'()*+,;=A-Za-z0-9\\\\-._~])|[:@])*)*)?)|((?:(?:%[0-9A-Fa-f]{2}|[!$&'()*+,;=A-Za-z0-9\\\\-._~])|@)+(?:/(?:(?:%[0-9A-Fa-f]{2}|[!$&'()*+,;=A-Za-z0-9\\\\-._~])|[:@])*)*)|())(?:\\\\?((?:(?:(?:%[0-9A-Fa-f]{2}|[!$&'()*+,;=A-Za-z0-9\\\\-._~])|[:@])|[/?])*))?(?:#((?:(?:(?:%[0-9A-Fa-f]{2}|[!$&'()*+,;=A-Za-z0-9\\\\-._~])|[:@])|[/?])*))?)$\""
   ]
  },
  {
   "cell_type": "code",
   "execution_count": null,
   "id": "9bd1606d",
   "metadata": {},
   "outputs": [],
   "source": [
    "posts_threads_df[\"uris_mentioned\"] = posts_threads_df[\"content\"].apply(lambda x: re.findall(uri_reference, x.lower(), flags=re.IGNORECASE))"
   ]
  },
  {
   "cell_type": "code",
   "execution_count": null,
   "id": "fc2b832d",
   "metadata": {},
   "outputs": [],
   "source": [
    "posts_threads_df[\"uris_mentioned_len\"] = posts_threads_df[\"uris_mentioned\"].apply(lambda x: len(x))"
   ]
  },
  {
   "cell_type": "markdown",
   "id": "d557ffcb",
   "metadata": {},
   "source": [
    "#### Searching URL"
   ]
  },
  {
   "cell_type": "code",
   "execution_count": null,
   "id": "d22a6e26",
   "metadata": {},
   "outputs": [],
   "source": [
    "url_reference = \"http[s]?://(?:[a-zA-Z]|[0-9]|[$-_@.&+]|[!*\\(\\),]|(?:%[0-9a-fA-F][0-9a-fA-F]))+\""
   ]
  },
  {
   "cell_type": "code",
   "execution_count": null,
   "id": "332f554d",
   "metadata": {},
   "outputs": [],
   "source": [
    "posts_threads_df[\"urls_mentioned\"] = posts_threads_df[\"content\"].apply(lambda x: re.findall(url_reference, x.lower(), flags=re.IGNORECASE))"
   ]
  },
  {
   "cell_type": "code",
   "execution_count": null,
   "id": "c501567e",
   "metadata": {},
   "outputs": [],
   "source": [
    "posts_threads_df[\"urls_mentioned_len\"] = posts_threads_df[\"urls_mentioned\"].apply(lambda x: len(x))"
   ]
  },
  {
   "cell_type": "markdown",
   "id": "b481faec",
   "metadata": {},
   "source": [
    "#### Searching URN"
   ]
  },
  {
   "cell_type": "code",
   "execution_count": null,
   "id": "580894fd",
   "metadata": {},
   "outputs": [],
   "source": [
    "urn_reference = \"^(([^:/?#]+)?:)?(//([^/?#]*))?([^?#]*)(\\?([^#]*))?(#(.*))?\"\n",
    "urn_reference = \"^((?P<scheme>[^:/?#]+):(?=//))?(//)?(((?P<login>[^:]+)(?::(?P<password>[^@]+)?)?@)?(?P<host>[^@/?#:]*)(?::(?P<port>\\d+)?)?)?(?P<path>[^?#]*)(\\?(?P<query>[^#]*))?(#(?P<fragment>.*))?\"\n",
    "urn_reference = r'(?:http://|ftp://)?\\w+\\.\\S*[^.\\s]'"
   ]
  },
  {
   "cell_type": "code",
   "execution_count": null,
   "id": "2123f179",
   "metadata": {
    "scrolled": true
   },
   "outputs": [],
   "source": [
    "posts_threads_df[\"urns_mentioned\"] = posts_threads_df[\"content\"].apply(lambda x: re.findall(urn_reference, x.lower(), flags=re.IGNORECASE))"
   ]
  },
  {
   "cell_type": "code",
   "execution_count": null,
   "id": "d637e5f1",
   "metadata": {},
   "outputs": [],
   "source": [
    "posts_threads_df[\"urns_mentioned_len\"] = posts_threads_df[\"urns_mentioned\"].apply(lambda x: len(x))"
   ]
  },
  {
   "cell_type": "markdown",
   "id": "b438cf81",
   "metadata": {},
   "source": [
    "#### Searching Ipv4"
   ]
  },
  {
   "cell_type": "code",
   "execution_count": null,
   "id": "d2bcbf24",
   "metadata": {},
   "outputs": [],
   "source": [
    "ipv4_address = '^(?:(?:[0-9]|[1-9][0-9]|1[0-9]{2}|2[0-4][0-9]|25[0-5])\\\\.){3}(?:[0-9]|[1-9][0-9]|1[0-9]{2}|2[0-4][0-9]|25[0-5])$'"
   ]
  },
  {
   "cell_type": "code",
   "execution_count": null,
   "id": "d93fa935",
   "metadata": {},
   "outputs": [],
   "source": [
    "posts_threads_df[\"ipv4_mentioned\"] = posts_threads_df[\"content\"].apply(lambda x: re.findall(ipv4_address, x.lower(), flags=re.IGNORECASE))"
   ]
  },
  {
   "cell_type": "code",
   "execution_count": null,
   "id": "f34a1648",
   "metadata": {},
   "outputs": [],
   "source": [
    "posts_threads_df[\"ipv4_mentioned_len\"] = posts_threads_df[\"ipv4_mentioned\"].apply(lambda x: len(x))"
   ]
  },
  {
   "cell_type": "code",
   "execution_count": null,
   "id": "4372782a",
   "metadata": {
    "scrolled": true
   },
   "outputs": [],
   "source": [
    "posts_threads_df[posts_threads_df[\"ipv4_mentioned_len\"]>0]"
   ]
  },
  {
   "cell_type": "markdown",
   "id": "2eb0cc4b",
   "metadata": {},
   "source": [
    "#### Searching Ipv6"
   ]
  },
  {
   "cell_type": "code",
   "execution_count": null,
   "id": "331cabe5",
   "metadata": {},
   "outputs": [],
   "source": [
    "ipv6_address = '^(?:(?:[0-9A-Fa-f]{1,4}:){6}(?:[0-9A-Fa-f]{1,4}:[0-9A-Fa-f]{1,4}|(?:(?:[0-9]|[1-9][0-9]|1[0-9]{2}|2[0-4][0-9]|25[0-5])\\\\.){3}(?:[0-9]|[1-9][0-9]|1[0-9]{2}|2[0-4][0-9]|25[0-5]))|::(?:[0-9A-Fa-f]{1,4}:){5}(?:[0-9A-Fa-f]{1,4}:[0-9A-Fa-f]{1,4}|(?:(?:[0-9]|[1-9][0-9]|1[0-9]{2}|2[0-4][0-9]|25[0-5])\\\\.){3}(?:[0-9]|[1-9][0-9]|1[0-9]{2}|2[0-4][0-9]|25[0-5]))|(?:[0-9A-Fa-f]{1,4})?::(?:[0-9A-Fa-f]{1,4}:){4}(?:[0-9A-Fa-f]{1,4}:[0-9A-Fa-f]{1,4}|(?:(?:[0-9]|[1-9][0-9]|1[0-9]{2}|2[0-4][0-9]|25[0-5])\\\\.){3}(?:[0-9]|[1-9][0-9]|1[0-9]{2}|2[0-4][0-9]|25[0-5]))|(?:[0-9A-Fa-f]{1,4}:[0-9A-Fa-f]{1,4})?::(?:[0-9A-Fa-f]{1,4}:){3}(?:[0-9A-Fa-f]{1,4}:[0-9A-Fa-f]{1,4}|(?:(?:[0-9]|[1-9][0-9]|1[0-9]{2}|2[0-4][0-9]|25[0-5])\\\\.){3}(?:[0-9]|[1-9][0-9]|1[0-9]{2}|2[0-4][0-9]|25[0-5]))|(?:(?:[0-9A-Fa-f]{1,4}:){,2}[0-9A-Fa-f]{1,4})?::(?:[0-9A-Fa-f]{1,4}:){2}(?:[0-9A-Fa-f]{1,4}:[0-9A-Fa-f]{1,4}|(?:(?:[0-9]|[1-9][0-9]|1[0-9]{2}|2[0-4][0-9]|25[0-5])\\\\.){3}(?:[0-9]|[1-9][0-9]|1[0-9]{2}|2[0-4][0-9]|25[0-5]))|(?:(?:[0-9A-Fa-f]{1,4}:){,3}[0-9A-Fa-f]{1,4})?::[0-9A-Fa-f]{1,4}:(?:[0-9A-Fa-f]{1,4}:[0-9A-Fa-f]{1,4}|(?:(?:[0-9]|[1-9][0-9]|1[0-9]{2}|2[0-4][0-9]|25[0-5])\\\\.){3}(?:[0-9]|[1-9][0-9]|1[0-9]{2}|2[0-4][0-9]|25[0-5]))|(?:(?:[0-9A-Fa-f]{1,4}:){,4}[0-9A-Fa-f]{1,4})?::(?:[0-9A-Fa-f]{1,4}:[0-9A-Fa-f]{1,4}|(?:(?:[0-9]|[1-9][0-9]|1[0-9]{2}|2[0-4][0-9]|25[0-5])\\\\.){3}(?:[0-9]|[1-9][0-9]|1[0-9]{2}|2[0-4][0-9]|25[0-5]))|(?:(?:[0-9A-Fa-f]{1,4}:){,5}[0-9A-Fa-f]{1,4})?::[0-9A-Fa-f]{1,4}|(?:(?:[0-9A-Fa-f]{1,4}:){,6}[0-9A-Fa-f]{1,4})?::)$'\n",
    "ipv6_addrz = '^(?:(?:[0-9A-Fa-f]{1,4}:){6}(?:[0-9A-Fa-f]{1,4}:[0-9A-Fa-f]{1,4}|(?:(?:[0-9]|[1-9][0-9]|1[0-9]{2}|2[0-4][0-9]|25[0-5])\\\\.){3}(?:[0-9]|[1-9][0-9]|1[0-9]{2}|2[0-4][0-9]|25[0-5]))|::(?:[0-9A-Fa-f]{1,4}:){5}(?:[0-9A-Fa-f]{1,4}:[0-9A-Fa-f]{1,4}|(?:(?:[0-9]|[1-9][0-9]|1[0-9]{2}|2[0-4][0-9]|25[0-5])\\\\.){3}(?:[0-9]|[1-9][0-9]|1[0-9]{2}|2[0-4][0-9]|25[0-5]))|(?:[0-9A-Fa-f]{1,4})?::(?:[0-9A-Fa-f]{1,4}:){4}(?:[0-9A-Fa-f]{1,4}:[0-9A-Fa-f]{1,4}|(?:(?:[0-9]|[1-9][0-9]|1[0-9]{2}|2[0-4][0-9]|25[0-5])\\\\.){3}(?:[0-9]|[1-9][0-9]|1[0-9]{2}|2[0-4][0-9]|25[0-5]))|(?:[0-9A-Fa-f]{1,4}:[0-9A-Fa-f]{1,4})?::(?:[0-9A-Fa-f]{1,4}:){3}(?:[0-9A-Fa-f]{1,4}:[0-9A-Fa-f]{1,4}|(?:(?:[0-9]|[1-9][0-9]|1[0-9]{2}|2[0-4][0-9]|25[0-5])\\\\.){3}(?:[0-9]|[1-9][0-9]|1[0-9]{2}|2[0-4][0-9]|25[0-5]))|(?:(?:[0-9A-Fa-f]{1,4}:){,2}[0-9A-Fa-f]{1,4})?::(?:[0-9A-Fa-f]{1,4}:){2}(?:[0-9A-Fa-f]{1,4}:[0-9A-Fa-f]{1,4}|(?:(?:[0-9]|[1-9][0-9]|1[0-9]{2}|2[0-4][0-9]|25[0-5])\\\\.){3}(?:[0-9]|[1-9][0-9]|1[0-9]{2}|2[0-4][0-9]|25[0-5]))|(?:(?:[0-9A-Fa-f]{1,4}:){,3}[0-9A-Fa-f]{1,4})?::[0-9A-Fa-f]{1,4}:(?:[0-9A-Fa-f]{1,4}:[0-9A-Fa-f]{1,4}|(?:(?:[0-9]|[1-9][0-9]|1[0-9]{2}|2[0-4][0-9]|25[0-5])\\\\.){3}(?:[0-9]|[1-9][0-9]|1[0-9]{2}|2[0-4][0-9]|25[0-5]))|(?:(?:[0-9A-Fa-f]{1,4}:){,4}[0-9A-Fa-f]{1,4})?::(?:[0-9A-Fa-f]{1,4}:[0-9A-Fa-f]{1,4}|(?:(?:[0-9]|[1-9][0-9]|1[0-9]{2}|2[0-4][0-9]|25[0-5])\\\\.){3}(?:[0-9]|[1-9][0-9]|1[0-9]{2}|2[0-4][0-9]|25[0-5]))|(?:(?:[0-9A-Fa-f]{1,4}:){,5}[0-9A-Fa-f]{1,4})?::[0-9A-Fa-f]{1,4}|(?:(?:[0-9A-Fa-f]{1,4}:){,6}[0-9A-Fa-f]{1,4})?::)%25(?:[A-Za-z0-9\\\\-._~]|%[0-9A-Fa-f]{2})+$'\n",
    "ipv6_address_or_addrz = '^(?:(?:[0-9A-Fa-f]{1,4}:){6}(?:[0-9A-Fa-f]{1,4}:[0-9A-Fa-f]{1,4}|(?:(?:[0-9]|[1-9][0-9]|1[0-9]{2}|2[0-4][0-9]|25[0-5])\\\\.){3}(?:[0-9]|[1-9][0-9]|1[0-9]{2}|2[0-4][0-9]|25[0-5]))|::(?:[0-9A-Fa-f]{1,4}:){5}(?:[0-9A-Fa-f]{1,4}:[0-9A-Fa-f]{1,4}|(?:(?:[0-9]|[1-9][0-9]|1[0-9]{2}|2[0-4][0-9]|25[0-5])\\\\.){3}(?:[0-9]|[1-9][0-9]|1[0-9]{2}|2[0-4][0-9]|25[0-5]))|(?:[0-9A-Fa-f]{1,4})?::(?:[0-9A-Fa-f]{1,4}:){4}(?:[0-9A-Fa-f]{1,4}:[0-9A-Fa-f]{1,4}|(?:(?:[0-9]|[1-9][0-9]|1[0-9]{2}|2[0-4][0-9]|25[0-5])\\\\.){3}(?:[0-9]|[1-9][0-9]|1[0-9]{2}|2[0-4][0-9]|25[0-5]))|(?:[0-9A-Fa-f]{1,4}:[0-9A-Fa-f]{1,4})?::(?:[0-9A-Fa-f]{1,4}:){3}(?:[0-9A-Fa-f]{1,4}:[0-9A-Fa-f]{1,4}|(?:(?:[0-9]|[1-9][0-9]|1[0-9]{2}|2[0-4][0-9]|25[0-5])\\\\.){3}(?:[0-9]|[1-9][0-9]|1[0-9]{2}|2[0-4][0-9]|25[0-5]))|(?:(?:[0-9A-Fa-f]{1,4}:){,2}[0-9A-Fa-f]{1,4})?::(?:[0-9A-Fa-f]{1,4}:){2}(?:[0-9A-Fa-f]{1,4}:[0-9A-Fa-f]{1,4}|(?:(?:[0-9]|[1-9][0-9]|1[0-9]{2}|2[0-4][0-9]|25[0-5])\\\\.){3}(?:[0-9]|[1-9][0-9]|1[0-9]{2}|2[0-4][0-9]|25[0-5]))|(?:(?:[0-9A-Fa-f]{1,4}:){,3}[0-9A-Fa-f]{1,4})?::[0-9A-Fa-f]{1,4}:(?:[0-9A-Fa-f]{1,4}:[0-9A-Fa-f]{1,4}|(?:(?:[0-9]|[1-9][0-9]|1[0-9]{2}|2[0-4][0-9]|25[0-5])\\\\.){3}(?:[0-9]|[1-9][0-9]|1[0-9]{2}|2[0-4][0-9]|25[0-5]))|(?:(?:[0-9A-Fa-f]{1,4}:){,4}[0-9A-Fa-f]{1,4})?::(?:[0-9A-Fa-f]{1,4}:[0-9A-Fa-f]{1,4}|(?:(?:[0-9]|[1-9][0-9]|1[0-9]{2}|2[0-4][0-9]|25[0-5])\\\\.){3}(?:[0-9]|[1-9][0-9]|1[0-9]{2}|2[0-4][0-9]|25[0-5]))|(?:(?:[0-9A-Fa-f]{1,4}:){,5}[0-9A-Fa-f]{1,4})?::[0-9A-Fa-f]{1,4}|(?:(?:[0-9A-Fa-f]{1,4}:){,6}[0-9A-Fa-f]{1,4})?::)(?:%25(?:[A-Za-z0-9\\\\-._~]|%[0-9A-Fa-f]{2})+)?$'"
   ]
  },
  {
   "cell_type": "code",
   "execution_count": null,
   "id": "64ea2dcb",
   "metadata": {},
   "outputs": [],
   "source": [
    "posts_threads_df[\"ipv6_mentioned\"] = posts_threads_df[\"content\"].apply(lambda x: re.findall(ipv6_address_or_addrz, x.lower(), flags=re.IGNORECASE))"
   ]
  },
  {
   "cell_type": "code",
   "execution_count": null,
   "id": "270c5d97",
   "metadata": {},
   "outputs": [],
   "source": [
    "posts_threads_df[\"ipv6_mentioned_len\"] = posts_threads_df[\"ipv6_mentioned\"].apply(lambda x: len(x))"
   ]
  },
  {
   "cell_type": "markdown",
   "id": "0bcbd308",
   "metadata": {},
   "source": [
    "### Word References"
   ]
  },
  {
   "cell_type": "markdown",
   "id": "eb2e1dc9",
   "metadata": {},
   "source": [
    "#### Siemens references"
   ]
  },
  {
   "cell_type": "code",
   "execution_count": null,
   "id": "46a42ee9",
   "metadata": {},
   "outputs": [],
   "source": [
    "keywords=[\"siemens\", \"siemens s7\", \"simatic s7\", \"s7\", \"simatic\"]\n",
    "\n",
    "pattern = '|'.join(keywords)"
   ]
  },
  {
   "cell_type": "code",
   "execution_count": null,
   "id": "d24d6c93",
   "metadata": {
    "scrolled": true
   },
   "outputs": [],
   "source": [
    "siemens_df = posts_threads_df[posts_threads_df[\"content\"].str.lower().str.contains(pattern)]\n",
    "siemens_df.info(), siemens_df.shape, siemens_df.iloc[0,:]"
   ]
  },
  {
   "cell_type": "code",
   "execution_count": null,
   "id": "5716167b",
   "metadata": {},
   "outputs": [],
   "source": [
    "siemens_content = ' '.join(siemens_df[\"content\"])"
   ]
  },
  {
   "cell_type": "code",
   "execution_count": null,
   "id": "184da102",
   "metadata": {},
   "outputs": [],
   "source": [
    "siemens_dict = get_words_frequency(siemens_content)\n",
    "len(siemens_dict)"
   ]
  },
  {
   "cell_type": "code",
   "execution_count": null,
   "id": "d1ba773f",
   "metadata": {},
   "outputs": [],
   "source": [
    "showWordCloud(siemens_dict, f\"Siemens-Wordcloud\", max_words=int(len(siemens_dict)))"
   ]
  },
  {
   "cell_type": "markdown",
   "id": "cfec0729",
   "metadata": {},
   "source": [
    "#### Port references"
   ]
  },
  {
   "cell_type": "code",
   "execution_count": null,
   "id": "86990363",
   "metadata": {},
   "outputs": [],
   "source": [
    "keywords=[\"port102\", \"port:102\", \"bacnet\"]\n",
    "\n",
    "pattern = '|'.join(keywords)"
   ]
  },
  {
   "cell_type": "code",
   "execution_count": null,
   "id": "660caa19",
   "metadata": {
    "scrolled": true
   },
   "outputs": [],
   "source": [
    "port102_df = posts_threads_df[posts_threads_df[\"content\"].str.lower().str.contains(pattern)]\n",
    "port102_df.info(), port102_df.shape, port102_df.iloc[0,:]"
   ]
  },
  {
   "cell_type": "code",
   "execution_count": null,
   "id": "88033dd3",
   "metadata": {},
   "outputs": [],
   "source": [
    "port102_content = ' '.join(port102_df[\"content\"])"
   ]
  },
  {
   "cell_type": "code",
   "execution_count": null,
   "id": "24de9915",
   "metadata": {
    "scrolled": true
   },
   "outputs": [],
   "source": [
    "port102_dict = get_words_frequency(port102_content)\n",
    "len(port102_dict)"
   ]
  },
  {
   "cell_type": "code",
   "execution_count": null,
   "id": "a81cfb56",
   "metadata": {},
   "outputs": [],
   "source": [
    "showWordCloud(port102_dict, \"Port:102-Wordcloud\", max_words=int(len(port102_dict)))"
   ]
  },
  {
   "cell_type": "markdown",
   "id": "cfa85cc7",
   "metadata": {},
   "source": [
    "#### CVSS references"
   ]
  },
  {
   "cell_type": "code",
   "execution_count": null,
   "id": "1f84cf31",
   "metadata": {},
   "outputs": [],
   "source": [
    "keywords=[\"cvss\"]\n",
    "\n",
    "pattern = '|'.join(keywords)"
   ]
  },
  {
   "cell_type": "code",
   "execution_count": null,
   "id": "ab2287a4",
   "metadata": {},
   "outputs": [],
   "source": [
    "cvss_df = posts_threads_df[posts_threads_df[\"content\"].str.lower().str.contains(pattern)]\n",
    "cvss_df.info(), cvss_df.shape, cvss_df.iloc[0,:]"
   ]
  },
  {
   "cell_type": "code",
   "execution_count": null,
   "id": "32b96107",
   "metadata": {},
   "outputs": [],
   "source": [
    "cvss_content = ' '.join(cvss_df[\"content\"])"
   ]
  },
  {
   "cell_type": "code",
   "execution_count": null,
   "id": "13493c8c",
   "metadata": {},
   "outputs": [],
   "source": [
    "cvss_dict = get_words_frequency(cvss_content)\n",
    "len(cvss_dict)"
   ]
  },
  {
   "cell_type": "code",
   "execution_count": null,
   "id": "98dc56ad",
   "metadata": {},
   "outputs": [],
   "source": [
    "showWordCloud(cvss_dict, f\"CVSS-Wordcloud\", max_words=int(len(cvss_dict)))"
   ]
  },
  {
   "cell_type": "markdown",
   "id": "826b7f5c",
   "metadata": {},
   "source": [
    "#### EPSS references"
   ]
  },
  {
   "cell_type": "code",
   "execution_count": null,
   "id": "d1644221",
   "metadata": {},
   "outputs": [],
   "source": [
    "keywords=[\"epss\"]\n",
    "\n",
    "pattern = '|'.join(keywords)"
   ]
  },
  {
   "cell_type": "code",
   "execution_count": null,
   "id": "907008ee",
   "metadata": {
    "scrolled": true
   },
   "outputs": [],
   "source": [
    "epss_df = posts_threads_df[posts_threads_df[\"content\"].str.lower().str.contains(pattern)]\n",
    "epss_df.info(), epss_df.shape, epss_df.iloc[0,:]"
   ]
  },
  {
   "cell_type": "code",
   "execution_count": null,
   "id": "a766cc4f",
   "metadata": {},
   "outputs": [],
   "source": [
    "epss_content = ' '.join(epss_df[\"content\"])"
   ]
  },
  {
   "cell_type": "code",
   "execution_count": null,
   "id": "366bbe64",
   "metadata": {},
   "outputs": [],
   "source": [
    "epss_dict = get_words_frequency(epss_content)\n",
    "len(epss_dict)"
   ]
  },
  {
   "cell_type": "code",
   "execution_count": null,
   "id": "38b237fd",
   "metadata": {},
   "outputs": [],
   "source": [
    "showWordCloud(epss_dict, f\"EPSS-Wordcloud\", max_words=int(len(epss_dict)))"
   ]
  },
  {
   "cell_type": "markdown",
   "id": "7451dcf3",
   "metadata": {},
   "source": [
    "#### FUD references"
   ]
  },
  {
   "cell_type": "code",
   "execution_count": null,
   "id": "8a225e2d",
   "metadata": {},
   "outputs": [],
   "source": [
    "keywords=[\"fud\"]\n",
    "\n",
    "pattern = '|'.join(keywords)"
   ]
  },
  {
   "cell_type": "code",
   "execution_count": null,
   "id": "91a0efa2",
   "metadata": {
    "scrolled": true
   },
   "outputs": [],
   "source": [
    "fud_df = posts_threads_df[posts_threads_df[\"content\"].str.lower().str.contains(pattern)]\n",
    "fud_df.info(), fud_df.shape, fud_df.iloc[0,:]"
   ]
  },
  {
   "cell_type": "code",
   "execution_count": null,
   "id": "8535f8f7",
   "metadata": {},
   "outputs": [],
   "source": [
    "fud_content = ' '.join(fud_df[\"content\"])"
   ]
  },
  {
   "cell_type": "code",
   "execution_count": null,
   "id": "01a2b0a0",
   "metadata": {},
   "outputs": [],
   "source": [
    "fud_dict = get_words_frequency(fud_content)\n",
    "len(fud_dict)"
   ]
  },
  {
   "cell_type": "code",
   "execution_count": null,
   "id": "05266ebf",
   "metadata": {},
   "outputs": [],
   "source": [
    "showWordCloud(fud_dict, f\"FUD-Wordcloud\", max_words=int(len(fud_dict)))"
   ]
  },
  {
   "cell_type": "markdown",
   "id": "0661b0a1",
   "metadata": {},
   "source": [
    "#### SHODAN references"
   ]
  },
  {
   "cell_type": "code",
   "execution_count": null,
   "id": "9817866f",
   "metadata": {},
   "outputs": [],
   "source": [
    "keywords=[\"shodan\"]\n",
    "\n",
    "pattern = '|'.join(keywords)"
   ]
  },
  {
   "cell_type": "code",
   "execution_count": null,
   "id": "fd44bedd",
   "metadata": {
    "scrolled": true
   },
   "outputs": [],
   "source": [
    "shodan_df = posts_threads_df[posts_threads_df[\"content\"].str.lower().str.contains(pattern)]\n",
    "shodan_df.info(), shodan_df.shape, shodan_df.iloc[0,:]"
   ]
  },
  {
   "cell_type": "code",
   "execution_count": null,
   "id": "76b4ebc4",
   "metadata": {},
   "outputs": [],
   "source": [
    "shodan_content = ' '.join(shodan_df[\"content\"])"
   ]
  },
  {
   "cell_type": "code",
   "execution_count": null,
   "id": "c6976a1b",
   "metadata": {},
   "outputs": [],
   "source": [
    "shodan_dict = get_words_frequency(shodan_content)\n",
    "len(shodan_dict)"
   ]
  },
  {
   "cell_type": "code",
   "execution_count": null,
   "id": "5a762144",
   "metadata": {},
   "outputs": [],
   "source": [
    "shodan_dict"
   ]
  },
  {
   "cell_type": "code",
   "execution_count": null,
   "id": "adf5fe84",
   "metadata": {},
   "outputs": [],
   "source": [
    "showWordCloud(shodan_dict, \"SHODAN-Wordcloud\", max_words=int(len(shodan_dict)))"
   ]
  },
  {
   "cell_type": "markdown",
   "id": "b2288131",
   "metadata": {},
   "source": [
    "#### COVID References"
   ]
  },
  {
   "cell_type": "code",
   "execution_count": null,
   "id": "7c980a03",
   "metadata": {},
   "outputs": [],
   "source": [
    "keywords=[\"covid\", \"covid19\", \"covid-19\", \"sars\", \"sars-cov-2\", \"sars-cov\"]\n",
    "\n",
    "pattern = '|'.join(keywords)"
   ]
  },
  {
   "cell_type": "code",
   "execution_count": null,
   "id": "0078f70b",
   "metadata": {
    "scrolled": true
   },
   "outputs": [],
   "source": [
    "covid_df = posts_threads_df[posts_threads_df[\"content\"].str.lower().str.contains(pattern)]\n",
    "covid_df.info(), covid_df.shape, covid_df.iloc[0,:]"
   ]
  },
  {
   "cell_type": "code",
   "execution_count": null,
   "id": "1547dab9",
   "metadata": {},
   "outputs": [],
   "source": [
    "covid_content = ' '.join(covid_df[\"content\"])"
   ]
  },
  {
   "cell_type": "code",
   "execution_count": null,
   "id": "87df6e95",
   "metadata": {},
   "outputs": [],
   "source": [
    "covid_dict = get_words_frequency(covid_content)\n",
    "len(covid_dict)"
   ]
  },
  {
   "cell_type": "code",
   "execution_count": null,
   "id": "ebadccc6",
   "metadata": {},
   "outputs": [],
   "source": [
    "showWordCloud(covid_dict, \"COVID-Wordcloud\", max_words=int(len(covid_dict)))"
   ]
  },
  {
   "cell_type": "markdown",
   "id": "8bf0d8c1",
   "metadata": {},
   "source": [
    "#### CVE references"
   ]
  },
  {
   "cell_type": "code",
   "execution_count": null,
   "id": "df7eff17",
   "metadata": {},
   "outputs": [],
   "source": [
    "keywords=[\"cve\"]\n",
    "\n",
    "pattern = '|'.join(keywords)"
   ]
  },
  {
   "cell_type": "code",
   "execution_count": null,
   "id": "ded39a72",
   "metadata": {
    "scrolled": true
   },
   "outputs": [],
   "source": [
    "cve_df = posts_threads_df[posts_threads_df[\"content\"].str.lower().str.contains(pattern)]\n",
    "cve_df.info(), cve_df.shape, cve_df.iloc[0,:]"
   ]
  },
  {
   "cell_type": "code",
   "execution_count": null,
   "id": "08edce35",
   "metadata": {},
   "outputs": [],
   "source": [
    "# cve_df[\"content\"] = cve_df[\"content\"].apply(lambda x: re.sub('[0-9]+', \"\", x) )\n",
    "cve_content = ' '.join(cve_df[\"content\"])"
   ]
  },
  {
   "cell_type": "code",
   "execution_count": null,
   "id": "9b0bb4c5",
   "metadata": {},
   "outputs": [],
   "source": [
    "cve_dict = get_words_frequency(cve_content)\n",
    "len(cve_dict)"
   ]
  },
  {
   "cell_type": "code",
   "execution_count": null,
   "id": "b92ef5bc",
   "metadata": {},
   "outputs": [],
   "source": [
    "showWordCloud(covid_dict, \"CVE-Wordcloud\", max_words=int(len(cve_dict)))"
   ]
  },
  {
   "cell_type": "markdown",
   "id": "7b4680c5",
   "metadata": {},
   "source": [
    "#### Focus on CVE"
   ]
  },
  {
   "cell_type": "code",
   "execution_count": null,
   "id": "197651eb",
   "metadata": {},
   "outputs": [],
   "source": [
    "cve_df[\"cve_codes\"] = cve_df[\"content\"].apply(lambda x: re.findall(r'(cve-[0-9]*-[0-9]*)', x.lower(), flags=re.IGNORECASE) )"
   ]
  },
  {
   "cell_type": "code",
   "execution_count": null,
   "id": "f0bfa0f8",
   "metadata": {},
   "outputs": [],
   "source": [
    "245 129 134"
   ]
  },
  {
   "cell_type": "code",
   "execution_count": null,
   "id": "e92b92e8",
   "metadata": {},
   "outputs": [],
   "source": [
    "import itertools\n",
    "list(set(list(itertools.chain(*cve_df[\"cve_codes\"].values.tolist()))))"
   ]
  },
  {
   "cell_type": "code",
   "execution_count": null,
   "id": "f294f35a",
   "metadata": {},
   "outputs": [],
   "source": [
    "len(list(set(list(itertools.chain(*cve_df[\"cve_codes\"].values.tolist())))))"
   ]
  },
  {
   "cell_type": "code",
   "execution_count": null,
   "id": "f336ab06",
   "metadata": {
    "scrolled": true
   },
   "outputs": [],
   "source": [
    "df__ = pd.read_csv(\"../data/CVE_info.csv\", sep=\",\", low_memory=False, encoding=\"ISO-8859-1\")\n",
    "df__"
   ]
  }
 ],
 "metadata": {
  "kernelspec": {
   "display_name": "Python 3 (ipykernel)",
   "language": "python",
   "name": "python3"
  },
  "language_info": {
   "codemirror_mode": {
    "name": "ipython",
    "version": 3
   },
   "file_extension": ".py",
   "mimetype": "text/x-python",
   "name": "python",
   "nbconvert_exporter": "python",
   "pygments_lexer": "ipython3",
   "version": "3.9.12"
  }
 },
 "nbformat": 4,
 "nbformat_minor": 5
}
