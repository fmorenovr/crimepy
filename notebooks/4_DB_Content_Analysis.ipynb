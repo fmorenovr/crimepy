{
 "cells": [
  {
   "cell_type": "code",
   "execution_count": null,
   "id": "bb9d7924",
   "metadata": {},
   "outputs": [],
   "source": [
    "import pandas as pd\n",
    "import sys, os\n",
    "\n",
    "module_path = os.path.abspath(os.path.join('..'))\n",
    "if module_path not in sys.path:\n",
    "    sys.path.append(module_path)"
   ]
  },
  {
   "cell_type": "code",
   "execution_count": null,
   "id": "3b9d1697",
   "metadata": {},
   "outputs": [],
   "source": [
    "from crimebb import *"
   ]
  },
  {
   "cell_type": "code",
   "execution_count": null,
   "id": "06d434bb",
   "metadata": {},
   "outputs": [],
   "source": [
    "YEAR=\"2021\""
   ]
  },
  {
   "cell_type": "code",
   "execution_count": null,
   "id": "f5a666e5",
   "metadata": {},
   "outputs": [],
   "source": [
    "DATA_PATH=\"../data/\"\n",
    "CSV_PATH = f\"{DATA_PATH}csv/{YEAR}/\""
   ]
  },
  {
   "cell_type": "code",
   "execution_count": null,
   "id": "22b83a56",
   "metadata": {},
   "outputs": [],
   "source": [
    "#!pip install wordcloud"
   ]
  },
  {
   "cell_type": "markdown",
   "id": "18f2af85",
   "metadata": {},
   "source": [
    "### Loading data"
   ]
  },
  {
   "cell_type": "markdown",
   "id": "6e9f9549",
   "metadata": {},
   "source": [
    "#### boards"
   ]
  },
  {
   "cell_type": "code",
   "execution_count": null,
   "id": "b0084dd9",
   "metadata": {},
   "outputs": [],
   "source": [
    "boards_df = pd.read_csv(f\"{CSV_PATH}boards.csv\", sep=\"\\t\", low_memory=False)\n",
    "boards_df[\"url\"] = boards_df[\"url\"].apply(lambda x: x.replace(\"antichat.com\", \"forum.antichat.ru\"))\n",
    "boards_df[\"site_name\"] = boards_df[\"url\"].apply(lambda x: (x.replace(\"https://\", \"\")).split(\"/\")[0] if \"https\" in x else (x.replace(\"http://\", \"\")).split(\"/\")[0] )\n",
    "boards_df.drop_duplicates(inplace=True)\n",
    "boards_df = boards_df[[\"id\", \"site_id\", \"site_name\", \"name\", \"url\"]].copy().drop_duplicates()\n",
    "boards_df.rename(columns={\"id\":\"board_id\", \"name\":\"board_title\", \"url\":\"board_url\"}, inplace=True)\n",
    "boards_df"
   ]
  },
  {
   "cell_type": "markdown",
   "id": "1c452183",
   "metadata": {},
   "source": [
    "#### Threads"
   ]
  },
  {
   "cell_type": "code",
   "execution_count": null,
   "id": "9e5f4127",
   "metadata": {},
   "outputs": [],
   "source": [
    "threads_df = pd.read_csv(f\"{CSV_PATH}threads.csv\", sep=\"\\t\", low_memory=False)\n",
    "threads_df[\"url\"] = threads_df[\"url\"].apply(lambda x: x.replace(\"antichat.com\", \"forum.antichat.ru\"))\n",
    "threads_df.drop_duplicates(inplace=True)\n",
    "threads_df = threads_df[[\"id\", \"site_id\", \"board_id\", \"creator\", \"creator_id\", \"name\", \"url\", \"created_on\"]].copy().drop_duplicates()\n",
    "threads_df.rename(columns={\"creator\":\"username\", \"id\":\"thread_id\", \"creator_id\":\"user_id\", \"name\":\"thread_title\", \"url\":\"thread_url\", \"created_on\": \"thread_data_creation\"}, inplace=True)\n",
    "threads_df = threads_df[ (threads_df[\"username\"].str.lower()!=\"none\") & (~threads_df[\"username\"].isna()) ].copy().drop_duplicates()\n",
    "threads_df"
   ]
  },
  {
   "cell_type": "markdown",
   "id": "28acda76",
   "metadata": {},
   "source": [
    "#### posts"
   ]
  },
  {
   "cell_type": "code",
   "execution_count": null,
   "id": "0f043549",
   "metadata": {},
   "outputs": [],
   "source": [
    "posts_df = pd.read_csv(f\"{CSV_PATH}posts.csv\", sep=\"\\t\", low_memory=False)\n",
    "posts_df.drop_duplicates(inplace=True)\n",
    "posts_df = posts_df[[\"id\", \"site_id\", \"board_id\", \"thread_id\", \"creator\", \"creator_id\", \"creator_n_posts\", \"creator_reputation\", \"content\", \"quoted_post_ids\", \"created_on\"]].copy().drop_duplicates()\n",
    "posts_df.rename(columns={\"creator\":\"username\", \"id\":\"post_id\", \"creator_id\":\"user_id\", \"creator_n_posts\":\"user_num_posts\", \"creator_reputation\":\"user_reputation\", \"created_on\": \"post_data_creation\"}, inplace=True)\n",
    "posts_df = posts_df[ (posts_df[\"username\"].str.lower()!=\"none\") & (~posts_df[\"username\"].isna()) ].copy().drop_duplicates()\n",
    "posts_df"
   ]
  },
  {
   "cell_type": "code",
   "execution_count": null,
   "id": "c2f8a72a",
   "metadata": {},
   "outputs": [],
   "source": []
  },
  {
   "cell_type": "code",
   "execution_count": null,
   "id": "49f92b92",
   "metadata": {},
   "outputs": [],
   "source": [
    "posts_df[\"language_deteced\"] = posts_df[\"content\"].apply(lambda x: detect_language(str(x)) )"
   ]
  },
  {
   "cell_type": "code",
   "execution_count": null,
   "id": "5b5fbdbf",
   "metadata": {},
   "outputs": [],
   "source": [
    "posts_df[\"language\"] = posts_df[\"language_detected\"].apply(lambda x: max(x, key=x.get) )"
   ]
  },
  {
   "cell_type": "code",
   "execution_count": null,
   "id": "fd5ca7a3",
   "metadata": {},
   "outputs": [],
   "source": [
    "posts_df[posts_df[\"language\"]!=\"portuguese\"]"
   ]
  }
 ],
 "metadata": {
  "kernelspec": {
   "display_name": "Python 3 (ipykernel)",
   "language": "python",
   "name": "python3"
  },
  "language_info": {
   "codemirror_mode": {
    "name": "ipython",
    "version": 3
   },
   "file_extension": ".py",
   "mimetype": "text/x-python",
   "name": "python",
   "nbconvert_exporter": "python",
   "pygments_lexer": "ipython3",
   "version": "3.8.13"
  }
 },
 "nbformat": 4,
 "nbformat_minor": 5
}
