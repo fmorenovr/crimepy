{
 "cells": [
  {
   "cell_type": "code",
   "execution_count": null,
   "id": "bb9d7924",
   "metadata": {},
   "outputs": [],
   "source": [
    "import pandas as pd\n",
    "import sys, os\n",
    "\n",
    "module_path = os.path.abspath(os.path.join('../..'))\n",
    "if module_path not in sys.path:\n",
    "    sys.path.append(module_path)"
   ]
  },
  {
   "cell_type": "code",
   "execution_count": null,
   "id": "3b9d1697",
   "metadata": {},
   "outputs": [],
   "source": [
    "from crimebb import *"
   ]
  },
  {
   "cell_type": "code",
   "execution_count": null,
   "id": "624ec6d3",
   "metadata": {},
   "outputs": [],
   "source": [
    "from tqdm.notebook import tqdm\n",
    "\n",
    "tqdm.pandas()"
   ]
  },
  {
   "cell_type": "code",
   "execution_count": null,
   "id": "06d434bb",
   "metadata": {},
   "outputs": [],
   "source": [
    "YEAR=\"2021\""
   ]
  },
  {
   "cell_type": "code",
   "execution_count": null,
   "id": "f5a666e5",
   "metadata": {},
   "outputs": [],
   "source": [
    "DATA_PATH=\"../../data/\"\n",
    "CSV_PATH = f\"{DATA_PATH}csv/{YEAR}/summary/\"\n",
    "CSV_PROCESSED = f\"{DATA_PATH}csv/{YEAR}/processed/\""
   ]
  },
  {
   "cell_type": "code",
   "execution_count": null,
   "id": "02b1a606",
   "metadata": {},
   "outputs": [],
   "source": [
    "verifyDir(CSV_PROCESSED)"
   ]
  },
  {
   "cell_type": "markdown",
   "id": "18f2af85",
   "metadata": {},
   "source": [
    "### Loading and Analyzing Language"
   ]
  },
  {
   "cell_type": "code",
   "execution_count": null,
   "id": "d99153f0",
   "metadata": {},
   "outputs": [],
   "source": [
    "language_to_eval = [\"russian\", \"german\", \"english\"]"
   ]
  },
  {
   "cell_type": "code",
   "execution_count": null,
   "id": "8c980d64",
   "metadata": {},
   "outputs": [],
   "source": [
    "chunk_size = 1000000\n",
    "\n",
    "crime_reader = pd.read_csv(f\"{CSV_PROCESSED}crimeBB_{YEAR}.csv\", sep=\"\\t\", low_memory=False, iterator=True)\n",
    "            \n",
    "language_df = pd.DataFrame()\n",
    "\n",
    "len_readed=chunk_size\n",
    "while len_readed>=chunk_size:\n",
    "    current_df = crime_reader.get_chunk(chunk_size).copy()\n",
    "    current_df.drop_duplicates(inplace=True)\n",
    "    \n",
    "    content_df = current_df[[\"post_id\", \"site_id\", \"board_id\", \"thread_id\", \"content\"]].copy()\n",
    "    content_df = content_df[~content_df[\"content\"].isna()].copy().drop_duplicates()\n",
    "    \n",
    "    os.exit()\n",
    "    break\n",
    "    \n",
    "    # content_df[\"content_processed\"] = content_df[\"content\"].apply(lambda x: re.sub('[\\\\\\\\\\'\\\"+@_!#$%^&*,;().<>?/\\|\\[\\]}{~:=\\n]', \" \", x) )\n",
    "    # content_df[\"content_processed\"] = content_df[\"content_processed\"].apply(str.lower)\n",
    "    content_df[\"lang_ratio\"] = np.nan\n",
    "    content_df[\"language_detected\"] = np.nan\n",
    "    content_df[\"lang_correct_words\"] = np.nan\n",
    "    content_df[\"len_correct_words\"] = np.nan\n",
    "    content_df[\"lang_incorrect_words\"] = np.nan\n",
    "    content_df[\"len_incorrect_words\"] = np.nan\n",
    "\n",
    "    language_df = pd.concat([language_df, content_df], ignore_index=True)\n",
    "\n",
    "    len_readed = current_df.shape[0]"
   ]
  },
  {
   "cell_type": "code",
   "execution_count": null,
   "id": "08f75d83",
   "metadata": {},
   "outputs": [],
   "source": [
    "crimeBB_df = pd.read_csv(f\"{CSV_PROCESSED}crimeBB_{YEAR}.csv\", sep=\"\\t\", low_memory=False)"
   ]
  },
  {
   "cell_type": "code",
   "execution_count": null,
   "id": "451abd7d",
   "metadata": {},
   "outputs": [],
   "source": [
    "crimeBB_df"
   ]
  },
  {
   "cell_type": "markdown",
   "id": "60cd31d5",
   "metadata": {},
   "source": [
    "#### Detecting languages"
   ]
  },
  {
   "cell_type": "code",
   "execution_count": null,
   "id": "e4a2d998",
   "metadata": {},
   "outputs": [],
   "source": [
    "if verifyFile(f\"{CSV_PROCESSED}content_languages.csv\"):\n",
    "    content_df = pd.read_csv(f\"{CSV_PROCESSED}content_languages.csv\", sep=\"\\t\", low_memory=False)\n",
    "    list_post = content_df[~content_df[\"language_detected\"].isna()][\"post_id\"].values\n",
    "else:\n",
    "    content_df = crimeBB_df[[\"post_id\", \"site_id\", \"board_id\", \"thread_id\", \"content\"]].copy()\n",
    "    content_df = content_df[~content_df[\"content\"].isna()].copy().drop_duplicates()\n",
    "    # content_df[\"content_processed\"] = content_df[\"content\"].apply(lambda x: re.sub('[\\\\\\\\\\'\\\"+@_!#$%^&*,;().<>?/\\|\\[\\]}{~:=\\n]', \" \", x) )\n",
    "    # content_df[\"content_processed\"] = content_df[\"content_processed\"].apply(str.lower)\n",
    "    content_df[\"lang_ratio\"] = np.nan\n",
    "    content_df[\"language_detected\"] = np.nan\n",
    "    content_df[\"lang_correct_words\"] = np.nan\n",
    "    content_df[\"len_correct_words\"] = np.nan\n",
    "    content_df[\"lang_incorrect_words\"] = np.nan\n",
    "    content_df[\"len_incorrect_words\"] = np.nan\n",
    "    list_post = []"
   ]
  },
  {
   "cell_type": "code",
   "execution_count": null,
   "id": "5b67b0fe",
   "metadata": {
    "scrolled": true
   },
   "outputs": [],
   "source": [
    "content_df"
   ]
  },
  {
   "cell_type": "code",
   "execution_count": null,
   "id": "e54fd8d6",
   "metadata": {
    "scrolled": true
   },
   "outputs": [],
   "source": [
    "count = 1\n",
    "for index, row in tqdm(content_df.iterrows()):\n",
    "    \n",
    "    lang_ratio, lang_detected, lang_badwords, lang_goodwords = detect_language_and_words(row[\"content\"], language_to_eval=language_to_eval)\n",
    "    \n",
    "    content_df.loc[index, \"lang_ratio\"] = [lang_ratio]\n",
    "    content_df.loc[index, \"language_detected\"] = lang_detected\n",
    "    #content_df.loc[(d_manejo_key['TpRem'] == 'MANEJO'), \"language_detected\"] = lang_detected\n",
    "    content_df.loc[index, \"lang_correct_words\"] = {\"_\":lang_goodwords}\n",
    "    content_df.loc[index, \"len_correct_words\"] = len(lang_goodwords)\n",
    "    content_df.loc[index, \"lang_incorrect_words\"] = {\"_\":lang_badwords}\n",
    "    content_df.loc[index, \"len_incorrect_words\"] = len(lang_badwords)\n",
    "\n",
    "    if count%10000==0: # grava cada 10 k muestras\n",
    "        content_df.to_csv(f\"{CSV_PROCESSED}content_languages.csv\", sep='\\t', index=False)\n",
    "    \n",
    "    count+=1\n",
    "    "
   ]
  },
  {
   "cell_type": "code",
   "execution_count": null,
   "id": "0666fbac",
   "metadata": {},
   "outputs": [],
   "source": [
    "content_df.to_csv(f\"{CSV_PROCESSED}content_languages.csv\", sep='\\t', index=False)"
   ]
  },
  {
   "cell_type": "markdown",
   "id": "08f1bcfc",
   "metadata": {},
   "source": [
    "### Languages"
   ]
  },
  {
   "cell_type": "code",
   "execution_count": null,
   "id": "c42e3f16",
   "metadata": {},
   "outputs": [],
   "source": [
    "lang_post_df = content_df.pivot_table(columns=['language_detected'], aggfunc='size')\n",
    "lang_post_df.sort_values(ascending=False, inplace=True)\n",
    "lang_post_df"
   ]
  },
  {
   "cell_type": "code",
   "execution_count": null,
   "id": "6be0f188",
   "metadata": {
    "scrolled": false
   },
   "outputs": [],
   "source": [
    "mean_val = round(lang_post_df.mean(), 2)\n",
    "\n",
    "import matplotlib.pyplot as plt\n",
    "\n",
    "fig, ax = plt.subplots(figsize=(16,8))\n",
    "ax.bar(lang_post_df.index.values, lang_post_df.values)\n",
    "\n",
    "for x,y,p in zip(lang_post_df.index.values, lang_post_df.values, lang_post_df.values):\n",
    "  plt.text(x, y, p)\n",
    "plt.xlabel(\"Languages detected\")\n",
    "plt.ylabel(\"Number of documents\")\n",
    "plt.title(f\"Number of documents per language, Avg: {mean_val}\")\n",
    "plt.show()"
   ]
  },
  {
   "cell_type": "markdown",
   "id": "40024980",
   "metadata": {},
   "source": [
    "#### Russian"
   ]
  },
  {
   "cell_type": "code",
   "execution_count": null,
   "id": "68726af1",
   "metadata": {},
   "outputs": [],
   "source": [
    "russian_df = content_df[content_df[\"language_detected\"]==\"russian\"].copy()\n",
    "russian_df.info(), russian_df.shape, russian_df.iloc[0,:]"
   ]
  },
  {
   "cell_type": "code",
   "execution_count": null,
   "id": "6404667d",
   "metadata": {},
   "outputs": [],
   "source": [
    "russian_content = ' '.join(russian_df[\"content\"])"
   ]
  },
  {
   "cell_type": "code",
   "execution_count": null,
   "id": "2bf431eb",
   "metadata": {},
   "outputs": [],
   "source": [
    "russian_dict = get_text_frequency(russian_content)\n",
    "len(russian_dict)"
   ]
  },
  {
   "cell_type": "code",
   "execution_count": null,
   "id": "93c2c479",
   "metadata": {},
   "outputs": [],
   "source": [
    "showWordCloud(russian_dict, f\"Russian-Wordcloud\", max_words=int(len(russian_dict)))"
   ]
  },
  {
   "cell_type": "markdown",
   "id": "aa24c723",
   "metadata": {},
   "source": [
    "#### English"
   ]
  },
  {
   "cell_type": "code",
   "execution_count": null,
   "id": "f0bab7c7",
   "metadata": {},
   "outputs": [],
   "source": [
    "english_df = content_df[content_df[\"language_detected\"]==\"english\"].copy()\n",
    "english_df.info(), english_df.shape, english_df.iloc[0,:]"
   ]
  },
  {
   "cell_type": "code",
   "execution_count": null,
   "id": "6e4c0ddd",
   "metadata": {},
   "outputs": [],
   "source": [
    "english_content = ' '.join(english_df[\"content\"])"
   ]
  },
  {
   "cell_type": "code",
   "execution_count": null,
   "id": "c0f614d3",
   "metadata": {},
   "outputs": [],
   "source": [
    "english_dict = get_text_frequency(english_content)\n",
    "len(english_dict)"
   ]
  },
  {
   "cell_type": "code",
   "execution_count": null,
   "id": "f94506a5",
   "metadata": {},
   "outputs": [],
   "source": [
    "showWordCloud(english_dict, f\"English-Wordcloud\", max_words=int(len(english_dict)))"
   ]
  },
  {
   "cell_type": "markdown",
   "id": "76c59438",
   "metadata": {},
   "source": [
    "#### German"
   ]
  },
  {
   "cell_type": "code",
   "execution_count": null,
   "id": "2ad577c7",
   "metadata": {},
   "outputs": [],
   "source": [
    "german_df = content_df[content_df[\"language_detected\"]==\"german\"].copy()\n",
    "german_df.info(), german_df.shape, german_df.iloc[0,:]"
   ]
  },
  {
   "cell_type": "code",
   "execution_count": null,
   "id": "a270ed4a",
   "metadata": {},
   "outputs": [],
   "source": [
    "german_content = ' '.join(german_df[\"content\"])"
   ]
  },
  {
   "cell_type": "code",
   "execution_count": null,
   "id": "609fc7b5",
   "metadata": {},
   "outputs": [],
   "source": [
    "german_dict = get_text_frequency(german_content)\n",
    "len(german_dict)"
   ]
  },
  {
   "cell_type": "code",
   "execution_count": null,
   "id": "0ba7fa79",
   "metadata": {},
   "outputs": [],
   "source": [
    "showWordCloud(german_dict, f\"German-Wordcloud\", max_words=int(len(german_dict)))"
   ]
  }
 ],
 "metadata": {
  "kernelspec": {
   "display_name": "Python 3 (ipykernel)",
   "language": "python",
   "name": "python3"
  },
  "language_info": {
   "codemirror_mode": {
    "name": "ipython",
    "version": 3
   },
   "file_extension": ".py",
   "mimetype": "text/x-python",
   "name": "python",
   "nbconvert_exporter": "python",
   "pygments_lexer": "ipython3",
   "version": "3.9.12"
  }
 },
 "nbformat": 4,
 "nbformat_minor": 5
}
