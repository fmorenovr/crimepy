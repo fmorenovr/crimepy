{
 "cells": [
  {
   "cell_type": "code",
   "execution_count": null,
   "id": "fc013e83",
   "metadata": {},
   "outputs": [],
   "source": [
    "import pandas as pd\n",
    "import sys, os\n",
    "\n",
    "module_path = os.path.abspath(os.path.join('../..'))\n",
    "if module_path not in sys.path:\n",
    "    sys.path.append(module_path)"
   ]
  },
  {
   "cell_type": "code",
   "execution_count": null,
   "id": "fe4e8f22",
   "metadata": {},
   "outputs": [],
   "source": [
    "from crimebb import *"
   ]
  },
  {
   "cell_type": "code",
   "execution_count": null,
   "id": "f96c0d3b",
   "metadata": {},
   "outputs": [],
   "source": [
    "YEAR=\"2021\""
   ]
  },
  {
   "cell_type": "code",
   "execution_count": null,
   "id": "2e0acb70",
   "metadata": {},
   "outputs": [],
   "source": [
    "DATA_PATH=\"../../data/\"\n",
    "CSV_PROCESSED = f\"{DATA_PATH}csv/{YEAR}/processed/\""
   ]
  },
  {
   "cell_type": "markdown",
   "id": "23b41b35",
   "metadata": {},
   "source": [
    "### Exploring data"
   ]
  },
  {
   "cell_type": "markdown",
   "id": "b7d53575",
   "metadata": {},
   "source": [
    "#### members"
   ]
  },
  {
   "cell_type": "code",
   "execution_count": null,
   "id": "8f4b7826",
   "metadata": {
    "scrolled": true
   },
   "outputs": [],
   "source": [
    "members_df = pd.read_csv(f\"{CSV_PROCESSED}members.csv\", sep=\"\\t\", low_memory=False)\n",
    "members_df"
   ]
  },
  {
   "cell_type": "markdown",
   "id": "587935dd",
   "metadata": {},
   "source": [
    "#### websites"
   ]
  },
  {
   "cell_type": "code",
   "execution_count": null,
   "id": "d42737d2",
   "metadata": {},
   "outputs": [],
   "source": [
    "website_df = pd.read_csv(f\"{CSV_PROCESSED}sites.csv\", sep=\"\\t\", low_memory=False)\n",
    "website_df"
   ]
  },
  {
   "cell_type": "markdown",
   "id": "12d318ba",
   "metadata": {},
   "source": [
    "#### boards"
   ]
  },
  {
   "cell_type": "code",
   "execution_count": null,
   "id": "f453423d",
   "metadata": {},
   "outputs": [],
   "source": [
    "boards_df = pd.read_csv(f\"{CSV_PROCESSED}boards.csv\", sep=\"\\t\", low_memory=False)\n",
    "boards_df"
   ]
  },
  {
   "cell_type": "markdown",
   "id": "82ab8399",
   "metadata": {},
   "source": [
    "#### threads"
   ]
  },
  {
   "cell_type": "code",
   "execution_count": null,
   "id": "3952a70d",
   "metadata": {},
   "outputs": [],
   "source": [
    "threads_df = pd.read_csv(f\"{CSV_PROCESSED}threads.csv\", sep=\"\\t\", low_memory=False)\n",
    "threads_df"
   ]
  },
  {
   "cell_type": "markdown",
   "id": "e9c1e689",
   "metadata": {},
   "source": [
    "#### Posts"
   ]
  },
  {
   "cell_type": "code",
   "execution_count": null,
   "id": "cae5e86d",
   "metadata": {
    "scrolled": true
   },
   "outputs": [],
   "source": [
    "chunk_size = 1000000\n",
    "\n",
    "posts_reader = pd.read_csv(f\"{CSV_PROCESSED}posts.csv\", sep=\"\\t\", low_memory=False, iterator=True)\n",
    "            \n",
    "posts_df = pd.DataFrame()\n",
    "\n",
    "len_readed=chunk_size\n",
    "while len_readed>=chunk_size:\n",
    "    cur_posts_df = posts_reader.get_chunk(chunk_size).copy()\n",
    "    cur_posts_df.drop_duplicates(inplace=True)\n",
    "\n",
    "    posts_df = pd.concat([posts_df, cur_posts_df], ignore_index=True)\n",
    "\n",
    "    len_readed = cur_posts_df.shape[0]"
   ]
  },
  {
   "cell_type": "code",
   "execution_count": null,
   "id": "9e62c1ec",
   "metadata": {},
   "outputs": [],
   "source": [
    "posts_df.info()"
   ]
  },
  {
   "cell_type": "markdown",
   "id": "59272e44",
   "metadata": {},
   "source": [
    "### Removing none values"
   ]
  },
  {
   "cell_type": "markdown",
   "id": "9ec1eaa8",
   "metadata": {},
   "source": [
    "#### Members"
   ]
  },
  {
   "cell_type": "code",
   "execution_count": null,
   "id": "82b24d6a",
   "metadata": {},
   "outputs": [],
   "source": [
    "members_df = members_df[ (members_df[\"username\"].str.lower()!=\"none\")].copy().drop_duplicates()\n",
    "members_df = members_df[ (~members_df[\"username\"].isna()) ].copy().drop_duplicates()\n",
    "\n",
    "members_df"
   ]
  },
  {
   "cell_type": "markdown",
   "id": "a7812140",
   "metadata": {},
   "source": [
    "#### Threads"
   ]
  },
  {
   "cell_type": "code",
   "execution_count": null,
   "id": "2ccffa43",
   "metadata": {},
   "outputs": [],
   "source": [
    "threads_df = threads_df[ (threads_df[\"username\"].str.lower()!=\"none\") ].copy().drop_duplicates()\n",
    "threads_df = threads_df[ (~threads_df[\"username\"].isna()) ].copy().drop_duplicates()\n",
    "\n",
    "threads_df"
   ]
  },
  {
   "cell_type": "markdown",
   "id": "866f01c9",
   "metadata": {},
   "source": [
    "#### Posts"
   ]
  },
  {
   "cell_type": "code",
   "execution_count": null,
   "id": "93da8136",
   "metadata": {
    "scrolled": true
   },
   "outputs": [],
   "source": [
    "posts_df = posts_df[ (posts_df[\"username\"].str.lower()!=\"none\") ].copy().drop_duplicates()\n",
    "posts_df = posts_df[ (~posts_df[\"username\"].isna()) ].copy().drop_duplicates()\n",
    "\n",
    "posts_df"
   ]
  },
  {
   "cell_type": "markdown",
   "id": "7fa03754",
   "metadata": {},
   "source": [
    "### Members x Sites"
   ]
  },
  {
   "cell_type": "code",
   "execution_count": null,
   "id": "558145b7",
   "metadata": {},
   "outputs": [],
   "source": [
    "member_website = pd.merge(members_df[[\"username\", \"site_id\"]].drop_duplicates(),\n",
    "                          boards_df[[\"site_id\", \"site_name\"]].drop_duplicates(),\n",
    "                          on=\"site_id\", how=\"left\").drop_duplicates()\n",
    "member_website"
   ]
  },
  {
   "cell_type": "markdown",
   "id": "ff09489a",
   "metadata": {},
   "source": [
    "### Site x Member"
   ]
  },
  {
   "cell_type": "code",
   "execution_count": null,
   "id": "dcface63",
   "metadata": {
    "scrolled": true
   },
   "outputs": [],
   "source": [
    "site_users_df = pd.pivot_table(member_website,\n",
    "                 index=[\"site_name\"],\n",
    "                 values=[\"username\"],\n",
    "                 aggfunc={\n",
    "                     \"username\":len\n",
    "                 }\n",
    "                ).sort_values(by=\"username\", ascending=False).reset_index(level=0)\n",
    "site_users_df.set_index('site_name', inplace=True)\n",
    "site_users_df.rename(columns={\"username\":\"num_users\"}, inplace=True)\n",
    "site_users_df"
   ]
  },
  {
   "cell_type": "code",
   "execution_count": null,
   "id": "e4ffdbe8",
   "metadata": {},
   "outputs": [],
   "source": [
    "mean_val = round(site_users_df[\"num_users\"].mean(), 2)\n",
    "\n",
    "ax = site_users_df.plot(kind=\"bar\", figsize=(16,8), title=f\"Número de usuarios por website, Avg: {mean_val}\", xlabel=\"Site name\", ylabel=\"usuarios\", rot=45)\n",
    "# ax.legend(list(temp_df[\"site_name\"]))\n",
    "ax.get_legend().remove()"
   ]
  },
  {
   "cell_type": "markdown",
   "id": "cca41db6",
   "metadata": {},
   "source": [
    "### Boards"
   ]
  },
  {
   "cell_type": "markdown",
   "id": "3b5aab92",
   "metadata": {},
   "source": [
    "topic x website"
   ]
  },
  {
   "cell_type": "code",
   "execution_count": null,
   "id": "80204cf1",
   "metadata": {},
   "outputs": [],
   "source": [
    "topics_website_df = pd.pivot_table(boards_df[[\"site_name\", \"board_title\"]].drop_duplicates(),\n",
    "                                 index=[\"site_name\"],\n",
    "                                 values=[\"board_title\"],\n",
    "                                 aggfunc={\n",
    "                                     \"board_title\":len\n",
    "                                 }\n",
    "                                ).sort_values(by=\"board_title\", ascending=False).reset_index(level=0)\n",
    "topics_website_df.set_index('site_name', inplace=True)\n",
    "topics_website_df.rename(columns={\"board_title\":\"num_boards_created\"}, inplace=True)\n",
    "topics_website_df"
   ]
  },
  {
   "cell_type": "code",
   "execution_count": null,
   "id": "ebd18091",
   "metadata": {},
   "outputs": [],
   "source": [
    "mean_val = round(topics_website_df[\"num_boards_created\"].mean(), 2)\n",
    "\n",
    "ax = topics_website_df.plot(kind=\"bar\", figsize=(16,8), title=f\"Número de topicos por website, Avg: {mean_val}\", xlabel=\"Site name\", ylabel=\"usuarios\", rot=45)\n",
    "# ax.legend(list(temp_df[\"site_name\"]))\n",
    "ax.get_legend().remove()"
   ]
  },
  {
   "cell_type": "markdown",
   "id": "ffa31e12",
   "metadata": {},
   "source": [
    "### Boards x Members"
   ]
  },
  {
   "cell_type": "markdown",
   "id": "0ca65578",
   "metadata": {},
   "source": [
    "##### usermane x website"
   ]
  },
  {
   "cell_type": "code",
   "execution_count": null,
   "id": "c3f9c691",
   "metadata": {},
   "outputs": [],
   "source": [
    "users_sites_df = pd.pivot_table(member_website,\n",
    "                 index=[\"username\"],\n",
    "                 values=[\"site_name\"],\n",
    "                 aggfunc={\n",
    "                     \"site_name\":len\n",
    "                 }\n",
    "                ).sort_values(by=\"site_name\", ascending=False).reset_index(level=0)\n",
    "users_sites_df.rename(columns={\"site_name\":\"num_websites_registered\"}, inplace=True)\n",
    "users_sites_df.set_index(\"username\", inplace=True)\n",
    "users_sites_df"
   ]
  },
  {
   "cell_type": "code",
   "execution_count": null,
   "id": "7f6a5519",
   "metadata": {},
   "outputs": [],
   "source": [
    "users_sites_ = users_sites_df.pivot_table(columns=['num_websites_cadastrado'], aggfunc='size')\n",
    "users_sites_"
   ]
  },
  {
   "cell_type": "code",
   "execution_count": null,
   "id": "c284eb27",
   "metadata": {},
   "outputs": [],
   "source": [
    "ax = users_sites_.plot(kind=\"bar\", figsize=(16,8), title=f\"Frequencia do número de páginas interagidas por usuarios, Avg: {users_sites_.mean()}\", xlabel=\"Freqeuencia de usuarios cadastrados por pagina\", ylabel=\"Quantidade de usuarios\", rot=0)\n",
    "# ax.legend(list(temp_df[\"site_name\"]))\n",
    "#ax.get_legend().remove()"
   ]
  },
  {
   "cell_type": "markdown",
   "id": "d161f360",
   "metadata": {},
   "source": [
    "### Threads"
   ]
  },
  {
   "cell_type": "markdown",
   "id": "8fdafb03",
   "metadata": {},
   "source": [
    "#### Threads x Boards"
   ]
  },
  {
   "cell_type": "code",
   "execution_count": null,
   "id": "4411ef4a",
   "metadata": {
    "scrolled": true
   },
   "outputs": [],
   "source": [
    "board_threads_df = pd.merge(threads_df, boards_df[[\"board_id\", \"site_id\", \"site_name\", \"board_title\"]], how=\"left\", on=[\"site_id\", \"board_id\"])\n",
    "board_threads_df"
   ]
  },
  {
   "cell_type": "code",
   "execution_count": null,
   "id": "3d8cf1ea",
   "metadata": {},
   "outputs": [],
   "source": [
    "site_threads_df = pd.pivot_table(board_threads_df,\n",
    "                 index=[\"site_name\"],\n",
    "                 values=[\"thread_id\"],\n",
    "                 aggfunc={\n",
    "                     \"thread_id\":len\n",
    "                 }\n",
    "                ).sort_values(by=\"thread_id\", ascending=False).reset_index(level=0)\n",
    "site_threads_df.set_index('site_name', inplace=True)\n",
    "site_threads_df.rename(columns={\"thread_id\":\"num_threads_created\"}, inplace=True)\n",
    "site_threads_df"
   ]
  },
  {
   "cell_type": "code",
   "execution_count": null,
   "id": "26097a51",
   "metadata": {
    "scrolled": false
   },
   "outputs": [],
   "source": [
    "mean_val = round(site_threads_df[\"num_threads_created\"].mean(), 2)\n",
    "\n",
    "ax = site_threads_df.plot(kind=\"bar\", figsize=(16,8), title=f\"Número de threads por website, Avg: {mean_val}\", xlabel=\"Site name\", ylabel=\"Num threads\", rot=45)\n",
    "# ax.legend(list(temp_df[\"site_name\"]))\n",
    "ax.get_legend().remove()"
   ]
  },
  {
   "cell_type": "markdown",
   "id": "51ab737c",
   "metadata": {},
   "source": [
    "### Threads x Members"
   ]
  },
  {
   "cell_type": "markdown",
   "id": "5ad77b4e",
   "metadata": {},
   "source": [
    "o usuário 1 criou muitos threads, em geral todos os usuários criaram 1 thread. "
   ]
  },
  {
   "cell_type": "code",
   "execution_count": null,
   "id": "a1548fa5",
   "metadata": {},
   "outputs": [],
   "source": [
    "thread_member_df = pd.pivot_table(board_threads_df[[\"site_name\", \"thread_id\", \"username\"]].drop_duplicates(),\n",
    "                                 index=[\"username\", \"site_name\"],\n",
    "                                 values=[\"thread_id\"],\n",
    "                                 aggfunc={\n",
    "                                     \"thread_id\":len\n",
    "                                 }\n",
    "                                ).sort_values(by=\"thread_id\", ascending=False)#.reset_index(level=0)\n",
    "thread_member_df.rename(columns={\"thread_id\":\"num_threads_created\"}, inplace=True)\n",
    "thread_member_df"
   ]
  },
  {
   "cell_type": "code",
   "execution_count": null,
   "id": "8d46a909",
   "metadata": {},
   "outputs": [],
   "source": [
    "thread_member_ = thread_member_df.pivot_table(columns=['num_threads_created'], aggfunc='size')\n",
    "thread_member_.sort_values(ascending=False, inplace=True)\n",
    "thread_member_"
   ]
  },
  {
   "cell_type": "code",
   "execution_count": null,
   "id": "eb23eae1",
   "metadata": {
    "scrolled": false
   },
   "outputs": [],
   "source": [
    "mean_val = round(thread_member_.mean(), 2)\n",
    "\n",
    "ax = thread_member_[:100].plot(kind=\"bar\", figsize=(16,8), title=f\"Frequencia dos numeros de threads criadas por usuario/website, Avg: {mean_val}\", xlabel=\"Número de threads criados\", ylabel=\"Frequencia de threads\", rot=90)\n",
    "# ax.legend(list(temp_df[\"site_name\"]))\n",
    "#ax.get_legend().remove()"
   ]
  },
  {
   "cell_type": "markdown",
   "id": "dbc37c65",
   "metadata": {},
   "source": [
    "### Threads x Boards"
   ]
  },
  {
   "cell_type": "code",
   "execution_count": null,
   "id": "a2a1e375",
   "metadata": {},
   "outputs": [],
   "source": [
    "thread_board_df = pd.pivot_table(board_threads_df[[\"site_name\", \"thread_id\", \"board_title\", \"board_id\"]].drop_duplicates(),\n",
    "                              index=[\"site_name\", \"board_title\", \"board_id\"],\n",
    "                              values=[\"thread_id\"],\n",
    "                              aggfunc={\n",
    "                                 \"thread_id\":len\n",
    "                              }).sort_values(by=\"thread_id\", ascending=False)\n",
    "thread_board_df.rename(columns={\"thread_id\":\"num_threads_created\"}, inplace=True)\n",
    "thread_board_df.reset_index(inplace=True)\n",
    "thread_board_df.set_index([\"site_name\", \"board_title\"], inplace=True)\n",
    "thread_board_df.drop(columns=['board_id'], inplace=True)\n",
    "thread_board_df"
   ]
  },
  {
   "cell_type": "code",
   "execution_count": null,
   "id": "b3f53d4e",
   "metadata": {},
   "outputs": [],
   "source": [
    "thread_board_df_ = thread_board_df.pivot_table(columns=['num_threads_created'], aggfunc='size')\n",
    "thread_board_df_.sort_values(ascending=False, inplace=True)\n",
    "thread_board_df_"
   ]
  },
  {
   "cell_type": "code",
   "execution_count": null,
   "id": "852dfb24",
   "metadata": {},
   "outputs": [],
   "source": [
    "mean_val = round(thread_board_df_.mean(), 2)\n",
    "\n",
    "ax = thread_board_df_[:100].plot(kind=\"bar\", figsize=(16,8), title=f\"Número de threads criadas por tematica/website, Avg: {mean_val}\", xlabel=\"Frequencia dos numeros de threads criados\", ylabel=\"Frequencia de threads\", rot=90)\n",
    "# ax.legend(list(temp_df[\"site_name\"]))\n",
    "#ax.get_legend().remove()"
   ]
  },
  {
   "cell_type": "markdown",
   "id": "d8560714",
   "metadata": {},
   "source": [
    "### Posts"
   ]
  },
  {
   "cell_type": "markdown",
   "id": "48cf87c0",
   "metadata": {},
   "source": [
    "#### Posts x Website"
   ]
  },
  {
   "cell_type": "code",
   "execution_count": null,
   "id": "808ff061",
   "metadata": {},
   "outputs": [],
   "source": [
    "website_df"
   ]
  },
  {
   "cell_type": "code",
   "execution_count": null,
   "id": "63b6e884",
   "metadata": {},
   "outputs": [],
   "source": [
    "posts_website_df = pd.merge(posts_df, website_df, how=\"left\", on=\"site_id\")\n",
    "posts_website_df"
   ]
  },
  {
   "cell_type": "code",
   "execution_count": null,
   "id": "e1313ebc",
   "metadata": {},
   "outputs": [],
   "source": [
    "post_x_website = pd.pivot_table(posts_website_df[[\"site_name\", \"post_id\"]].drop_duplicates(),\n",
    "                              index=[\"site_name\"],\n",
    "                              values=[\"post_id\"],\n",
    "                              aggfunc={\n",
    "                                 \"post_id\":len\n",
    "                              }).sort_values(by=\"post_id\", ascending=False)\n",
    "post_x_website.rename(columns={\"post_id\":\"num_posts_created\"}, inplace=True)\n",
    "post_x_website.reset_index(inplace=True)\n",
    "post_x_website.set_index([\"site_name\"], inplace=True)\n",
    "post_x_website"
   ]
  },
  {
   "cell_type": "code",
   "execution_count": null,
   "id": "8164f8cb",
   "metadata": {},
   "outputs": [],
   "source": [
    "mean_val = round(post_x_website[\"num_posts_created\"].mean(), 2)\n",
    "\n",
    "ax = post_x_website.plot(kind=\"bar\", figsize=(16,8), title=f\"Número de posts por website, Avg: {mean_val}\", xlabel=\"Site name\", ylabel=\"Num posts\", rot=45)\n",
    "# ax.legend(list(temp_df[\"site_name\"]))\n",
    "ax.get_legend().remove()"
   ]
  },
  {
   "cell_type": "markdown",
   "id": "77e0a099",
   "metadata": {},
   "source": [
    "#### Posts x members"
   ]
  },
  {
   "cell_type": "code",
   "execution_count": null,
   "id": "af5cdafa",
   "metadata": {},
   "outputs": [],
   "source": [
    "post_member_df = pd.pivot_table(posts_website_df[[\"site_name\", \"post_id\", \"username\"]].drop_duplicates(),\n",
    "                                 index=[\"username\", \"site_name\"],\n",
    "                                 values=[\"post_id\"],\n",
    "                                 aggfunc={\n",
    "                                     \"post_id\":len\n",
    "                                 }\n",
    "                                ).sort_values(by=\"post_id\", ascending=False)#.reset_index(level=0)\n",
    "post_member_df.rename(columns={\"post_id\":\"num_posts_created\"}, inplace=True)\n",
    "post_member_df"
   ]
  },
  {
   "cell_type": "code",
   "execution_count": null,
   "id": "d3228e24",
   "metadata": {},
   "outputs": [],
   "source": [
    "post_member_ = post_member_df.pivot_table(columns=['num_posts_created'], aggfunc='size')\n",
    "post_member_.sort_values(ascending=False, inplace=True)\n",
    "post_member_"
   ]
  },
  {
   "cell_type": "code",
   "execution_count": null,
   "id": "db9fa17b",
   "metadata": {},
   "outputs": [],
   "source": [
    "mean_val = round(post_member_.mean(), 2)\n",
    "\n",
    "ax = post_member_[:100].plot(kind=\"bar\", figsize=(16,8), title=f\"Frequencia dos numeros de posts criados por usuario/website, Avg: {mean_val}\", xlabel=\"Número de posts criados\", ylabel=\"Frequencia de posts\", rot=90)\n",
    "# ax.legend(list(temp_df[\"site_name\"]))\n",
    "#ax.get_legend().remove()"
   ]
  },
  {
   "cell_type": "markdown",
   "id": "d9e2ef82",
   "metadata": {},
   "source": [
    "#### Posts x Boards"
   ]
  },
  {
   "cell_type": "code",
   "execution_count": null,
   "id": "42f7724a",
   "metadata": {},
   "outputs": [],
   "source": [
    "posts_boards_df = pd.merge(posts_website_df, boards_df[[\"site_id\", \"board_id\", \"board_title\"]].drop_duplicates(), on=[\"site_id\", \"board_id\"], how=\"left\")\n",
    "posts_boards_df"
   ]
  },
  {
   "cell_type": "code",
   "execution_count": null,
   "id": "f506ba0b",
   "metadata": {},
   "outputs": [],
   "source": [
    "post_board_df = pd.pivot_table(posts_boards_df[[\"site_name\", \"board_title\", \"board_id\", \"post_id\"]].drop_duplicates(),\n",
    "                                 index=[\"site_name\", \"board_title\", \"board_id\"],\n",
    "                                 values=[\"post_id\"],\n",
    "                                 aggfunc={\n",
    "                                     \"post_id\":len\n",
    "                                 }\n",
    "                                ).sort_values(by=\"post_id\", ascending=False)#.reset_index(level=0)\n",
    "post_board_df.rename(columns={\"post_id\":\"num_posts_created\"}, inplace=True)\n",
    "post_board_df.reset_index(inplace=True)\n",
    "post_board_df.set_index([\"site_name\", \"board_title\"], inplace=True)\n",
    "post_board_df.drop(columns=['board_id'], inplace=True)\n",
    "post_board_df"
   ]
  },
  {
   "cell_type": "code",
   "execution_count": null,
   "id": "5871d7d5",
   "metadata": {},
   "outputs": [],
   "source": [
    "post_board_df_ = post_board_df.pivot_table(columns=['num_posts_created'], aggfunc='size')\n",
    "post_board_df_.sort_values(ascending=False, inplace=True)\n",
    "post_board_df_"
   ]
  },
  {
   "cell_type": "code",
   "execution_count": null,
   "id": "2149593a",
   "metadata": {},
   "outputs": [],
   "source": [
    "mean_val = round(post_board_df_.mean(), 2)\n",
    "\n",
    "ax = post_board_df_[:100].plot(kind=\"bar\", figsize=(16,8), title=f\"Número de posts criadas por tematica/website, Avg: {mean_val}\", xlabel=\"Frequencia dos numeros de posts criados\", ylabel=\"Frequencia de posts\", rot=90)\n",
    "# ax.legend(list(temp_df[\"site_name\"]))\n",
    "#ax.get_legend().remove()"
   ]
  },
  {
   "cell_type": "markdown",
   "id": "8b7135df",
   "metadata": {},
   "source": [
    "#### Posts x Threads"
   ]
  },
  {
   "cell_type": "code",
   "execution_count": null,
   "id": "1c76751d",
   "metadata": {
    "scrolled": true
   },
   "outputs": [],
   "source": [
    "posts_threads_df = pd.merge(posts_boards_df, threads_df[[\"site_id\", \"board_id\", \"thread_id\", \"thread_title\"]].drop_duplicates(), on=[\"site_id\", \"board_id\", \"thread_id\"], how=\"left\")\n",
    "posts_threads_df"
   ]
  },
  {
   "cell_type": "code",
   "execution_count": null,
   "id": "4fc03bd0",
   "metadata": {},
   "outputs": [],
   "source": [
    "post_thread_board_df = pd.pivot_table(posts_threads_df[[\"site_name\", \"thread_title\", \"thread_id\", \"post_id\"]].drop_duplicates(),\n",
    "                                 index=[\"site_name\", \"thread_title\", \"thread_id\"],\n",
    "                                 values=[\"post_id\"],\n",
    "                                 aggfunc={\n",
    "                                     \"post_id\":len\n",
    "                                 }\n",
    "                                ).sort_values(by=\"post_id\", ascending=False)#.reset_index(level=0)\n",
    "post_thread_board_df.rename(columns={\"post_id\":\"num_posts_created\"}, inplace=True)\n",
    "post_thread_board_df.reset_index(inplace=True)\n",
    "post_thread_board_df.set_index([\"site_name\", \"thread_title\"], inplace=True)\n",
    "post_thread_board_df.drop_duplicates(inplace=True)\n",
    "post_thread_board_df.drop(columns=['thread_id'], inplace=True)\n",
    "post_thread_board_df"
   ]
  },
  {
   "cell_type": "code",
   "execution_count": null,
   "id": "deb8ae5f",
   "metadata": {},
   "outputs": [],
   "source": [
    "post_threads_board_df_ = post_thread_board_df.pivot_table(columns=['num_posts_created'], aggfunc='size')\n",
    "post_threads_board_df_.sort_values(ascending=False, inplace=True)\n",
    "post_threads_board_df_"
   ]
  },
  {
   "cell_type": "code",
   "execution_count": null,
   "id": "452ca1f4",
   "metadata": {},
   "outputs": [],
   "source": [
    "mean_val = round(post_threads_board_df_.mean(), 2)\n",
    "\n",
    "ax = post_threads_board_df_[:100].plot(kind=\"bar\", figsize=(16,8), title=f\"Número de posts criadas por thread/website, Avg: {mean_val}\", xlabel=\"Frequencia dos numeros de posts criados\", ylabel=\"Frequencia de posts\", rot=90)\n",
    "# ax.legend(list(temp_df[\"site_name\"]))\n",
    "#ax.get_legend().remove()"
   ]
  }
 ],
 "metadata": {
  "kernelspec": {
   "display_name": "Python 3 (ipykernel)",
   "language": "python",
   "name": "python3"
  },
  "language_info": {
   "codemirror_mode": {
    "name": "ipython",
    "version": 3
   },
   "file_extension": ".py",
   "mimetype": "text/x-python",
   "name": "python",
   "nbconvert_exporter": "python",
   "pygments_lexer": "ipython3",
   "version": "3.9.12"
  }
 },
 "nbformat": 4,
 "nbformat_minor": 5
}
