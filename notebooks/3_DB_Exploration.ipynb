{
 "cells": [
  {
   "cell_type": "code",
   "execution_count": 1,
   "metadata": {},
   "outputs": [],
   "source": [
    "import pandas as pd\n",
    "import sys, os\n",
    "\n",
    "module_path = os.path.abspath(os.path.join('..'))\n",
    "if module_path not in sys.path:\n",
    "    sys.path.append(module_path)"
   ]
  },
  {
   "cell_type": "code",
   "execution_count": 2,
   "metadata": {},
   "outputs": [],
   "source": [
    "from crimebb import *"
   ]
  },
  {
   "cell_type": "code",
   "execution_count": 3,
   "metadata": {},
   "outputs": [],
   "source": [
    "DATA_PATH=\"../data/\"\n",
    "CSV_PATH = f\"{DATA_PATH}csv/\""
   ]
  },
  {
   "cell_type": "markdown",
   "metadata": {},
   "source": [
    "### Database connection"
   ]
  },
  {
   "cell_type": "code",
   "execution_count": 4,
   "metadata": {},
   "outputs": [
    {
     "data": {
      "text/plain": [
       "{'host': 'localhost',\n",
       " 'username': 'postgres',\n",
       " 'password': '123456',\n",
       " 'port': 9200}"
      ]
     },
     "execution_count": 4,
     "metadata": {},
     "output_type": "execute_result"
    }
   ],
   "source": [
    "config = openFile(f'{DATA_PATH}/db_config.json')\n",
    "config_file = config['postgres_connection']\n",
    "config_file"
   ]
  },
  {
   "cell_type": "markdown",
   "metadata": {},
   "source": [
    "### Listing db sizes"
   ]
  },
  {
   "cell_type": "code",
   "execution_count": 5,
   "metadata": {},
   "outputs": [],
   "source": [
    "import glob"
   ]
  },
  {
   "cell_type": "code",
   "execution_count": 6,
   "metadata": {},
   "outputs": [
    {
     "name": "stdout",
     "output_type": "stream",
     "text": [
      "DB Name\n",
      " ['antichat-2021-01-10', 'deutschland-im-deep-web-2021-01-10', 'dread-2021-01-10', 'envoy-forum-2021-01-10', 'garage4hackers-2021-01-10', 'raidforums-2021-01-10', 'runion-2021-01-10', 'safe-sky-hacks-2021-01-10', 'the-hub-2021-01-10', 'torum-2021-01-10'] \n",
      "\n"
     ]
    }
   ],
   "source": [
    "db_path = [db_.split(\"\\\\\")[-1] for db_ in glob.glob(f\"{CSV_PATH}/*\")]\n",
    "\n",
    "print(\"DB Name\\n\", db_path,\"\\n\")"
   ]
  },
  {
   "cell_type": "code",
   "execution_count": 7,
   "metadata": {},
   "outputs": [
    {
     "name": "stdout",
     "output_type": "stream",
     "text": [
      "antichat-2021-01-10 ['boards.csv', 'contracts.csv', 'members.csv', 'posts.csv', 'threads.csv', 'votes.csv']\n",
      "deutschland-im-deep-web-2021-01-10 ['boards.csv', 'contracts.csv', 'members.csv', 'posts.csv', 'threads.csv', 'votes.csv']\n",
      "dread-2021-01-10 ['boards.csv', 'contracts.csv', 'members.csv', 'posts.csv', 'threads.csv', 'votes.csv']\n",
      "envoy-forum-2021-01-10 ['boards.csv', 'contracts.csv', 'members.csv', 'posts.csv', 'threads.csv', 'votes.csv']\n",
      "garage4hackers-2021-01-10 ['boards.csv', 'contracts.csv', 'members.csv', 'posts.csv', 'threads.csv', 'votes.csv']\n",
      "raidforums-2021-01-10 ['boards.csv', 'contracts.csv', 'members.csv', 'posts.csv', 'threads.csv', 'votes.csv']\n",
      "runion-2021-01-10 ['boards.csv', 'contracts.csv', 'members.csv', 'posts.csv', 'threads.csv', 'votes.csv']\n",
      "safe-sky-hacks-2021-01-10 ['boards.csv', 'contracts.csv', 'members.csv', 'posts.csv', 'threads.csv', 'votes.csv']\n",
      "the-hub-2021-01-10 ['boards.csv', 'contracts.csv', 'members.csv', 'posts.csv', 'threads.csv', 'votes.csv']\n",
      "torum-2021-01-10 ['boards.csv', 'contracts.csv', 'members.csv', 'posts.csv', 'threads.csv', 'votes.csv']\n"
     ]
    }
   ],
   "source": [
    "tables_dict = {}\n",
    "\n",
    "for db_name in db_path:\n",
    "    db_tables = [db_.split(\"\\\\\")[-1] for db_ in glob.glob(f\"{CSV_PATH}/{db_name}/*.csv\")]\n",
    "    tables_dict[db_name] = db_tables.copy()\n",
    "    print(db_name, db_tables)"
   ]
  },
  {
   "cell_type": "markdown",
   "metadata": {},
   "source": [
    "### Listing tables"
   ]
  },
  {
   "cell_type": "code",
   "execution_count": 8,
   "metadata": {
    "scrolled": true
   },
   "outputs": [
    {
     "data": {
      "text/plain": [
       "{'antichat-2021-01-10': ['boards.csv',\n",
       "  'contracts.csv',\n",
       "  'members.csv',\n",
       "  'posts.csv',\n",
       "  'threads.csv',\n",
       "  'votes.csv'],\n",
       " 'deutschland-im-deep-web-2021-01-10': ['boards.csv',\n",
       "  'contracts.csv',\n",
       "  'members.csv',\n",
       "  'posts.csv',\n",
       "  'threads.csv',\n",
       "  'votes.csv'],\n",
       " 'dread-2021-01-10': ['boards.csv',\n",
       "  'contracts.csv',\n",
       "  'members.csv',\n",
       "  'posts.csv',\n",
       "  'threads.csv',\n",
       "  'votes.csv'],\n",
       " 'envoy-forum-2021-01-10': ['boards.csv',\n",
       "  'contracts.csv',\n",
       "  'members.csv',\n",
       "  'posts.csv',\n",
       "  'threads.csv',\n",
       "  'votes.csv'],\n",
       " 'garage4hackers-2021-01-10': ['boards.csv',\n",
       "  'contracts.csv',\n",
       "  'members.csv',\n",
       "  'posts.csv',\n",
       "  'threads.csv',\n",
       "  'votes.csv'],\n",
       " 'raidforums-2021-01-10': ['boards.csv',\n",
       "  'contracts.csv',\n",
       "  'members.csv',\n",
       "  'posts.csv',\n",
       "  'threads.csv',\n",
       "  'votes.csv'],\n",
       " 'runion-2021-01-10': ['boards.csv',\n",
       "  'contracts.csv',\n",
       "  'members.csv',\n",
       "  'posts.csv',\n",
       "  'threads.csv',\n",
       "  'votes.csv'],\n",
       " 'safe-sky-hacks-2021-01-10': ['boards.csv',\n",
       "  'contracts.csv',\n",
       "  'members.csv',\n",
       "  'posts.csv',\n",
       "  'threads.csv',\n",
       "  'votes.csv'],\n",
       " 'the-hub-2021-01-10': ['boards.csv',\n",
       "  'contracts.csv',\n",
       "  'members.csv',\n",
       "  'posts.csv',\n",
       "  'threads.csv',\n",
       "  'votes.csv'],\n",
       " 'torum-2021-01-10': ['boards.csv',\n",
       "  'contracts.csv',\n",
       "  'members.csv',\n",
       "  'posts.csv',\n",
       "  'threads.csv',\n",
       "  'votes.csv']}"
      ]
     },
     "execution_count": 8,
     "metadata": {},
     "output_type": "execute_result"
    }
   ],
   "source": [
    "tables_dict"
   ]
  },
  {
   "cell_type": "markdown",
   "metadata": {},
   "source": [
    "### Getting CSV files"
   ]
  },
  {
   "cell_type": "code",
   "execution_count": 9,
   "metadata": {
    "scrolled": false
   },
   "outputs": [
    {
     "ename": "NameError",
     "evalue": "name 'list_dbs' is not defined",
     "output_type": "error",
     "traceback": [
      "\u001b[1;31m---------------------------------------------------------------------------\u001b[0m",
      "\u001b[1;31mNameError\u001b[0m                                 Traceback (most recent call last)",
      "\u001b[1;32m<ipython-input-9-7e1adf247716>\u001b[0m in \u001b[0;36m<module>\u001b[1;34m\u001b[0m\n\u001b[1;32m----> 1\u001b[1;33m \u001b[1;32mfor\u001b[0m \u001b[0mdb_name\u001b[0m \u001b[1;32min\u001b[0m \u001b[0mlist_dbs\u001b[0m\u001b[1;33m:\u001b[0m\u001b[1;33m\u001b[0m\u001b[1;33m\u001b[0m\u001b[0m\n\u001b[0m\u001b[0;32m      2\u001b[0m     \u001b[0mdb_path\u001b[0m \u001b[1;33m=\u001b[0m \u001b[1;34mf\"{CSV_PATH}{db_name}/\"\u001b[0m\u001b[1;33m\u001b[0m\u001b[1;33m\u001b[0m\u001b[0m\n\u001b[0;32m      3\u001b[0m     \u001b[0mdb_tables\u001b[0m \u001b[1;33m=\u001b[0m \u001b[1;33m[\u001b[0m\u001b[0mdb_\u001b[0m\u001b[1;33m.\u001b[0m\u001b[0msplit\u001b[0m\u001b[1;33m(\u001b[0m\u001b[1;34m\"\\\\\"\u001b[0m\u001b[1;33m)\u001b[0m\u001b[1;33m[\u001b[0m\u001b[1;33m-\u001b[0m\u001b[1;36m1\u001b[0m\u001b[1;33m]\u001b[0m \u001b[1;32mfor\u001b[0m \u001b[0mdb_\u001b[0m \u001b[1;32min\u001b[0m \u001b[0mglob\u001b[0m\u001b[1;33m.\u001b[0m\u001b[0mglob\u001b[0m\u001b[1;33m(\u001b[0m\u001b[1;34mf\"{db_path}/*\"\u001b[0m\u001b[1;33m)\u001b[0m\u001b[1;33m]\u001b[0m\u001b[1;33m\u001b[0m\u001b[1;33m\u001b[0m\u001b[0m\n\u001b[0;32m      4\u001b[0m \u001b[1;33m\u001b[0m\u001b[0m\n\u001b[0;32m      5\u001b[0m     \u001b[1;32mfor\u001b[0m \u001b[0mcur_table\u001b[0m \u001b[1;32min\u001b[0m \u001b[0mdb_tables\u001b[0m\u001b[1;33m:\u001b[0m\u001b[1;33m\u001b[0m\u001b[1;33m\u001b[0m\u001b[0m\n",
      "\u001b[1;31mNameError\u001b[0m: name 'list_dbs' is not defined"
     ]
    }
   ],
   "source": [
    "for db_name in list_dbs:\n",
    "    db_path = f\"{CSV_PATH}{db_name}/\"\n",
    "    db_tables = [db_.split(\"\\\\\")[-1] for db_ in glob.glob(f\"{db_path}/*\")]\n",
    "    \n",
    "    for cur_table in db_tables:\n",
    "        print(cur_table)\n",
    "        table_df = pd.read_csv(f\"{db_path}{cur_table}\", sep=\",\", low_memory=False)\n",
    "        print(table_df)\n",
    "    break\n",
    "    "
   ]
  },
  {
   "cell_type": "code",
   "execution_count": null,
   "metadata": {},
   "outputs": [],
   "source": [
    "db_tables"
   ]
  }
 ],
 "metadata": {
  "kernelspec": {
   "display_name": "Python 3",
   "language": "python",
   "name": "python3"
  },
  "language_info": {
   "codemirror_mode": {
    "name": "ipython",
    "version": 3
   },
   "file_extension": ".py",
   "mimetype": "text/x-python",
   "name": "python",
   "nbconvert_exporter": "python",
   "pygments_lexer": "ipython3",
   "version": "3.8.5"
  }
 },
 "nbformat": 4,
 "nbformat_minor": 5
}
