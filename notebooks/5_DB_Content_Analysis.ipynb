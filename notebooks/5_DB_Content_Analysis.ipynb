{
 "cells": [
  {
   "cell_type": "code",
   "execution_count": null,
   "id": "9d543143",
   "metadata": {},
   "outputs": [],
   "source": [
    "import pandas as pd\n",
    "import sys, os\n",
    "\n",
    "module_path = os.path.abspath(os.path.join('..'))\n",
    "if module_path not in sys.path:\n",
    "    sys.path.append(module_path)"
   ]
  },
  {
   "cell_type": "code",
   "execution_count": null,
   "id": "450bf137",
   "metadata": {},
   "outputs": [],
   "source": [
    "from crimebb import *"
   ]
  },
  {
   "cell_type": "code",
   "execution_count": null,
   "id": "ea4aecd5",
   "metadata": {},
   "outputs": [],
   "source": [
    "YEAR=\"2021\""
   ]
  },
  {
   "cell_type": "code",
   "execution_count": null,
   "id": "ce46292a",
   "metadata": {},
   "outputs": [],
   "source": [
    "DATA_PATH=\"../data/\"\n",
    "CSV_PATH = f\"{DATA_PATH}csv/{YEAR}/\""
   ]
  },
  {
   "cell_type": "markdown",
   "id": "27c21461",
   "metadata": {},
   "source": [
    "#### Loading data"
   ]
  },
  {
   "cell_type": "code",
   "execution_count": null,
   "id": "f6023469",
   "metadata": {},
   "outputs": [],
   "source": [
    "posts_threads_df = pd.read_csv(f\"{CSV_PATH}post_thread_board.csv\", sep=\"\\t\", low_memory=False)"
   ]
  },
  {
   "cell_type": "markdown",
   "id": "8bf0d8c1",
   "metadata": {},
   "source": [
    "#### Looking keywords"
   ]
  },
  {
   "cell_type": "code",
   "execution_count": null,
   "id": "df7eff17",
   "metadata": {},
   "outputs": [],
   "source": [
    "keywords=[\"cve\", \"cvss\", \"epss\", \"fud\", \"covid\", \"shodan\", \"simatic s7\"\n",
    "          \"siemens\", \"siemens s7\", \"102\", \"port102\", \"port:102\", \"bacnet\", \"simatic\"]\n",
    "\n",
    "pattern = '|'.join(keywords)"
   ]
  },
  {
   "cell_type": "code",
   "execution_count": null,
   "id": "ded39a72",
   "metadata": {},
   "outputs": [],
   "source": [
    "posts_threads_df[posts_threads_df[\"content\"].str.lower().str.contains(pattern)]"
   ]
  }
 ],
 "metadata": {
  "kernelspec": {
   "display_name": "Python 3 (ipykernel)",
   "language": "python",
   "name": "python3"
  },
  "language_info": {
   "codemirror_mode": {
    "name": "ipython",
    "version": 3
   },
   "file_extension": ".py",
   "mimetype": "text/x-python",
   "name": "python",
   "nbconvert_exporter": "python",
   "pygments_lexer": "ipython3",
   "version": "3.9.12"
  }
 },
 "nbformat": 4,
 "nbformat_minor": 5
}
