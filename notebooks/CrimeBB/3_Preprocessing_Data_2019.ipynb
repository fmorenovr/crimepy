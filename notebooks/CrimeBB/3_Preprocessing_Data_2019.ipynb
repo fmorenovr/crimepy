{
 "cells": [
  {
   "cell_type": "code",
   "execution_count": null,
   "id": "bb9d7924",
   "metadata": {},
   "outputs": [],
   "source": [
    "import pandas as pd\n",
    "import sys, os\n",
    "\n",
    "module_path = os.path.abspath(os.path.join('../..'))\n",
    "if module_path not in sys.path:\n",
    "    sys.path.append(module_path)"
   ]
  },
  {
   "cell_type": "code",
   "execution_count": null,
   "id": "3b9d1697",
   "metadata": {},
   "outputs": [],
   "source": [
    "from crimebb import *"
   ]
  },
  {
   "cell_type": "code",
   "execution_count": null,
   "id": "624ec6d3",
   "metadata": {},
   "outputs": [],
   "source": [
    "from tqdm.notebook import tqdm\n",
    "\n",
    "tqdm.pandas()"
   ]
  },
  {
   "cell_type": "code",
   "execution_count": null,
   "id": "06d434bb",
   "metadata": {},
   "outputs": [],
   "source": [
    "YEAR=\"2019\""
   ]
  },
  {
   "cell_type": "code",
   "execution_count": null,
   "id": "f5a666e5",
   "metadata": {},
   "outputs": [],
   "source": [
    "DATA_PATH=\"../../data/\"\n",
    "CSV_PATH = f\"{DATA_PATH}csv/{YEAR}/summary/\"\n",
    "CSV_PROCESSED = f\"{DATA_PATH}csv/{YEAR}/processed/\""
   ]
  },
  {
   "cell_type": "code",
   "execution_count": null,
   "id": "02b1a606",
   "metadata": {},
   "outputs": [],
   "source": [
    "verifyDir(CSV_PROCESSED)"
   ]
  },
  {
   "cell_type": "markdown",
   "id": "18f2af85",
   "metadata": {},
   "source": [
    "### Loading data"
   ]
  },
  {
   "cell_type": "code",
   "execution_count": null,
   "id": "08f75d83",
   "metadata": {},
   "outputs": [],
   "source": [
    "crimeBB_data = CrimeBBManager(DATA_PATH, YEAR)"
   ]
  },
  {
   "cell_type": "markdown",
   "id": "54267fcd",
   "metadata": {},
   "source": [
    "#### Members"
   ]
  },
  {
   "cell_type": "code",
   "execution_count": null,
   "id": "1280283d",
   "metadata": {},
   "outputs": [],
   "source": [
    "crimeBB_data.process_members_2019()"
   ]
  },
  {
   "cell_type": "markdown",
   "id": "275fe4e9",
   "metadata": {},
   "source": [
    "#### Website"
   ]
  },
  {
   "cell_type": "code",
   "execution_count": null,
   "id": "e9ad61e1",
   "metadata": {},
   "outputs": [],
   "source": [
    "crimeBB_data.process_sites_2019()"
   ]
  },
  {
   "cell_type": "markdown",
   "id": "6e9f9549",
   "metadata": {},
   "source": [
    "#### Boards"
   ]
  },
  {
   "cell_type": "code",
   "execution_count": null,
   "id": "70342496",
   "metadata": {
    "scrolled": true
   },
   "outputs": [],
   "source": [
    "crimeBB_data.process_boards_2019()"
   ]
  },
  {
   "cell_type": "markdown",
   "id": "1c452183",
   "metadata": {},
   "source": [
    "#### Threads"
   ]
  },
  {
   "cell_type": "code",
   "execution_count": null,
   "id": "5b1b7805",
   "metadata": {},
   "outputs": [],
   "source": [
    "crimeBB_data.process_threads_2019()"
   ]
  },
  {
   "cell_type": "markdown",
   "id": "28acda76",
   "metadata": {},
   "source": [
    "#### Posts"
   ]
  },
  {
   "cell_type": "code",
   "execution_count": null,
   "id": "10b5031b",
   "metadata": {
    "scrolled": true
   },
   "outputs": [],
   "source": [
    "crimeBB_data.process_posts_2019()"
   ]
  },
  {
   "cell_type": "markdown",
   "id": "238a611e",
   "metadata": {},
   "source": [
    "### Summarizing CrimeBB"
   ]
  },
  {
   "cell_type": "code",
   "execution_count": null,
   "id": "c32cc3ae",
   "metadata": {},
   "outputs": [],
   "source": [
    "website_df = pd.read_csv(f\"{CSV_PROCESSED}sites.csv\", sep=\"\\t\", low_memory=False)\n",
    "members_df = pd.read_csv(f\"{CSV_PROCESSED}members.csv\", sep=\"\\t\", low_memory=False)\n",
    "boards_df = pd.read_csv(f\"{CSV_PROCESSED}boards.csv\", sep=\"\\t\", low_memory=False)\n",
    "threads_df = pd.read_csv(f\"{CSV_PROCESSED}threads.csv\", sep=\"\\t\", low_memory=False)"
   ]
  },
  {
   "cell_type": "code",
   "execution_count": null,
   "id": "5aaa662d",
   "metadata": {},
   "outputs": [],
   "source": [
    "chunk_size = 1000000\n",
    "\n",
    "posts_reader = pd.read_csv(f\"{CSV_PROCESSED}posts.csv\", sep=\"\\t\", low_memory=False, iterator=True)\n",
    "            \n",
    "posts_df = pd.DataFrame()\n",
    "\n",
    "len_readed=chunk_size\n",
    "while len_readed>=chunk_size:\n",
    "    current_df = posts_reader.get_chunk(chunk_size).copy()\n",
    "    current_df.drop_duplicates(inplace=True)\n",
    "\n",
    "    posts_df = pd.concat([posts_df, current_df], ignore_index=True)\n",
    "\n",
    "    len_readed = current_df.shape[0]"
   ]
  },
  {
   "cell_type": "code",
   "execution_count": null,
   "id": "0d95f46a",
   "metadata": {},
   "outputs": [],
   "source": [
    "posts_df.info()"
   ]
  },
  {
   "cell_type": "markdown",
   "id": "a9844d4c",
   "metadata": {},
   "source": [
    "#### Merging"
   ]
  },
  {
   "cell_type": "code",
   "execution_count": null,
   "id": "2c6e627e",
   "metadata": {},
   "outputs": [],
   "source": [
    "posts_threads_df = pd.merge(posts_df, threads_df[[\"site_id\", \"board_id\", \"thread_id\", \"thread_title\"]].drop_duplicates(), on=[\"site_id\", \"board_id\", \"thread_id\"], how=\"left\")"
   ]
  },
  {
   "cell_type": "code",
   "execution_count": null,
   "id": "16a0f61d",
   "metadata": {},
   "outputs": [],
   "source": [
    "posts_threads_boards_df = pd.merge(posts_threads_df, boards_df[[\"site_id\", \"site_name\", \"board_id\", \"board_title\"]].drop_duplicates(), on=[\"site_id\", \"board_id\"], how=\"left\")"
   ]
  },
  {
   "cell_type": "code",
   "execution_count": null,
   "id": "af990a93",
   "metadata": {},
   "outputs": [],
   "source": [
    "crimebb_df = posts_threads_boards_df[['post_id', 'site_id', 'board_id', 'thread_id', 'user_id', \n",
    "                                     'site_name', 'board_title', 'thread_title', 'username', 'content', \n",
    "                                     'user_reputation', 'post_data_creation']].copy()"
   ]
  },
  {
   "cell_type": "code",
   "execution_count": null,
   "id": "8eb8da36",
   "metadata": {},
   "outputs": [],
   "source": [
    "crimebb_df.isnull().any()"
   ]
  },
  {
   "cell_type": "code",
   "execution_count": null,
   "id": "2a758a4c",
   "metadata": {},
   "outputs": [],
   "source": [
    "crimebb_df"
   ]
  },
  {
   "cell_type": "code",
   "execution_count": null,
   "id": "98d6f09d",
   "metadata": {},
   "outputs": [],
   "source": [
    "crimebb_df.to_csv(f\"{CSV_PROCESSED}crimeBB_{YEAR}.csv\", sep='\\t', index=False)"
   ]
  },
  {
   "cell_type": "markdown",
   "id": "5c1bf920",
   "metadata": {},
   "source": [
    "### Drawing Missing Values"
   ]
  },
  {
   "cell_type": "markdown",
   "id": "65f117d6",
   "metadata": {},
   "source": [
    "#### user_id equals None"
   ]
  },
  {
   "cell_type": "code",
   "execution_count": null,
   "id": "18845536",
   "metadata": {},
   "outputs": [],
   "source": [
    "none_members_users = members_df[ (members_df[\"username\"].str.lower()==\"none\") | (members_df[\"username\"].isna()) ].copy().drop_duplicates()"
   ]
  },
  {
   "cell_type": "code",
   "execution_count": null,
   "id": "741c81e3",
   "metadata": {},
   "outputs": [],
   "source": [
    "none_threads_users = threads_df[ (threads_df[\"username\"].str.lower()==\"none\") | (threads_df[\"username\"].isna()) ].copy().drop_duplicates()"
   ]
  },
  {
   "cell_type": "code",
   "execution_count": null,
   "id": "0c740c81",
   "metadata": {},
   "outputs": [],
   "source": [
    "none_posts_users = posts_df[ (posts_df[\"username\"].str.lower()==\"none\") | (posts_df[\"username\"].isna()) ].copy().drop_duplicates()"
   ]
  },
  {
   "cell_type": "markdown",
   "id": "370fe6aa",
   "metadata": {},
   "source": [
    "#### thread title None"
   ]
  },
  {
   "cell_type": "code",
   "execution_count": null,
   "id": "c9e51bc2",
   "metadata": {},
   "outputs": [],
   "source": [
    "none_threads_title = threads_df[threads_df[\"thread_title\"].isna()]"
   ]
  },
  {
   "cell_type": "code",
   "execution_count": null,
   "id": "d3e97be2",
   "metadata": {},
   "outputs": [],
   "source": [
    "none_posts_threads_title = posts_threads_df[posts_threads_df[\"thread_title\"].isna()]"
   ]
  },
  {
   "cell_type": "markdown",
   "id": "b82339f1",
   "metadata": {},
   "source": [
    "#### posts content None"
   ]
  },
  {
   "cell_type": "code",
   "execution_count": null,
   "id": "45ac8ded",
   "metadata": {},
   "outputs": [],
   "source": [
    "none_posts_content = posts_threads_df[posts_threads_df[\"content\"].isna()]"
   ]
  },
  {
   "cell_type": "markdown",
   "id": "ca23acec",
   "metadata": {},
   "source": [
    "#### Draw"
   ]
  },
  {
   "cell_type": "code",
   "execution_count": null,
   "id": "7604dd39",
   "metadata": {},
   "outputs": [],
   "source": [
    "import matplotlib.pyplot as plt\n",
    "\n",
    "# None usernames\n",
    "\n",
    "legends_users = [\"members\", \"threads\", \"posts\"]\n",
    "values_users = [len(none_members_users), len(none_threads_users), len(none_posts_users)]\n",
    "\n",
    "fig = plt.figure()\n",
    "ax = fig.add_axes([0,0,1,1])\n",
    "ax.bar(legends_users,values_users, label='Null Usernames')\n",
    "for x,y,p in zip(legends_users, values_users, values_users):\n",
    "  plt.text(x, y, p)\n",
    "\n",
    "# None threads title\n",
    "\n",
    "legends_threads = [\"threads \", \"posts \"]\n",
    "values_threads = [len(none_threads_title), len(none_posts_threads_title)]\n",
    "\n",
    "ax.bar(legends_threads, values_threads, label='Null Thread_title')\n",
    "for x,y,p in zip(legends_threads, values_threads, values_threads):\n",
    "  plt.text(x, y, p)\n",
    "\n",
    "# None posts content\n",
    "\n",
    "legends_posts = [\"posts  \"]\n",
    "values_posts = [len(none_posts_content)]\n",
    "\n",
    "ax.bar(legends_posts, [len(none_posts_content)], label='Null Post content')\n",
    "for x,y,p in zip(legends_posts, values_posts, values_posts):\n",
    "  plt.text(x, y, p)\n",
    "\n",
    "ax.legend()\n",
    "ax.set_title(\"Missing values per table\")\n",
    "ax.set_ylabel(\"Number of missing values\")\n",
    "plt.show()"
   ]
  }
 ],
 "metadata": {
  "kernelspec": {
   "display_name": "Python 3 (ipykernel)",
   "language": "python",
   "name": "python3"
  },
  "language_info": {
   "codemirror_mode": {
    "name": "ipython",
    "version": 3
   },
   "file_extension": ".py",
   "mimetype": "text/x-python",
   "name": "python",
   "nbconvert_exporter": "python",
   "pygments_lexer": "ipython3",
   "version": "3.9.12"
  }
 },
 "nbformat": 4,
 "nbformat_minor": 5
}
