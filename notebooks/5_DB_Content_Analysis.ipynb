{
 "cells": [
  {
   "cell_type": "code",
   "execution_count": 1,
   "id": "9d543143",
   "metadata": {},
   "outputs": [],
   "source": [
    "import pandas as pd\n",
    "import sys, os\n",
    "\n",
    "module_path = os.path.abspath(os.path.join('..'))\n",
    "if module_path not in sys.path:\n",
    "    sys.path.append(module_path)"
   ]
  },
  {
   "cell_type": "code",
   "execution_count": 2,
   "id": "450bf137",
   "metadata": {},
   "outputs": [],
   "source": [
    "from crimebb import *"
   ]
  },
  {
   "cell_type": "code",
   "execution_count": 3,
   "id": "ea4aecd5",
   "metadata": {},
   "outputs": [],
   "source": [
    "YEAR=\"2021\""
   ]
  },
  {
   "cell_type": "code",
   "execution_count": 4,
   "id": "ce46292a",
   "metadata": {},
   "outputs": [],
   "source": [
    "DATA_PATH=\"../data/\"\n",
    "CSV_PATH = f\"{DATA_PATH}csv/{YEAR}/\""
   ]
  },
  {
   "cell_type": "markdown",
   "id": "27c21461",
   "metadata": {},
   "source": [
    "### Loading data"
   ]
  },
  {
   "cell_type": "code",
   "execution_count": 5,
   "id": "f6023469",
   "metadata": {},
   "outputs": [],
   "source": [
    "posts_threads_df = pd.read_csv(f\"{CSV_PATH}post_thread_board.csv\", sep=\"\\t\", low_memory=False)"
   ]
  },
  {
   "cell_type": "markdown",
   "id": "ca95cfb0",
   "metadata": {},
   "source": [
    "### Wordcloud"
   ]
  },
  {
   "cell_type": "code",
   "execution_count": 6,
   "id": "4b7d9066",
   "metadata": {},
   "outputs": [],
   "source": [
    "english_df = posts_threads_df[posts_threads_df[\"language_detected\"]==\"english\"].copy()\n",
    "english_content = ' '.join(english_df[\"content\"])"
   ]
  },
  {
   "cell_type": "code",
   "execution_count": 7,
   "id": "e37209a3",
   "metadata": {},
   "outputs": [],
   "source": [
    "russian_df = posts_threads_df[posts_threads_df[\"language_detected\"]==\"russian\"].copy()\n",
    "russian_content = ' '.join(russian_df[\"content\"])"
   ]
  },
  {
   "cell_type": "code",
   "execution_count": 8,
   "id": "30054537",
   "metadata": {},
   "outputs": [],
   "source": [
    "en_dict = getFrequencyDictForText(english_content)"
   ]
  },
  {
   "cell_type": "code",
   "execution_count": null,
   "id": "c1c634b2",
   "metadata": {},
   "outputs": [],
   "source": [
    "ru_dict = getFrequencyDictForText(russian_content)"
   ]
  },
  {
   "cell_type": "code",
   "execution_count": null,
   "id": "66a644e2",
   "metadata": {},
   "outputs": [],
   "source": [
    "showWordCloud(en_dict)"
   ]
  },
  {
   "cell_type": "code",
   "execution_count": null,
   "id": "d067cbb5",
   "metadata": {},
   "outputs": [],
   "source": [
    "showWordCloud(ru_dict)"
   ]
  },
  {
   "cell_type": "code",
   "execution_count": null,
   "id": "8534a356",
   "metadata": {},
   "outputs": [],
   "source": [
    "os.exit()"
   ]
  },
  {
   "cell_type": "code",
   "execution_count": null,
   "id": "18c69c19",
   "metadata": {},
   "outputs": [],
   "source": [
    "os.exit()"
   ]
  },
  {
   "cell_type": "markdown",
   "id": "eb2e1dc9",
   "metadata": {},
   "source": [
    "#### Siemens references"
   ]
  },
  {
   "cell_type": "code",
   "execution_count": null,
   "id": "46a42ee9",
   "metadata": {},
   "outputs": [],
   "source": [
    "keywords=[\"siemens\", \"siemens s7\", \"simatic s7\", \"s7\", \"simatic\"]\n",
    "\n",
    "pattern = '|'.join(keywords)"
   ]
  },
  {
   "cell_type": "code",
   "execution_count": null,
   "id": "d24d6c93",
   "metadata": {},
   "outputs": [],
   "source": [
    "siemens_df = posts_threads_df[posts_threads_df[\"content\"].str.lower().str.contains(pattern)]\n",
    "siemens_df"
   ]
  },
  {
   "cell_type": "markdown",
   "id": "cfec0729",
   "metadata": {},
   "source": [
    "#### Port references"
   ]
  },
  {
   "cell_type": "code",
   "execution_count": null,
   "id": "86990363",
   "metadata": {},
   "outputs": [],
   "source": [
    "keywords=[\"102\", \"port102\", \"port:102\", \"bacnet\", \"port\"]\n",
    "\n",
    "pattern = '|'.join(keywords)"
   ]
  },
  {
   "cell_type": "code",
   "execution_count": null,
   "id": "660caa19",
   "metadata": {},
   "outputs": [],
   "source": [
    "port102_df = posts_threads_df[posts_threads_df[\"content\"].str.lower().str.contains(pattern)]\n",
    "port102_df"
   ]
  },
  {
   "cell_type": "markdown",
   "id": "cfa85cc7",
   "metadata": {},
   "source": [
    "#### CVSS references"
   ]
  },
  {
   "cell_type": "code",
   "execution_count": null,
   "id": "1f84cf31",
   "metadata": {},
   "outputs": [],
   "source": [
    "keywords=[\"cvss\", \"epss\", \"fud\", \"covid\", \"shodan\"]\n",
    "\n",
    "pattern = '|'.join(keywords)"
   ]
  },
  {
   "cell_type": "code",
   "execution_count": null,
   "id": "ab2287a4",
   "metadata": {},
   "outputs": [],
   "source": [
    "cvss_df = posts_threads_df[posts_threads_df[\"content\"].str.lower().str.contains(pattern)]\n",
    "cvss_df"
   ]
  },
  {
   "cell_type": "markdown",
   "id": "826b7f5c",
   "metadata": {},
   "source": [
    "#### EPSS references"
   ]
  },
  {
   "cell_type": "code",
   "execution_count": null,
   "id": "d1644221",
   "metadata": {},
   "outputs": [],
   "source": [
    "keywords=[\"epss\"]\n",
    "\n",
    "pattern = '|'.join(keywords)"
   ]
  },
  {
   "cell_type": "code",
   "execution_count": null,
   "id": "907008ee",
   "metadata": {},
   "outputs": [],
   "source": [
    "epss_df = posts_threads_df[posts_threads_df[\"content\"].str.lower().str.contains(pattern)]\n",
    "epss_df"
   ]
  },
  {
   "cell_type": "markdown",
   "id": "7451dcf3",
   "metadata": {},
   "source": [
    "#### FUD references"
   ]
  },
  {
   "cell_type": "code",
   "execution_count": null,
   "id": "8a225e2d",
   "metadata": {},
   "outputs": [],
   "source": [
    "keywords=[\"fud\"]\n",
    "\n",
    "pattern = '|'.join(keywords)"
   ]
  },
  {
   "cell_type": "code",
   "execution_count": null,
   "id": "91a0efa2",
   "metadata": {},
   "outputs": [],
   "source": [
    "fud_df = posts_threads_df[posts_threads_df[\"content\"].str.lower().str.contains(pattern)]\n",
    "fud_df"
   ]
  },
  {
   "cell_type": "markdown",
   "id": "0661b0a1",
   "metadata": {},
   "source": [
    "#### SHODAN references"
   ]
  },
  {
   "cell_type": "code",
   "execution_count": null,
   "id": "9817866f",
   "metadata": {},
   "outputs": [],
   "source": [
    "keywords=[\"shodan\"]\n",
    "\n",
    "pattern = '|'.join(keywords)"
   ]
  },
  {
   "cell_type": "code",
   "execution_count": null,
   "id": "fd44bedd",
   "metadata": {},
   "outputs": [],
   "source": [
    "shodan_df = posts_threads_df[posts_threads_df[\"content\"].str.lower().str.contains(pattern)]\n",
    "shodan_df"
   ]
  },
  {
   "cell_type": "markdown",
   "id": "8bf0d8c1",
   "metadata": {},
   "source": [
    "#### CVE references"
   ]
  },
  {
   "cell_type": "code",
   "execution_count": null,
   "id": "df7eff17",
   "metadata": {},
   "outputs": [],
   "source": [
    "keywords=[\"cve\"]\n",
    "\n",
    "pattern = '|'.join(keywords)"
   ]
  },
  {
   "cell_type": "code",
   "execution_count": null,
   "id": "ded39a72",
   "metadata": {},
   "outputs": [],
   "source": [
    "cve_df = posts_threads_df[posts_threads_df[\"content\"].str.lower().str.contains(pattern)]\n",
    "cve_df"
   ]
  },
  {
   "cell_type": "markdown",
   "id": "b2288131",
   "metadata": {},
   "source": [
    "#### COVID References"
   ]
  },
  {
   "cell_type": "code",
   "execution_count": null,
   "id": "7c980a03",
   "metadata": {},
   "outputs": [],
   "source": [
    "keywords=[\"covid\", \"covid19\", \"covid-19\", \"sars\", \"sars-cov-2\", \"sars-cov\"]\n",
    "\n",
    "pattern = '|'.join(keywords)"
   ]
  },
  {
   "cell_type": "code",
   "execution_count": null,
   "id": "0078f70b",
   "metadata": {},
   "outputs": [],
   "source": [
    "covid_df = posts_threads_df[posts_threads_df[\"content\"].str.lower().str.contains(pattern)]\n",
    "covid_df"
   ]
  }
 ],
 "metadata": {
  "kernelspec": {
   "display_name": "Python 3 (ipykernel)",
   "language": "python",
   "name": "python3"
  },
  "language_info": {
   "codemirror_mode": {
    "name": "ipython",
    "version": 3
   },
   "file_extension": ".py",
   "mimetype": "text/x-python",
   "name": "python",
   "nbconvert_exporter": "python",
   "pygments_lexer": "ipython3",
   "version": "3.9.12"
  }
 },
 "nbformat": 4,
 "nbformat_minor": 5
}
