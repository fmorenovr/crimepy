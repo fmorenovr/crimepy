{
 "cells": [
  {
   "cell_type": "code",
   "execution_count": 2,
   "metadata": {},
   "outputs": [],
   "source": [
    "import gensim\n",
    "import pandas as pd\n",
    "import numpy as np\n",
    "from gensim.models.doc2vec import Doc2Vec, TaggedDocument\n",
    "from sklearn import preprocessing\n",
    "from sklearn.model_selection import train_test_split\n",
    "from sklearn.metrics import accuracy_score, f1_score, roc_auc_score\n",
    "from sklearn.model_selection import cross_val_score\n",
    "from sklearn.svm import SVC\n",
    "from scipy.sparse import hstack\n",
    "from sklearn.preprocessing import LabelEncoder"
   ]
  },
  {
   "cell_type": "code",
   "execution_count": 3,
   "metadata": {},
   "outputs": [
    {
     "data": {
      "text/html": [
       "<div>\n",
       "<style scoped>\n",
       "    .dataframe tbody tr th:only-of-type {\n",
       "        vertical-align: middle;\n",
       "    }\n",
       "\n",
       "    .dataframe tbody tr th {\n",
       "        vertical-align: top;\n",
       "    }\n",
       "\n",
       "    .dataframe thead th {\n",
       "        text-align: right;\n",
       "    }\n",
       "</style>\n",
       "<table border=\"1\" class=\"dataframe\">\n",
       "  <thead>\n",
       "    <tr style=\"text-align: right;\">\n",
       "      <th></th>\n",
       "      <th>index</th>\n",
       "      <th>Unnamed: 0</th>\n",
       "      <th>Unnamed: 0.1</th>\n",
       "      <th>CVE</th>\n",
       "      <th>IdPost</th>\n",
       "      <th>Time</th>\n",
       "      <th>Likes</th>\n",
       "      <th>Content</th>\n",
       "      <th>obs</th>\n",
       "      <th>exploitability</th>\n",
       "      <th>Tags1</th>\n",
       "      <th>Tags2</th>\n",
       "    </tr>\n",
       "  </thead>\n",
       "  <tbody>\n",
       "    <tr>\n",
       "      <th>0</th>\n",
       "      <td>0</td>\n",
       "      <td>0</td>\n",
       "      <td>1550.0</td>\n",
       "      <td>cve-2012-0500</td>\n",
       "      <td>7345.0</td>\n",
       "      <td>2012-03-06 00:28:00-03:00</td>\n",
       "      <td>NaN</td>\n",
       "      <td>binary analysis of oracle java cve: 2012-0500 ...</td>\n",
       "      <td>NaN</td>\n",
       "      <td>weaponization</td>\n",
       "      <td>NaN</td>\n",
       "      <td>NaN</td>\n",
       "    </tr>\n",
       "    <tr>\n",
       "      <th>1</th>\n",
       "      <td>2</td>\n",
       "      <td>2</td>\n",
       "      <td>1263.0</td>\n",
       "      <td>cve-2013-0431</td>\n",
       "      <td>32622237.0</td>\n",
       "      <td>2013-05-13 22:24:00-03:00</td>\n",
       "      <td>NaN</td>\n",
       "      <td>ok i've made threads about this before and non...</td>\n",
       "      <td>NaN</td>\n",
       "      <td>exploitation</td>\n",
       "      <td>NaN</td>\n",
       "      <td>NaN</td>\n",
       "    </tr>\n",
       "    <tr>\n",
       "      <th>2</th>\n",
       "      <td>4</td>\n",
       "      <td>4</td>\n",
       "      <td>1223.0</td>\n",
       "      <td>cve-2017-0199</td>\n",
       "      <td>56090050.0</td>\n",
       "      <td>2017-10-18 08:34:00-02:00</td>\n",
       "      <td>NaN</td>\n",
       "      <td>***citing***[https://hackforums.net/showthread...</td>\n",
       "      <td>Trillium</td>\n",
       "      <td>exploitation</td>\n",
       "      <td>NaN</td>\n",
       "      <td>NaN</td>\n",
       "    </tr>\n",
       "    <tr>\n",
       "      <th>3</th>\n",
       "      <td>5</td>\n",
       "      <td>5</td>\n",
       "      <td>1617.0</td>\n",
       "      <td>cve-2015-0313</td>\n",
       "      <td>45426930.0</td>\n",
       "      <td>2015-03-27 00:01:00-03:00</td>\n",
       "      <td>NaN</td>\n",
       "      <td>has cve means not 0day\\nif you're talking abou...</td>\n",
       "      <td>NaN</td>\n",
       "      <td>weaponization</td>\n",
       "      <td>NaN</td>\n",
       "      <td>NaN</td>\n",
       "    </tr>\n",
       "    <tr>\n",
       "      <th>4</th>\n",
       "      <td>6</td>\n",
       "      <td>6</td>\n",
       "      <td>526.0</td>\n",
       "      <td>cve-2016-5195</td>\n",
       "      <td>53854632.0</td>\n",
       "      <td>2017-01-19 02:07:00-02:00</td>\n",
       "      <td>NaN</td>\n",
       "      <td>how to get root access to any server\\n\\nhello ...</td>\n",
       "      <td>tutorial</td>\n",
       "      <td>PoC</td>\n",
       "      <td>exploitation</td>\n",
       "      <td>NaN</td>\n",
       "    </tr>\n",
       "  </tbody>\n",
       "</table>\n",
       "</div>"
      ],
      "text/plain": [
       "   index  Unnamed: 0  Unnamed: 0.1            CVE      IdPost  \\\n",
       "0      0           0        1550.0  cve-2012-0500      7345.0   \n",
       "1      2           2        1263.0  cve-2013-0431  32622237.0   \n",
       "2      4           4        1223.0  cve-2017-0199  56090050.0   \n",
       "3      5           5        1617.0  cve-2015-0313  45426930.0   \n",
       "4      6           6         526.0  cve-2016-5195  53854632.0   \n",
       "\n",
       "                        Time  Likes  \\\n",
       "0  2012-03-06 00:28:00-03:00    NaN   \n",
       "1  2013-05-13 22:24:00-03:00    NaN   \n",
       "2  2017-10-18 08:34:00-02:00    NaN   \n",
       "3  2015-03-27 00:01:00-03:00    NaN   \n",
       "4  2017-01-19 02:07:00-02:00    NaN   \n",
       "\n",
       "                                             Content       obs exploitability  \\\n",
       "0  binary analysis of oracle java cve: 2012-0500 ...       NaN  weaponization   \n",
       "1  ok i've made threads about this before and non...       NaN   exploitation   \n",
       "2  ***citing***[https://hackforums.net/showthread...  Trillium   exploitation   \n",
       "3  has cve means not 0day\\nif you're talking abou...       NaN  weaponization   \n",
       "4  how to get root access to any server\\n\\nhello ...  tutorial            PoC   \n",
       "\n",
       "          Tags1 Tags2  \n",
       "0           NaN   NaN  \n",
       "1           NaN   NaN  \n",
       "2           NaN   NaN  \n",
       "3           NaN   NaN  \n",
       "4  exploitation   NaN  "
      ]
     },
     "execution_count": 3,
     "metadata": {},
     "output_type": "execute_result"
    }
   ],
   "source": [
    "df = pd.read_csv(\"../crimeBB/crimebb_preprocessed.csv\")\n",
    "# df = pd.read_csv(\"../crimeBB/CVE_CrimeBB - cve_crimebb.csv\")\n",
    "df.dropna(subset=['Tags0'], inplace=True) # drop rows without labels\n",
    "df.CVE = df.CVE.str.lower()\n",
    "df.Content = df.Content.astype(str).str.lower()\n",
    "df = df[~df.Tags0.isin(['russian', '\\\\', 'others', 'doubt', 'error', 'market'])]\n",
    "df.rename(columns={'Tags0':'exploitability'}, inplace=True)\n",
    "df.reset_index(inplace=True)\n",
    "df.head()"
   ]
  },
  {
   "cell_type": "code",
   "execution_count": 29,
   "metadata": {},
   "outputs": [],
   "source": [
    "def ApplyDoc2Vec(model, df):\n",
    "    docvecs = [model.infer_vector(word_tokenize(doc)) for doc in df.Content]\n",
    "    X = hstack((docvecs, pd.DataFrame(df.nCVEs), pd.DataFrame(df.nLinks),\n",
    "                pd.DataFrame(df.AuthorNumPosts), pd.DataFrame(df.ThreadNumPosts)))\n",
    "    y = df.exploitability\n",
    "    X_train, X_test, y_train, y_test = train_test_split(X, y, test_size=0.2, random_state=23)\n",
    "    clf = SVC(gamma='auto')\n",
    "\n",
    "    clf.fit(X_train, y_train)\n",
    "    predicted = clf.predict(X_test)\n",
    "    print(accuracy_score(y_test, predicted))\n",
    "    print(cross_val_score(clf, X, y, cv=5).mean())\n",
    "#     print(\"F1 score: \", f1_score(y_test, predicted))\n",
    "#     print(\"ROC score: \", roc_auc_score(y_test, predicted))"
   ]
  },
  {
   "cell_type": "code",
   "execution_count": 26,
   "metadata": {},
   "outputs": [
    {
     "data": {
      "text/plain": [
       "Index(['IdPost', 'Author', 'Timestamp', 'Content', 'AuthorNumPosts',\n",
       "       'AuthorReputation', 'CitedPost', 'AuthorName', 'IdThread',\n",
       "       'ThreadAuthor', 'ThreadAuthorName', 'Board', 'Heading',\n",
       "       'ThreadNumPosts', 'index', 'Unnamed: 0', 'Unnamed: 0.1', 'CVE', 'Time',\n",
       "       'Likes', 'Content_y', 'obs', 'exploitability', 'Tags1', 'Tags2',\n",
       "       'nLinks', 'nCVEs'],\n",
       "      dtype='object')"
      ]
     },
     "execution_count": 26,
     "metadata": {},
     "output_type": "execute_result"
    }
   ],
   "source": [
    "posts.columns"
   ]
  },
  {
   "cell_type": "markdown",
   "metadata": {},
   "source": [
    "# Doc2Vec training only on sub dataset"
   ]
  },
  {
   "cell_type": "code",
   "execution_count": 22,
   "metadata": {},
   "outputs": [
    {
     "data": {
      "text/plain": [
       "(1954, 27)"
      ]
     },
     "execution_count": 22,
     "metadata": {},
     "output_type": "execute_result"
    }
   ],
   "source": [
    "df_full = pd.read_csv(\"all_posts_with_cve.csv\", header=0)\n",
    "posts = pd.merge(df_full, df, on=['IdPost'])\n",
    "posts.rename(columns={'Tags0': 'exploitability', 'NumPosts': 'ThreadNumPosts', 'Content_x':'Content'}, inplace=True)\n",
    "posts.shape"
   ]
  },
  {
   "cell_type": "code",
   "execution_count": 28,
   "metadata": {},
   "outputs": [
    {
     "ename": "KeyboardInterrupt",
     "evalue": "",
     "output_type": "error",
     "traceback": [
      "\u001b[0;31m---------------------------------------------------------------------------\u001b[0m",
      "\u001b[0;31mKeyboardInterrupt\u001b[0m                         Traceback (most recent call last)",
      "\u001b[0;32m<ipython-input-28-9ec4c5145807>\u001b[0m in \u001b[0;36m<module>\u001b[0;34m()\u001b[0m\n\u001b[1;32m      1\u001b[0m \u001b[0mdocuments\u001b[0m \u001b[0;34m=\u001b[0m \u001b[0;34m[\u001b[0m\u001b[0mTaggedDocument\u001b[0m\u001b[0;34m(\u001b[0m\u001b[0mdoc\u001b[0m\u001b[0;34m,\u001b[0m \u001b[0;34m[\u001b[0m\u001b[0mi\u001b[0m\u001b[0;34m]\u001b[0m\u001b[0;34m)\u001b[0m \u001b[0;32mfor\u001b[0m \u001b[0mi\u001b[0m\u001b[0;34m,\u001b[0m \u001b[0mdoc\u001b[0m \u001b[0;32min\u001b[0m \u001b[0menumerate\u001b[0m\u001b[0;34m(\u001b[0m\u001b[0mposts\u001b[0m\u001b[0;34m.\u001b[0m\u001b[0mContent\u001b[0m\u001b[0;34m)\u001b[0m\u001b[0;34m]\u001b[0m\u001b[0;34m\u001b[0m\u001b[0;34m\u001b[0m\u001b[0m\n\u001b[1;32m      2\u001b[0m \u001b[0mmodel\u001b[0m \u001b[0;34m=\u001b[0m \u001b[0mDoc2Vec\u001b[0m\u001b[0;34m(\u001b[0m\u001b[0mdocuments\u001b[0m\u001b[0;34m,\u001b[0m \u001b[0mvector_size\u001b[0m\u001b[0;34m=\u001b[0m\u001b[0;36m300\u001b[0m\u001b[0;34m,\u001b[0m \u001b[0mepochs\u001b[0m\u001b[0;34m=\u001b[0m\u001b[0;36m5\u001b[0m\u001b[0;34m,\u001b[0m \u001b[0mmin_count\u001b[0m\u001b[0;34m=\u001b[0m\u001b[0;36m2\u001b[0m\u001b[0;34m)\u001b[0m\u001b[0;34m\u001b[0m\u001b[0;34m\u001b[0m\u001b[0m\n\u001b[0;32m----> 3\u001b[0;31m \u001b[0mApplyDoc2Vec\u001b[0m\u001b[0;34m(\u001b[0m\u001b[0mmodel\u001b[0m\u001b[0;34m,\u001b[0m \u001b[0mposts\u001b[0m\u001b[0;34m)\u001b[0m\u001b[0;34m\u001b[0m\u001b[0;34m\u001b[0m\u001b[0m\n\u001b[0m",
      "\u001b[0;32m<ipython-input-27-d9a2d6863daa>\u001b[0m in \u001b[0;36mApplyDoc2Vec\u001b[0;34m(model, df)\u001b[0m\n\u001b[1;32m      1\u001b[0m \u001b[0;32mdef\u001b[0m \u001b[0mApplyDoc2Vec\u001b[0m\u001b[0;34m(\u001b[0m\u001b[0mmodel\u001b[0m\u001b[0;34m,\u001b[0m \u001b[0mdf\u001b[0m\u001b[0;34m)\u001b[0m\u001b[0;34m:\u001b[0m\u001b[0;34m\u001b[0m\u001b[0;34m\u001b[0m\u001b[0m\n\u001b[0;32m----> 2\u001b[0;31m     \u001b[0mdocvecs\u001b[0m \u001b[0;34m=\u001b[0m \u001b[0;34m[\u001b[0m\u001b[0mmodel\u001b[0m\u001b[0;34m.\u001b[0m\u001b[0minfer_vector\u001b[0m\u001b[0;34m(\u001b[0m\u001b[0mword_tokenize\u001b[0m\u001b[0;34m(\u001b[0m\u001b[0mdoc\u001b[0m\u001b[0;34m)\u001b[0m\u001b[0;34m)\u001b[0m \u001b[0;32mfor\u001b[0m \u001b[0mdoc\u001b[0m \u001b[0;32min\u001b[0m \u001b[0mdf\u001b[0m\u001b[0;34m.\u001b[0m\u001b[0mContent\u001b[0m\u001b[0;34m]\u001b[0m\u001b[0;34m\u001b[0m\u001b[0;34m\u001b[0m\u001b[0m\n\u001b[0m\u001b[1;32m      3\u001b[0m     \u001b[0mX\u001b[0m \u001b[0;34m=\u001b[0m \u001b[0mhstack\u001b[0m\u001b[0;34m(\u001b[0m\u001b[0;34m(\u001b[0m\u001b[0mdocvecs\u001b[0m\u001b[0;34m,\u001b[0m \u001b[0mpd\u001b[0m\u001b[0;34m.\u001b[0m\u001b[0mDataFrame\u001b[0m\u001b[0;34m(\u001b[0m\u001b[0mdf\u001b[0m\u001b[0;34m.\u001b[0m\u001b[0mnCVEs\u001b[0m\u001b[0;34m)\u001b[0m\u001b[0;34m,\u001b[0m \u001b[0mpd\u001b[0m\u001b[0;34m.\u001b[0m\u001b[0mDataFrame\u001b[0m\u001b[0;34m(\u001b[0m\u001b[0mdf\u001b[0m\u001b[0;34m.\u001b[0m\u001b[0mnLinks\u001b[0m\u001b[0;34m)\u001b[0m\u001b[0;34m,\u001b[0m \u001b[0mpd\u001b[0m\u001b[0;34m.\u001b[0m\u001b[0mDataFrame\u001b[0m\u001b[0;34m(\u001b[0m\u001b[0mdf\u001b[0m\u001b[0;34m.\u001b[0m\u001b[0mAuthorNumPosts\u001b[0m\u001b[0;34m)\u001b[0m\u001b[0;34m)\u001b[0m\u001b[0;34m)\u001b[0m\u001b[0;34m\u001b[0m\u001b[0;34m\u001b[0m\u001b[0m\n\u001b[1;32m      4\u001b[0m     \u001b[0my\u001b[0m \u001b[0;34m=\u001b[0m \u001b[0mdf\u001b[0m\u001b[0;34m.\u001b[0m\u001b[0mexploitability\u001b[0m\u001b[0;34m\u001b[0m\u001b[0;34m\u001b[0m\u001b[0m\n\u001b[1;32m      5\u001b[0m     \u001b[0mX_train\u001b[0m\u001b[0;34m,\u001b[0m \u001b[0mX_test\u001b[0m\u001b[0;34m,\u001b[0m \u001b[0my_train\u001b[0m\u001b[0;34m,\u001b[0m \u001b[0my_test\u001b[0m \u001b[0;34m=\u001b[0m \u001b[0mtrain_test_split\u001b[0m\u001b[0;34m(\u001b[0m\u001b[0mX\u001b[0m\u001b[0;34m,\u001b[0m \u001b[0my\u001b[0m\u001b[0;34m,\u001b[0m \u001b[0mtest_size\u001b[0m\u001b[0;34m=\u001b[0m\u001b[0;36m0.2\u001b[0m\u001b[0;34m,\u001b[0m \u001b[0mrandom_state\u001b[0m\u001b[0;34m=\u001b[0m\u001b[0;36m23\u001b[0m\u001b[0;34m)\u001b[0m\u001b[0;34m\u001b[0m\u001b[0;34m\u001b[0m\u001b[0m\n",
      "\u001b[0;32m<ipython-input-27-d9a2d6863daa>\u001b[0m in \u001b[0;36m<listcomp>\u001b[0;34m(.0)\u001b[0m\n\u001b[1;32m      1\u001b[0m \u001b[0;32mdef\u001b[0m \u001b[0mApplyDoc2Vec\u001b[0m\u001b[0;34m(\u001b[0m\u001b[0mmodel\u001b[0m\u001b[0;34m,\u001b[0m \u001b[0mdf\u001b[0m\u001b[0;34m)\u001b[0m\u001b[0;34m:\u001b[0m\u001b[0;34m\u001b[0m\u001b[0;34m\u001b[0m\u001b[0m\n\u001b[0;32m----> 2\u001b[0;31m     \u001b[0mdocvecs\u001b[0m \u001b[0;34m=\u001b[0m \u001b[0;34m[\u001b[0m\u001b[0mmodel\u001b[0m\u001b[0;34m.\u001b[0m\u001b[0minfer_vector\u001b[0m\u001b[0;34m(\u001b[0m\u001b[0mword_tokenize\u001b[0m\u001b[0;34m(\u001b[0m\u001b[0mdoc\u001b[0m\u001b[0;34m)\u001b[0m\u001b[0;34m)\u001b[0m \u001b[0;32mfor\u001b[0m \u001b[0mdoc\u001b[0m \u001b[0;32min\u001b[0m \u001b[0mdf\u001b[0m\u001b[0;34m.\u001b[0m\u001b[0mContent\u001b[0m\u001b[0;34m]\u001b[0m\u001b[0;34m\u001b[0m\u001b[0;34m\u001b[0m\u001b[0m\n\u001b[0m\u001b[1;32m      3\u001b[0m     \u001b[0mX\u001b[0m \u001b[0;34m=\u001b[0m \u001b[0mhstack\u001b[0m\u001b[0;34m(\u001b[0m\u001b[0;34m(\u001b[0m\u001b[0mdocvecs\u001b[0m\u001b[0;34m,\u001b[0m \u001b[0mpd\u001b[0m\u001b[0;34m.\u001b[0m\u001b[0mDataFrame\u001b[0m\u001b[0;34m(\u001b[0m\u001b[0mdf\u001b[0m\u001b[0;34m.\u001b[0m\u001b[0mnCVEs\u001b[0m\u001b[0;34m)\u001b[0m\u001b[0;34m,\u001b[0m \u001b[0mpd\u001b[0m\u001b[0;34m.\u001b[0m\u001b[0mDataFrame\u001b[0m\u001b[0;34m(\u001b[0m\u001b[0mdf\u001b[0m\u001b[0;34m.\u001b[0m\u001b[0mnLinks\u001b[0m\u001b[0;34m)\u001b[0m\u001b[0;34m,\u001b[0m \u001b[0mpd\u001b[0m\u001b[0;34m.\u001b[0m\u001b[0mDataFrame\u001b[0m\u001b[0;34m(\u001b[0m\u001b[0mdf\u001b[0m\u001b[0;34m.\u001b[0m\u001b[0mAuthorNumPosts\u001b[0m\u001b[0;34m)\u001b[0m\u001b[0;34m)\u001b[0m\u001b[0;34m)\u001b[0m\u001b[0;34m\u001b[0m\u001b[0;34m\u001b[0m\u001b[0m\n\u001b[1;32m      4\u001b[0m     \u001b[0my\u001b[0m \u001b[0;34m=\u001b[0m \u001b[0mdf\u001b[0m\u001b[0;34m.\u001b[0m\u001b[0mexploitability\u001b[0m\u001b[0;34m\u001b[0m\u001b[0;34m\u001b[0m\u001b[0m\n\u001b[1;32m      5\u001b[0m     \u001b[0mX_train\u001b[0m\u001b[0;34m,\u001b[0m \u001b[0mX_test\u001b[0m\u001b[0;34m,\u001b[0m \u001b[0my_train\u001b[0m\u001b[0;34m,\u001b[0m \u001b[0my_test\u001b[0m \u001b[0;34m=\u001b[0m \u001b[0mtrain_test_split\u001b[0m\u001b[0;34m(\u001b[0m\u001b[0mX\u001b[0m\u001b[0;34m,\u001b[0m \u001b[0my\u001b[0m\u001b[0;34m,\u001b[0m \u001b[0mtest_size\u001b[0m\u001b[0;34m=\u001b[0m\u001b[0;36m0.2\u001b[0m\u001b[0;34m,\u001b[0m \u001b[0mrandom_state\u001b[0m\u001b[0;34m=\u001b[0m\u001b[0;36m23\u001b[0m\u001b[0;34m)\u001b[0m\u001b[0;34m\u001b[0m\u001b[0;34m\u001b[0m\u001b[0m\n",
      "\u001b[0;32m/usr/local/lib/python3.6/dist-packages/gensim/models/doc2vec.py\u001b[0m in \u001b[0;36minfer_vector\u001b[0;34m(self, doc_words, alpha, min_alpha, epochs, steps)\u001b[0m\n\u001b[1;32m    944\u001b[0m                 train_document_dm(\n\u001b[1;32m    945\u001b[0m                     \u001b[0mself\u001b[0m\u001b[0;34m,\u001b[0m \u001b[0mdoc_words\u001b[0m\u001b[0;34m,\u001b[0m \u001b[0mdoctag_indexes\u001b[0m\u001b[0;34m,\u001b[0m \u001b[0malpha\u001b[0m\u001b[0;34m,\u001b[0m \u001b[0mwork\u001b[0m\u001b[0;34m,\u001b[0m \u001b[0mneu1\u001b[0m\u001b[0;34m,\u001b[0m\u001b[0;34m\u001b[0m\u001b[0;34m\u001b[0m\u001b[0m\n\u001b[0;32m--> 946\u001b[0;31m                     \u001b[0mlearn_words\u001b[0m\u001b[0;34m=\u001b[0m\u001b[0;32mFalse\u001b[0m\u001b[0;34m,\u001b[0m \u001b[0mlearn_hidden\u001b[0m\u001b[0;34m=\u001b[0m\u001b[0;32mFalse\u001b[0m\u001b[0;34m,\u001b[0m \u001b[0mdoctag_vectors\u001b[0m\u001b[0;34m=\u001b[0m\u001b[0mdoctag_vectors\u001b[0m\u001b[0;34m,\u001b[0m \u001b[0mdoctag_locks\u001b[0m\u001b[0;34m=\u001b[0m\u001b[0mdoctag_locks\u001b[0m\u001b[0;34m\u001b[0m\u001b[0;34m\u001b[0m\u001b[0m\n\u001b[0m\u001b[1;32m    947\u001b[0m                 )\n\u001b[1;32m    948\u001b[0m             \u001b[0malpha\u001b[0m \u001b[0;34m-=\u001b[0m \u001b[0malpha_delta\u001b[0m\u001b[0;34m\u001b[0m\u001b[0;34m\u001b[0m\u001b[0m\n",
      "\u001b[0;31mKeyboardInterrupt\u001b[0m: "
     ]
    }
   ],
   "source": [
    "documents = [TaggedDocument(doc, [i]) for i, doc in enumerate(posts.Content)]\n",
    "model = Doc2Vec(documents, vector_size=300, epochs=5, min_count=2)\n",
    "ApplyDoc2Vec(model, posts)"
   ]
  },
  {
   "cell_type": "markdown",
   "metadata": {},
   "source": [
    "# Using model trained on whole Hackforums"
   ]
  },
  {
   "cell_type": "code",
   "execution_count": 40,
   "metadata": {},
   "outputs": [
    {
     "name": "stdout",
     "output_type": "stream",
     "text": [
      "0.805045871559633\n",
      "0.763914028061858\n"
     ]
    }
   ],
   "source": [
    "model = Doc2Vec.load(\"hackforums_vecsize50\")\n",
    "docvecs = [model.infer_vector(word_tokenize(doc)) for doc in df.Content]\n",
    "# X = hstack((docvecs, pd.DataFrame(df.nCVEs), pd.DataFrame(df.nLinks),\n",
    "#             pd.DataFrame(df.ScanKeywords), pd.DataFrame(df.cvss_score)))\n",
    "X = hstack((docvecs, pd.DataFrame(df.nCVEs), pd.DataFrame(df.nLinks)))\n",
    "y = df.Tags0\n",
    "X_train, X_test, y_train, y_test = train_test_split(X, y, test_size=0.2, random_state=23)\n",
    "clf = SVC(gamma='auto')\n",
    "\n",
    "clf.fit(X_train, y_train)\n",
    "print(accuracy_score(y_test, clf.predict(X_test)))\n",
    "print(cross_val_score(clf, X, y, cv=5).mean())"
   ]
  },
  {
   "cell_type": "code",
   "execution_count": 20,
   "metadata": {},
   "outputs": [
    {
     "name": "stderr",
     "output_type": "stream",
     "text": [
      "/home/mateus/.local/lib/python3.6/site-packages/sklearn/preprocessing/label.py:151: DeprecationWarning: The truth value of an empty array is ambiguous. Returning False, but in future this will result in an error. Use `array.size > 0` to check that an array is not empty.\n",
      "  if diff:\n",
      "/home/mateus/.local/lib/python3.6/site-packages/sklearn/preprocessing/label.py:151: DeprecationWarning: The truth value of an empty array is ambiguous. Returning False, but in future this will result in an error. Use `array.size > 0` to check that an array is not empty.\n",
      "  if diff:\n"
     ]
    }
   ],
   "source": [
    "df = df[(lbl.inverse_transform(df.Tags0) == 'exploitation') | (lbl.inverse_transform(df.Tags0) == 'PoC')]"
   ]
  },
  {
   "cell_type": "markdown",
   "metadata": {},
   "source": [
    "# Training a much more simple Doc2Vec Neural Network with posts citing CVEs and posts that don't but respond to a Thread that does"
   ]
  },
  {
   "cell_type": "code",
   "execution_count": 8,
   "metadata": {},
   "outputs": [],
   "source": [
    "cves_heading = pd.read_csv(\"posts_without_cve_but_heading_with_it.csv\")\n",
    "cves_posts = pd.read_csv(\"posts_cve_but_not_in_heading.csv\")\n",
    "cves_both = pd.read_csv(\"posts_cve_both.csv\")\n",
    "posts = pd.concat([cves_heading, cves_posts, cves_both])\n",
    "posts.Content = posts.Content.map(preprocessLine)"
   ]
  },
  {
   "cell_type": "code",
   "execution_count": null,
   "metadata": {},
   "outputs": [],
   "source": [
    "documents = [TaggedDocument(doc, [i]) for i, doc in enumerate(posts.Content)]\n",
    "model = Doc2Vec(documents, vector_size=100, epochs=5, min_count=2)"
   ]
  },
  {
   "cell_type": "code",
   "execution_count": 29,
   "metadata": {},
   "outputs": [
    {
     "name": "stdout",
     "output_type": "stream",
     "text": [
      "0.9154411764705882\n",
      "0.8888291569190201\n",
      "F1 score:  0.8588957055214723\n",
      "ROC score:  0.9292007985131134\n"
     ]
    }
   ],
   "source": [
    "ApplyDoc2Vec(model, df)"
   ]
  },
  {
   "cell_type": "code",
   "execution_count": 11,
   "metadata": {},
   "outputs": [
    {
     "data": {
      "text/html": [
       "<div>\n",
       "<style scoped>\n",
       "    .dataframe tbody tr th:only-of-type {\n",
       "        vertical-align: middle;\n",
       "    }\n",
       "\n",
       "    .dataframe tbody tr th {\n",
       "        vertical-align: top;\n",
       "    }\n",
       "\n",
       "    .dataframe thead th {\n",
       "        text-align: right;\n",
       "    }\n",
       "</style>\n",
       "<table border=\"1\" class=\"dataframe\">\n",
       "  <thead>\n",
       "    <tr style=\"text-align: right;\">\n",
       "      <th></th>\n",
       "      <th>Title</th>\n",
       "      <th>count</th>\n",
       "    </tr>\n",
       "  </thead>\n",
       "  <tbody>\n",
       "    <tr>\n",
       "      <th>0</th>\n",
       "      <td>Pentesting and Forensics</td>\n",
       "      <td>560</td>\n",
       "    </tr>\n",
       "    <tr>\n",
       "      <th>1</th>\n",
       "      <td>Premium Tools and Programs</td>\n",
       "      <td>433</td>\n",
       "    </tr>\n",
       "    <tr>\n",
       "      <th>2</th>\n",
       "      <td>Website and Forum Hacking</td>\n",
       "      <td>331</td>\n",
       "    </tr>\n",
       "    <tr>\n",
       "      <th>3</th>\n",
       "      <td>Hacking Tools and Programs</td>\n",
       "      <td>249</td>\n",
       "    </tr>\n",
       "    <tr>\n",
       "      <th>4</th>\n",
       "      <td>Beginner Hacking</td>\n",
       "      <td>219</td>\n",
       "    </tr>\n",
       "    <tr>\n",
       "      <th>5</th>\n",
       "      <td>Premium Sellers Section</td>\n",
       "      <td>210</td>\n",
       "    </tr>\n",
       "    <tr>\n",
       "      <th>6</th>\n",
       "      <td>Botnets, IRC Bots, and Zombies</td>\n",
       "      <td>161</td>\n",
       "    </tr>\n",
       "    <tr>\n",
       "      <th>7</th>\n",
       "      <td>Secondary Sellers Market</td>\n",
       "      <td>91</td>\n",
       "    </tr>\n",
       "    <tr>\n",
       "      <th>8</th>\n",
       "      <td>News and Happenings</td>\n",
       "      <td>75</td>\n",
       "    </tr>\n",
       "    <tr>\n",
       "      <th>9</th>\n",
       "      <td>Remote Administration Tools</td>\n",
       "      <td>75</td>\n",
       "    </tr>\n",
       "    <tr>\n",
       "      <th>10</th>\n",
       "      <td>Hacking Tutorials</td>\n",
       "      <td>74</td>\n",
       "    </tr>\n",
       "    <tr>\n",
       "      <th>11</th>\n",
       "      <td>White Hat Malware, Virus, and Rat Removal Help</td>\n",
       "      <td>46</td>\n",
       "    </tr>\n",
       "    <tr>\n",
       "      <th>12</th>\n",
       "      <td>Computer Protection and Security Alerts</td>\n",
       "      <td>37</td>\n",
       "    </tr>\n",
       "    <tr>\n",
       "      <th>13</th>\n",
       "      <td>Requests for Hacking</td>\n",
       "      <td>32</td>\n",
       "    </tr>\n",
       "    <tr>\n",
       "      <th>14</th>\n",
       "      <td>Java Language, JVM, and the JRE</td>\n",
       "      <td>32</td>\n",
       "    </tr>\n",
       "    <tr>\n",
       "      <th>15</th>\n",
       "      <td>Buyers Bay</td>\n",
       "      <td>28</td>\n",
       "    </tr>\n",
       "    <tr>\n",
       "      <th>16</th>\n",
       "      <td>PHP Development</td>\n",
       "      <td>28</td>\n",
       "    </tr>\n",
       "    <tr>\n",
       "      <th>17</th>\n",
       "      <td>Python</td>\n",
       "      <td>26</td>\n",
       "    </tr>\n",
       "    <tr>\n",
       "      <th>18</th>\n",
       "      <td>The Lounge</td>\n",
       "      <td>26</td>\n",
       "    </tr>\n",
       "    <tr>\n",
       "      <th>19</th>\n",
       "      <td>Partnerships, Hiring, and Personnel</td>\n",
       "      <td>25</td>\n",
       "    </tr>\n",
       "    <tr>\n",
       "      <th>20</th>\n",
       "      <td>SQL Injection Attacks</td>\n",
       "      <td>25</td>\n",
       "    </tr>\n",
       "    <tr>\n",
       "      <th>21</th>\n",
       "      <td>Linux, FreeBSD, and Unix Flavors</td>\n",
       "      <td>21</td>\n",
       "    </tr>\n",
       "    <tr>\n",
       "      <th>22</th>\n",
       "      <td>Wifi WPA WEP Bluetooth 4G LTE Wireless Hacking</td>\n",
       "      <td>19</td>\n",
       "    </tr>\n",
       "    <tr>\n",
       "      <th>23</th>\n",
       "      <td>Worms, Malware, and Viruses</td>\n",
       "      <td>18</td>\n",
       "    </tr>\n",
       "    <tr>\n",
       "      <th>24</th>\n",
       "      <td>Marketplace Discussions</td>\n",
       "      <td>18</td>\n",
       "    </tr>\n",
       "    <tr>\n",
       "      <th>25</th>\n",
       "      <td>Decompiling, Reverse Engineering, Disassembly,...</td>\n",
       "      <td>15</td>\n",
       "    </tr>\n",
       "    <tr>\n",
       "      <th>26</th>\n",
       "      <td>C/C++/Obj-C Programming</td>\n",
       "      <td>11</td>\n",
       "    </tr>\n",
       "    <tr>\n",
       "      <th>27</th>\n",
       "      <td>Service Offerings</td>\n",
       "      <td>11</td>\n",
       "    </tr>\n",
       "    <tr>\n",
       "      <th>28</th>\n",
       "      <td>Video Tutorials</td>\n",
       "      <td>11</td>\n",
       "    </tr>\n",
       "    <tr>\n",
       "      <th>29</th>\n",
       "      <td>Griefing</td>\n",
       "      <td>10</td>\n",
       "    </tr>\n",
       "  </tbody>\n",
       "</table>\n",
       "</div>"
      ],
      "text/plain": [
       "                                                Title  count\n",
       "0                            Pentesting and Forensics    560\n",
       "1                          Premium Tools and Programs    433\n",
       "2                           Website and Forum Hacking    331\n",
       "3                          Hacking Tools and Programs    249\n",
       "4                                    Beginner Hacking    219\n",
       "5                             Premium Sellers Section    210\n",
       "6                      Botnets, IRC Bots, and Zombies    161\n",
       "7                            Secondary Sellers Market     91\n",
       "8                                 News and Happenings     75\n",
       "9                         Remote Administration Tools     75\n",
       "10                                  Hacking Tutorials     74\n",
       "11     White Hat Malware, Virus, and Rat Removal Help     46\n",
       "12            Computer Protection and Security Alerts     37\n",
       "13                               Requests for Hacking     32\n",
       "14                    Java Language, JVM, and the JRE     32\n",
       "15                                         Buyers Bay     28\n",
       "16                                    PHP Development     28\n",
       "17                                             Python     26\n",
       "18                                         The Lounge     26\n",
       "19                Partnerships, Hiring, and Personnel     25\n",
       "20                              SQL Injection Attacks     25\n",
       "21                   Linux, FreeBSD, and Unix Flavors     21\n",
       "22     Wifi WPA WEP Bluetooth 4G LTE Wireless Hacking     19\n",
       "23                        Worms, Malware, and Viruses     18\n",
       "24                            Marketplace Discussions     18\n",
       "25  Decompiling, Reverse Engineering, Disassembly,...     15\n",
       "26                            C/C++/Obj-C Programming     11\n",
       "27                                  Service Offerings     11\n",
       "28                                    Video Tutorials     11\n",
       "29                                           Griefing     10"
      ]
     },
     "execution_count": 11,
     "metadata": {},
     "output_type": "execute_result"
    }
   ],
   "source": [
    "boards = pd.read_csv(\"boards.csv\")\n",
    "boards.head(30)"
   ]
  },
  {
   "cell_type": "code",
   "execution_count": 21,
   "metadata": {},
   "outputs": [
    {
     "name": "stderr",
     "output_type": "stream",
     "text": [
      "/home/mateus/.local/lib/python3.6/site-packages/scipy/stats/stats.py:1713: FutureWarning: Using a non-tuple sequence for multidimensional indexing is deprecated; use `arr[tuple(seq)]` instead of `arr[seq]`. In the future this will be interpreted as an array index, `arr[np.array(seq)]`, which will result either in an error or a different result.\n",
      "  return np.add.reduce(sorted[indexer] * weights, axis=axis) / sumval\n"
     ]
    },
    {
     "data": {
      "text/plain": [
       "<matplotlib.axes._subplots.AxesSubplot at 0x7f2dc067e908>"
      ]
     },
     "execution_count": 21,
     "metadata": {},
     "output_type": "execute_result"
    },
    {
     "data": {
      "image/png": "[encoded data removed]",
      "text/plain": [
       "<Figure size 432x288 with 1 Axes>"
      ]
     },
     "metadata": {},
     "output_type": "display_data"
    }
   ],
   "source": [
    "import seaborn as sns\n",
    "sns.distplot(boards['count'])"
   ]
  },
  {
   "cell_type": "code",
   "execution_count": 42,
   "metadata": {},
   "outputs": [
    {
     "data": {
      "text/plain": [
       "array(['Pentesting and Forensics', 'Premium Tools and Programs',\n",
       "       'Website and Forum Hacking', 'Hacking Tools and Programs',\n",
       "       'Beginner Hacking', 'Premium Sellers Section',\n",
       "       'Botnets, IRC Bots, and Zombies', 'Secondary Sellers Market',\n",
       "       'News and Happenings', 'Remote Administration Tools',\n",
       "       'Hacking Tutorials',\n",
       "       'White Hat Malware, Virus, and Rat Removal Help',\n",
       "       'Computer Protection and Security Alerts', 'Requests for Hacking',\n",
       "       'Java Language, JVM, and the JRE', 'Buyers Bay', 'PHP Development',\n",
       "       'Python', 'The Lounge', 'Partnerships, Hiring, and Personnel',\n",
       "       'SQL Injection Attacks', 'Linux, FreeBSD, and Unix Flavors',\n",
       "       'Wifi WPA WEP Bluetooth 4G LTE Wireless Hacking',\n",
       "       'Worms, Malware, and Viruses', 'Marketplace Discussions',\n",
       "       'Decompiling, Reverse Engineering, Disassembly, and Debugging',\n",
       "       'C/C++/Obj-C Programming', 'Service Offerings', 'Video Tutorials',\n",
       "       'Griefing', 'Cryptography and Encryption Market',\n",
       "       'Rules,  Announcements, News, and Feedback',\n",
       "       'Android Operating System',\n",
       "       'Cryptography, Encryption, and Decryption', 'HF News',\n",
       "       'Free Services and Giveaways', 'Appraisals and Pricing',\n",
       "       'iOS and iDevices', 'VPN Hosting and Services', 'Member Auctions',\n",
       "       'Deal Disputes', 'Ebook Bazaar',\n",
       "       'Group and Crew General Discussions',\n",
       "       'Wordpress, Drupal, and Joomla',\n",
       "       'Embedded Systems, Electronics, Gadgets, and DIY',\n",
       "       'Networking, Routers, Switches, and Firewalls',\n",
       "       'Visual Basic and .NET Framework',\n",
       "       'Smartphone, Mobiles, Apps, and SDK', 'Traders Topics',\n",
       "       'Perl Programming', 'Service Requests', 'Habbo Hotel',\n",
       "       'C# Programming Language', 'Coding and Programming', 'AutoIT',\n",
       "       'Movies, TV, and Videos', 'Minecraft',\n",
       "       'Microsoft Windows, XP, Vista, and Windows 7', 'Member Contests',\n",
       "       'Keyloggers', 'Jtag/RGH Mods', 'Javascript and Ajax',\n",
       "       'Android Development', 'Introductions',\n",
       "       'Free Ebook Hacking Tutorials',\n",
       "       'Skype, IRC, ICQ, AIM, XMPP, and IM Hacks', 'Virtual Machines',\n",
       "       'VPN, Proxies, and Socks',\n",
       "       'Batch, Shell, Dos, and Command Line Interpreters',\n",
       "       'Miscellaneous Computer Talk'], dtype=object)"
      ]
     },
     "execution_count": 42,
     "metadata": {},
     "output_type": "execute_result"
    }
   ],
   "source": [
    "boards.Title.values"
   ]
  }
 ],
 "metadata": {
  "kernelspec": {
   "display_name": "Python 3",
   "language": "python",
   "name": "python3"
  },
  "language_info": {
   "codemirror_mode": {
    "name": "ipython",
    "version": 3
   },
   "file_extension": ".py",
   "mimetype": "text/x-python",
   "name": "python",
   "nbconvert_exporter": "python",
   "pygments_lexer": "ipython3",
   "version": "3.6.8"
  }
 },
 "nbformat": 4,
 "nbformat_minor": 2
}
