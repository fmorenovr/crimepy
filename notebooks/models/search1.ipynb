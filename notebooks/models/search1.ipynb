{
 "cells": [
  {
   "cell_type": "code",
   "execution_count": 1,
   "metadata": {},
   "outputs": [
    {
     "data": {
      "text/plain": [
       "0"
      ]
     },
     "execution_count": 1,
     "metadata": {},
     "output_type": "execute_result"
    }
   ],
   "source": [
    "import pandas as pd\n",
    "import numpy as np\n",
    "from nltk import RegexpTokenizer\n",
    "import multiprocessing\n",
    "import time\n",
    "import gc\n",
    "import matplotlib.pyplot as plt\n",
    "from matplotlib_venn import venn2\n",
    "gc.collect()"
   ]
  },
  {
   "cell_type": "code",
   "execution_count": 4,
   "metadata": {},
   "outputs": [],
   "source": [
    "def getIdsRefCves(file):\n",
    "#     df = pd.read_csv(file, names=['IdPost', 'Content', 'Heading'])\n",
    "    df = pd.read_csv(file, header=0, usecols=['IdPost', 'Content', 'Heading'])\n",
    "#     df.IdPost = df.IdPost.astype('int32')\n",
    "    df['Content'] = df['Content'].astype(str).str.lower()\n",
    "    df['Heading'] = df['Heading'].astype(str).str.lower()\n",
    "    df['nCvesContent'] = df['Content'].map(lambda t: len(cves_tkr.tokenize(t)))\n",
    "    df['nCvesHeading'] = df['Heading'].map(lambda t: len(cves_tkr.tokenize(t)))\n",
    "\n",
    "    pt_ids = np.array(df[(df['nCvesContent'] > 0) | (df['nCvesHeading'] > 0)]['IdPost'])\n",
    "    p_ids = np.array(df[df['nCvesContent'] > 0]['IdPost'])\n",
    "    t_ids = np.array(df[df['nCvesHeading'] > 0]['IdPost'])\n",
    "    del df\n",
    "    return pt_ids, p_ids, t_ids"
   ]
  },
  {
   "cell_type": "code",
   "execution_count": 5,
   "metadata": {},
   "outputs": [
    {
     "name": "stdout",
     "output_type": "stream",
     "text": [
      "File: 1 demorou 29.5484721660614 segundos\n"
     ]
    }
   ],
   "source": [
    "files = ['../Antichat/antichat.csv']\n",
    "cves_tkr = RegexpTokenizer(r\"cve-\\d+-\\d+|cve-\\d+\")\n",
    "\n",
    "pt_ids = np.array([])\n",
    "p_ids = np.array([])\n",
    "t_ids = np.array([])\n",
    "i = 1\n",
    "for file in files:    \n",
    "    gc.collect()\n",
    "    start = time.time()\n",
    "    pt_ids_, p_ids_, t_ids_ = getIdsRefCves(file)\n",
    "#     pool = multiprocessing.Pool(1)\n",
    "#     res = pool.apply(getIdsRefCves, [file])\n",
    "    print(\"File: {} demorou {} segundos\".format(i,time.time()-start))\n",
    "    pt_ids = np.concatenate((pt_ids, pt_ids_))\n",
    "    p_ids = np.concatenate((p_ids_, p_ids))\n",
    "    t_ids = np.concatenate((t_ids_, t_ids))\n",
    "    i+=1    "
   ]
  },
  {
   "cell_type": "code",
   "execution_count": 6,
   "metadata": {},
   "outputs": [
    {
     "name": "stdout",
     "output_type": "stream",
     "text": [
      "#Posts:  310\n",
      "#Threads:  132\n",
      "#Posts and #Threads:  419\n"
     ]
    }
   ],
   "source": [
    "print(\"#Posts: \", len(p_ids))\n",
    "print(\"#Threads: \", len(t_ids))\n",
    "print(\"#Posts and #Threads: \", len(pt_ids))"
   ]
  },
  {
   "cell_type": "code",
   "execution_count": 7,
   "metadata": {},
   "outputs": [
    {
     "data": {
      "text/plain": [
       "310"
      ]
     },
     "execution_count": 7,
     "metadata": {},
     "output_type": "execute_result"
    }
   ],
   "source": [
    "len(set(p_ids))"
   ]
  },
  {
   "cell_type": "code",
   "execution_count": null,
   "metadata": {},
   "outputs": [],
   "source": [
    "posts = set(p_ids)\n",
    "threads = set(t_ids)\n",
    "\n",
    "venn2([posts, threads], set_labels = ('Posts citing CVEs', \"Posts not citing CVEs\\nbut with its Thread's heading doing it\"))\n",
    "# plt.savefig(\"venn_posts_headings\")"
   ]
  },
  {
   "cell_type": "code",
   "execution_count": 8,
   "metadata": {},
   "outputs": [],
   "source": [
    "def floatListToStr(l):\n",
    "    return \", \".join([str(int(n)) for n in l])"
   ]
  },
  {
   "cell_type": "code",
   "execution_count": 9,
   "metadata": {},
   "outputs": [],
   "source": [
    "f = open(\"all_posts_with_cves.txt\", \"w\")\n",
    "f.write(floatListToStr(pt_ids))\n",
    "# f.write(intListToStr(threads.intersection(posts)))\n",
    "f.close()"
   ]
  },
  {
   "cell_type": "code",
   "execution_count": 9,
   "metadata": {},
   "outputs": [],
   "source": [
    "# get what really matters: threads ids\n",
    "# with open('../Antichat/threads.txt', 'w') as f:\n",
    "#     for i in df['IdThread'].unique():\n",
    "#         f.write(str(i) + \", \")"
   ]
  }
 ],
 "metadata": {
  "kernelspec": {
   "display_name": "Python 3",
   "language": "python",
   "name": "python3"
  },
  "language_info": {
   "codemirror_mode": {
    "name": "ipython",
    "version": 3
   },
   "file_extension": ".py",
   "mimetype": "text/x-python",
   "name": "python",
   "nbconvert_exporter": "python",
   "pygments_lexer": "ipython3",
   "version": "3.8.5"
  }
 },
 "nbformat": 4,
 "nbformat_minor": 2
}
