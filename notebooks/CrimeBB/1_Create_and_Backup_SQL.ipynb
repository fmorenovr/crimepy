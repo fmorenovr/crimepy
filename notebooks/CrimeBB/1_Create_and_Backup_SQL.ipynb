{
 "cells": [
  {
   "cell_type": "code",
   "execution_count": 3,
   "id": "7628f34a",
   "metadata": {},
   "outputs": [],
   "source": [
    "import sys, os\n",
    "\n",
    "module_path = os.path.abspath(os.path.join('../..'))\n",
    "if module_path not in sys.path:\n",
    "    sys.path.append(module_path)"
   ]
  },
  {
   "cell_type": "code",
   "execution_count": 4,
   "id": "a74c330c",
   "metadata": {},
   "outputs": [],
   "source": [
    "from crimebb import *"
   ]
  },
  {
   "cell_type": "code",
   "execution_count": null,
   "id": "5ab3dd98",
   "metadata": {},
   "outputs": [],
   "source": [
    "# sudo setfacl -m u:postgres:rwx /media/fmorenovr"
   ]
  },
  {
   "cell_type": "code",
   "execution_count": null,
   "id": "98045a9a",
   "metadata": {},
   "outputs": [],
   "source": [
    "YEAR=\"2019\""
   ]
  },
  {
   "cell_type": "code",
   "execution_count": null,
   "id": "b7c9ed2a",
   "metadata": {},
   "outputs": [],
   "source": [
    "DATA_PATH=\"../../data/\"\n",
    "SQL_PATH = f\"{DATA_PATH}sql/{YEAR}/\""
   ]
  },
  {
   "cell_type": "code",
   "execution_count": null,
   "id": "620019b0",
   "metadata": {},
   "outputs": [],
   "source": [
    "delete_preivous_db=True"
   ]
  },
  {
   "cell_type": "markdown",
   "id": "4d59da0b",
   "metadata": {},
   "source": [
    "### Database connection"
   ]
  },
  {
   "cell_type": "code",
   "execution_count": null,
   "id": "9f1733ff",
   "metadata": {},
   "outputs": [],
   "source": [
    "config = openFile(f'{DATA_PATH}/db_config.json')\n",
    "config_file = config['postgres_connection']\n",
    "config_file"
   ]
  },
  {
   "cell_type": "markdown",
   "id": "d90b6c7f",
   "metadata": {},
   "source": [
    "### Listing sql files and paths"
   ]
  },
  {
   "cell_type": "code",
   "execution_count": null,
   "id": "7aa1d90a",
   "metadata": {
    "scrolled": true
   },
   "outputs": [],
   "source": [
    "list_dbs, path_dbs, dict_dbs = get_db_names(f\"{SQL_PATH}/*.sql\")\n",
    "\n",
    "print(\"DB Name\\n\", list_dbs,\"\\n\")\n",
    "print(\"DB Path\\n\", path_dbs,\"\\n\")\n",
    "print(\"DBs Dict\\n\", dict_dbs,\"\\n\")"
   ]
  },
  {
   "cell_type": "markdown",
   "id": "2d0ff387",
   "metadata": {},
   "source": [
    "### List of all current databases"
   ]
  },
  {
   "cell_type": "code",
   "execution_count": null,
   "id": "c34fb4cb",
   "metadata": {},
   "outputs": [],
   "source": [
    "list_current_dbs = listDBs(config_file)\n",
    "list_current_dbs"
   ]
  },
  {
   "cell_type": "markdown",
   "id": "07fa91ea",
   "metadata": {},
   "source": [
    "### removing databases"
   ]
  },
  {
   "cell_type": "code",
   "execution_count": null,
   "id": "f7ff188b",
   "metadata": {},
   "outputs": [],
   "source": [
    "total_list = list(set(list_dbs).union(set([a for (a,) in list_current_dbs if a not in ['postgres', 'template1','template0']])))\n",
    "total_list"
   ]
  },
  {
   "cell_type": "code",
   "execution_count": null,
   "id": "029bcc93",
   "metadata": {},
   "outputs": [],
   "source": [
    "if delete_preivous_db:\n",
    "    deleteDBs(config_file, list_dbs, list_current_dbs)"
   ]
  },
  {
   "cell_type": "code",
   "execution_count": null,
   "id": "dd0c3967",
   "metadata": {},
   "outputs": [],
   "source": [
    "list_current_dbs = listDBs(config_file)\n",
    "list_current_dbs"
   ]
  },
  {
   "cell_type": "markdown",
   "id": "c1e827fc",
   "metadata": {},
   "source": [
    "### Creating databases"
   ]
  },
  {
   "cell_type": "code",
   "execution_count": null,
   "id": "966e0b30",
   "metadata": {},
   "outputs": [],
   "source": [
    "createDBs(config_file, list_dbs, list_current_dbs)"
   ]
  },
  {
   "cell_type": "code",
   "execution_count": null,
   "id": "7e6ba709",
   "metadata": {
    "scrolled": true
   },
   "outputs": [],
   "source": [
    "list_current_dbs = listDBs(config_file)\n",
    "list_current_dbs"
   ]
  },
  {
   "cell_type": "markdown",
   "id": "02663802",
   "metadata": {},
   "source": [
    "### Excetuting and creating all tables for each db"
   ]
  },
  {
   "cell_type": "code",
   "execution_count": null,
   "id": "1039ae25",
   "metadata": {},
   "outputs": [],
   "source": [
    "list_dbs"
   ]
  },
  {
   "cell_type": "code",
   "execution_count": null,
   "id": "3d3c709f",
   "metadata": {},
   "outputs": [],
   "source": [
    "from multiprocessing import Process\n",
    "\n",
    "process = []\n",
    "\n",
    "for db_name in list_dbs:\n",
    "    p = Process(target=cmd_db_restore, args=(db_name, dict_dbs[db_name], config_file[\"password\"]))\n",
    "    process.append(p)\n",
    "    p.start()\n",
    "\n",
    "for p in process:\n",
    "  p.join()"
   ]
  }
 ],
 "metadata": {
  "kernelspec": {
   "display_name": "Python 3 (ipykernel)",
   "language": "python",
   "name": "python3"
  },
  "language_info": {
   "codemirror_mode": {
    "name": "ipython",
    "version": 3
   },
   "file_extension": ".py",
   "mimetype": "text/x-python",
   "name": "python",
   "nbconvert_exporter": "python",
   "pygments_lexer": "ipython3",
   "version": "3.8.13"
  }
 },
 "nbformat": 4,
 "nbformat_minor": 5
}
