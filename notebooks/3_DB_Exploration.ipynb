{
 "cells": [
  {
   "cell_type": "code",
   "execution_count": 1,
   "id": "fc013e83",
   "metadata": {},
   "outputs": [],
   "source": [
    "import pandas as pd\n",
    "import sys, os\n",
    "\n",
    "module_path = os.path.abspath(os.path.join('..'))\n",
    "if module_path not in sys.path:\n",
    "    sys.path.append(module_path)"
   ]
  },
  {
   "cell_type": "code",
   "execution_count": 2,
   "id": "fe4e8f22",
   "metadata": {},
   "outputs": [],
   "source": [
    "from crimebb import *"
   ]
  },
  {
   "cell_type": "code",
   "execution_count": 3,
   "id": "2e0acb70",
   "metadata": {},
   "outputs": [],
   "source": [
    "DATA_PATH=\"../data/\"\n",
    "CSV_PATH = f\"{DATA_PATH}csv/\""
   ]
  },
  {
   "cell_type": "markdown",
   "id": "23b41b35",
   "metadata": {},
   "source": [
    "### Exploring data"
   ]
  },
  {
   "cell_type": "markdown",
   "id": "b7d53575",
   "metadata": {},
   "source": [
    "#### members"
   ]
  },
  {
   "cell_type": "code",
   "execution_count": null,
   "id": "8f4b7826",
   "metadata": {
    "scrolled": true
   },
   "outputs": [],
   "source": [
    "members_df = pd.read_csv(f\"{CSV_PATH}members.csv\", sep=\",\", low_memory=False)\n",
    "members_df.drop_duplicates(inplace=True)\n",
    "members_df"
   ]
  },
  {
   "cell_type": "code",
   "execution_count": null,
   "id": "9dd3a8a6",
   "metadata": {},
   "outputs": [],
   "source": [
    "members_df.loc[1,:]"
   ]
  },
  {
   "cell_type": "code",
   "execution_count": null,
   "id": "cb2aec00",
   "metadata": {},
   "outputs": [],
   "source": [
    "members_df = members_df[[\"id\", \"username\", \"site_id\", \"age\", \"location\", \"total_posts\", \"reputation\", \"prestige\"]].copy().drop_duplicates()\n",
    "members_df = members_df[ (members_df[\"username\"].str.lower()!=\"none\") & (~members_df[\"username\"].isna()) ].copy().drop_duplicates()\n",
    "members_df.rename(columns={\"id\":\"user_id\"}, inplace=True)\n",
    "members_df"
   ]
  },
  {
   "cell_type": "markdown",
   "id": "8de8dd1c",
   "metadata": {},
   "source": [
    "#### boards"
   ]
  },
  {
   "cell_type": "code",
   "execution_count": null,
   "id": "86159896",
   "metadata": {
    "scrolled": true
   },
   "outputs": [],
   "source": [
    "boards_df = pd.read_csv(f\"{CSV_PATH}boards.csv\", sep=\",\", low_memory=False)\n",
    "boards_df[\"url\"] = boards_df[\"url\"].apply(lambda x: x.replace(\"antichat.com\", \"forum.antichat.ru\"))\n",
    "boards_df[\"site_name\"] = boards_df[\"url\"].apply(lambda x: (x.replace(\"https://\", \"\")).split(\"/\")[0] if \"https\" in x else (x.replace(\"http://\", \"\")).split(\"/\")[0] )\n",
    "boards_df.drop_duplicates(inplace=True)\n",
    "boards_df"
   ]
  },
  {
   "cell_type": "code",
   "execution_count": null,
   "id": "cc669b62",
   "metadata": {},
   "outputs": [],
   "source": [
    "boards_df.loc[1,:]"
   ]
  },
  {
   "cell_type": "code",
   "execution_count": null,
   "id": "f21677d1",
   "metadata": {},
   "outputs": [],
   "source": [
    "boards_df = boards_df[[\"id\", \"site_id\", \"site_name\", \"name\", \"url\"]].copy().drop_duplicates()\n",
    "boards_df.rename(columns={\"id\":\"board_id\", \"name\":\"board_title\"}, inplace=True)\n",
    "boards_df"
   ]
  },
  {
   "cell_type": "markdown",
   "id": "5b64f798",
   "metadata": {},
   "source": [
    "#### contracts"
   ]
  },
  {
   "cell_type": "code",
   "execution_count": null,
   "id": "95acab8b",
   "metadata": {
    "scrolled": true
   },
   "outputs": [],
   "source": [
    "contracts_df = pd.read_csv(f\"{CSV_PATH}contracts.csv\", sep=\",\", low_memory=False)\n",
    "contracts_df.drop_duplicates(inplace=True)\n",
    "contracts_df"
   ]
  },
  {
   "cell_type": "markdown",
   "id": "59736890",
   "metadata": {},
   "source": [
    "#### Threads"
   ]
  },
  {
   "cell_type": "code",
   "execution_count": null,
   "id": "417d0ad5",
   "metadata": {
    "scrolled": true
   },
   "outputs": [],
   "source": [
    "threads_df = pd.read_csv(f\"{CSV_PATH}threads.csv\", sep=\",\", low_memory=False)\n",
    "threads_df.drop_duplicates(inplace=True)\n",
    "threads_df"
   ]
  },
  {
   "cell_type": "code",
   "execution_count": null,
   "id": "3a35879a",
   "metadata": {},
   "outputs": [],
   "source": [
    "threads_df.loc[1,:]"
   ]
  },
  {
   "cell_type": "code",
   "execution_count": null,
   "id": "333d3468",
   "metadata": {},
   "outputs": [],
   "source": [
    "threads_df = threads_df[[\"id\", \"site_id\", \"board_id\", \"creator\", \"creator_id\", \"name\", \"url\"]].copy().drop_duplicates()\n",
    "threads_df.rename(columns={\"creator\":\"username\", \"id\":\"thread_id\", \"creator_id\":\"user_id\", \"name\":\"thread_title\"}, inplace=True)\n",
    "threads_df = threads_df[ (threads_df[\"username\"].str.lower()!=\"none\") & (~threads_df[\"username\"].isna()) ].copy().drop_duplicates()\n",
    "threads_df"
   ]
  },
  {
   "cell_type": "markdown",
   "id": "e9c1e689",
   "metadata": {},
   "source": [
    "#### Posts"
   ]
  },
  {
   "cell_type": "code",
   "execution_count": null,
   "id": "cae5e86d",
   "metadata": {
    "scrolled": true
   },
   "outputs": [],
   "source": [
    "posts_df = pd.read_csv(f\"{CSV_PATH}posts.csv\", sep=\",\", low_memory=False)\n",
    "posts_df.drop_duplicates(inplace=True)\n",
    "posts_df"
   ]
  },
  {
   "cell_type": "code",
   "execution_count": null,
   "id": "7be5989a",
   "metadata": {},
   "outputs": [],
   "source": [
    "posts_df.loc[1,:]"
   ]
  },
  {
   "cell_type": "markdown",
   "id": "145b0a79",
   "metadata": {},
   "source": [
    "#### votes"
   ]
  },
  {
   "cell_type": "code",
   "execution_count": null,
   "id": "5bc17b99",
   "metadata": {
    "scrolled": true
   },
   "outputs": [],
   "source": [
    "votes_df = pd.read_csv(f\"{CSV_PATH}votes.csv\", sep=\",\", low_memory=False)\n",
    "votes_df.drop_duplicates(inplace=True)\n",
    "votes_df"
   ]
  },
  {
   "cell_type": "code",
   "execution_count": null,
   "id": "7f46672a",
   "metadata": {},
   "outputs": [],
   "source": [
    "votes_df.loc[1,:]"
   ]
  },
  {
   "cell_type": "markdown",
   "id": "79a54015",
   "metadata": {},
   "source": [
    "### Boards"
   ]
  },
  {
   "cell_type": "code",
   "execution_count": null,
   "id": "80204cf1",
   "metadata": {},
   "outputs": [],
   "source": [
    "topics_website_df = pd.pivot_table(boards_df[[\"site_name\", \"board_title\"]].drop_duplicates(),\n",
    "                                 index=[\"site_name\"],\n",
    "                                 values=[\"board_title\"],\n",
    "                                 aggfunc={\n",
    "                                     \"board_title\":len\n",
    "                                 }\n",
    "                                ).sort_values(by=\"board_title\", ascending=False).reset_index(level=0)\n",
    "topics_website_df.set_index('site_name', inplace=True)\n",
    "topics_website_df"
   ]
  },
  {
   "cell_type": "code",
   "execution_count": null,
   "id": "ebd18091",
   "metadata": {},
   "outputs": [],
   "source": [
    "mean_val = topics_website_df[\"board_title\"].mean()\n",
    "\n",
    "ax = topics_website_df.plot(kind=\"bar\", figsize=(16,8), title=f\"Número de topicos por website, Avg: {mean_val}\", xlabel=\"Site name\", ylabel=\"usuarios\", rot=45)\n",
    "# ax.legend(list(temp_df[\"site_name\"]))\n",
    "ax.get_legend().remove()"
   ]
  },
  {
   "cell_type": "markdown",
   "id": "ffa31e12",
   "metadata": {},
   "source": [
    "### Boards x Members"
   ]
  },
  {
   "cell_type": "code",
   "execution_count": null,
   "id": "11f5786a",
   "metadata": {},
   "outputs": [],
   "source": [
    "member_website = pd.merge(members_df[[\"username\", \"site_id\"]].drop_duplicates(),\n",
    "                          boards_df[[\"site_id\", \"site_name\"]].drop_duplicates(),\n",
    "                          on=\"site_id\", how=\"left\").drop_duplicates()\n",
    "member_website"
   ]
  },
  {
   "cell_type": "markdown",
   "id": "0ca65578",
   "metadata": {},
   "source": [
    "##### usermane x website"
   ]
  },
  {
   "cell_type": "code",
   "execution_count": null,
   "id": "c3f9c691",
   "metadata": {},
   "outputs": [],
   "source": [
    "users_sites_df = pd.pivot_table(member_website,\n",
    "                 index=[\"username\"],\n",
    "                 values=[\"site_name\"],\n",
    "                 aggfunc={\n",
    "                     \"site_name\":len\n",
    "                 }\n",
    "                ).sort_values(by=\"site_name\", ascending=False).reset_index(level=0)\n",
    "users_sites_df.rename(columns={\"site_name\":\"num_websites_cadastrado\"}, inplace=True)\n",
    "users_sites_df"
   ]
  },
  {
   "cell_type": "code",
   "execution_count": null,
   "id": "7f6a5519",
   "metadata": {},
   "outputs": [],
   "source": [
    "users_sites_ = users_sites_df.pivot_table(columns=['num_websites_cadastrado'], aggfunc='size')\n",
    "users_sites_"
   ]
  },
  {
   "cell_type": "code",
   "execution_count": null,
   "id": "c284eb27",
   "metadata": {},
   "outputs": [],
   "source": [
    "ax = users_sites_.plot(kind=\"bar\", figsize=(16,8), title=f\"Número de usuarios cadastrado em website, Avg: {users_sites_.mean()}\", xlabel=\"Quantidade de websites cadastrado\", ylabel=\"Num de usuarios\", rot=0)\n",
    "# ax.legend(list(temp_df[\"site_name\"]))\n",
    "#ax.get_legend().remove()"
   ]
  },
  {
   "cell_type": "markdown",
   "id": "ff09489a",
   "metadata": {},
   "source": [
    "#### site x usermane"
   ]
  },
  {
   "cell_type": "code",
   "execution_count": null,
   "id": "dcface63",
   "metadata": {
    "scrolled": true
   },
   "outputs": [],
   "source": [
    "site_users_df = pd.pivot_table(member_website,\n",
    "                 index=[\"site_name\"],\n",
    "                 values=[\"username\"],\n",
    "                 aggfunc={\n",
    "                     \"username\":len\n",
    "                 }\n",
    "                ).sort_values(by=\"username\", ascending=False).reset_index(level=0)\n",
    "site_users_df.set_index('site_name', inplace=True)\n",
    "site_users_df"
   ]
  },
  {
   "cell_type": "code",
   "execution_count": null,
   "id": "e4ffdbe8",
   "metadata": {},
   "outputs": [],
   "source": [
    "mean_val = site_users_df[\"username\"].mean()\n",
    "\n",
    "ax = site_users_df.plot(kind=\"bar\", figsize=(16,8), title=f\"Número de usuarios por website, Avg: {mean_val}\", xlabel=\"Site name\", ylabel=\"usuarios\", rot=45)\n",
    "# ax.legend(list(temp_df[\"site_name\"]))\n",
    "ax.get_legend().remove()"
   ]
  },
  {
   "cell_type": "markdown",
   "id": "d161f360",
   "metadata": {},
   "source": [
    "### Threads"
   ]
  },
  {
   "cell_type": "markdown",
   "id": "522c1b70",
   "metadata": {},
   "source": [
    "#### threads x website"
   ]
  },
  {
   "cell_type": "code",
   "execution_count": null,
   "id": "49a958cd",
   "metadata": {},
   "outputs": [],
   "source": [
    "thread_website = pd.merge(threads_df[[\"thread_id\", \"site_id\"]].drop_duplicates(),\n",
    "                          boards_df[[\"site_id\", \"site_name\"]].drop_duplicates(),\n",
    "                          on=\"site_id\", how=\"left\").drop_duplicates()\n",
    "thread_website"
   ]
  },
  {
   "cell_type": "code",
   "execution_count": null,
   "id": "43fdd1ca",
   "metadata": {},
   "outputs": [],
   "source": [
    "site_threads_df = pd.pivot_table(thread_website,\n",
    "                 index=[\"site_name\"],\n",
    "                 values=[\"thread_id\"],\n",
    "                 aggfunc={\n",
    "                     \"thread_id\":len\n",
    "                 }\n",
    "                ).sort_values(by=\"thread_id\", ascending=False).reset_index(level=0)\n",
    "site_threads_df.set_index('site_name', inplace=True)\n",
    "site_threads_df"
   ]
  },
  {
   "cell_type": "code",
   "execution_count": null,
   "id": "26097a51",
   "metadata": {
    "scrolled": false
   },
   "outputs": [],
   "source": [
    "mean_val = site_threads_df[\"thread_id\"].mean()\n",
    "\n",
    "ax = site_threads_df.plot(kind=\"bar\", figsize=(16,8), title=f\"Número de threads por website, Avg: {mean_val}\", xlabel=\"Site name\", ylabel=\"Num threads\", rot=45)\n",
    "# ax.legend(list(temp_df[\"site_name\"]))\n",
    "ax.get_legend().remove()"
   ]
  },
  {
   "cell_type": "markdown",
   "id": "dbc37c65",
   "metadata": {},
   "source": [
    "### Threads x Boards"
   ]
  },
  {
   "cell_type": "code",
   "execution_count": null,
   "id": "8c34c369",
   "metadata": {},
   "outputs": [],
   "source": [
    "os.exit()"
   ]
  },
  {
   "cell_type": "code",
   "execution_count": null,
   "id": "a2a1e375",
   "metadata": {},
   "outputs": [],
   "source": [
    "threads_df[[\"thread_id\", \"site_id\", \"board_id\"]].drop_duplicates()"
   ]
  },
  {
   "cell_type": "code",
   "execution_count": null,
   "id": "56a27ec9",
   "metadata": {},
   "outputs": [],
   "source": [
    "thread_board_df = pd.pivot_table(threads_df[[\"thread_id\", \"site_id\", \"board_id\"]].drop_duplicates(),\n",
    "                              index=[\"thread_id\", \"site_id\"],\n",
    "                              values=[\"board_id\"],\n",
    "                              aggfunc={\n",
    "                                 \"board_id\":len\n",
    "                              })#.drop_duplicates()\n",
    "thread_board_df"
   ]
  },
  {
   "cell_type": "markdown",
   "id": "51ab737c",
   "metadata": {},
   "source": [
    "### Threads x Members"
   ]
  },
  {
   "cell_type": "code",
   "execution_count": null,
   "id": "61aa8772",
   "metadata": {},
   "outputs": [],
   "source": [
    "thread_member_df = pd.pivot_table(threads_df[[\"thread_id\", \"site_id\", \"username\"]].drop_duplicates(),\n",
    "                                 index=[\"username\", \"site_id\"],\n",
    "                                 values=[\"thread_id\"],\n",
    "                                 aggfunc={\n",
    "                                     \"thread_id\":len\n",
    "                                 }\n",
    "                                ).sort_values(by=\"thread_id\", ascending=False)#.reset_index(level=0)\n",
    "thread_member_df"
   ]
  },
  {
   "cell_type": "code",
   "execution_count": null,
   "id": "8d46a909",
   "metadata": {},
   "outputs": [],
   "source": [
    "thread_member_ = thread_member_df.pivot_table(columns=['user_id'], aggfunc='size')\n",
    "thread_member_"
   ]
  }
 ],
 "metadata": {
  "kernelspec": {
   "display_name": "Python 3 (ipykernel)",
   "language": "python",
   "name": "python3"
  },
  "language_info": {
   "codemirror_mode": {
    "name": "ipython",
    "version": 3
   },
   "file_extension": ".py",
   "mimetype": "text/x-python",
   "name": "python",
   "nbconvert_exporter": "python",
   "pygments_lexer": "ipython3",
   "version": "3.9.12"
  }
 },
 "nbformat": 4,
 "nbformat_minor": 5
}
