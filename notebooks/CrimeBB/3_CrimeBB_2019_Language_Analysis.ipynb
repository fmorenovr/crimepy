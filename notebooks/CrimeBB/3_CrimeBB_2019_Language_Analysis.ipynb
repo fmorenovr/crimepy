{
 "cells": [
  {
   "cell_type": "code",
   "execution_count": 1,
   "id": "bb9d7924",
   "metadata": {},
   "outputs": [],
   "source": [
    "import pandas as pd\n",
    "import sys, os\n",
    "\n",
    "module_path = os.path.abspath(os.path.join('../..'))\n",
    "if module_path not in sys.path:\n",
    "    sys.path.append(module_path)"
   ]
  },
  {
   "cell_type": "code",
   "execution_count": 2,
   "id": "3b9d1697",
   "metadata": {},
   "outputs": [],
   "source": [
    "from crimebb import *"
   ]
  },
  {
   "cell_type": "code",
   "execution_count": 3,
   "id": "624ec6d3",
   "metadata": {},
   "outputs": [],
   "source": [
    "from tqdm.notebook import tqdm\n",
    "\n",
    "tqdm.pandas()"
   ]
  },
  {
   "cell_type": "code",
   "execution_count": 4,
   "id": "06d434bb",
   "metadata": {},
   "outputs": [],
   "source": [
    "YEAR=\"2019\""
   ]
  },
  {
   "cell_type": "code",
   "execution_count": 5,
   "id": "f5a666e5",
   "metadata": {},
   "outputs": [],
   "source": [
    "DATA_PATH=\"../../data/\"\n",
    "CSV_PATH = f\"{DATA_PATH}csv/{YEAR}/summary/\"\n",
    "CSV_PROCESSED = f\"{DATA_PATH}csv/{YEAR}/processed/\""
   ]
  },
  {
   "cell_type": "code",
   "execution_count": 6,
   "id": "3c5dac2a",
   "metadata": {},
   "outputs": [],
   "source": [
    "verifyDir(CSV_PROCESSED)"
   ]
  },
  {
   "cell_type": "markdown",
   "id": "18f2af85",
   "metadata": {},
   "source": [
    "### Loading data"
   ]
  },
  {
   "cell_type": "code",
   "execution_count": 7,
   "id": "c05f930a",
   "metadata": {},
   "outputs": [],
   "source": [
    "crimeBB_data = CrimeBBManager(DATA_PATH, YEAR)"
   ]
  },
  {
   "cell_type": "markdown",
   "id": "275fe4e9",
   "metadata": {},
   "source": [
    "#### website"
   ]
  },
  {
   "cell_type": "code",
   "execution_count": 8,
   "id": "724191ae",
   "metadata": {},
   "outputs": [
    {
     "data": {
      "text/html": [
       "<div>\n",
       "<style scoped>\n",
       "    .dataframe tbody tr th:only-of-type {\n",
       "        vertical-align: middle;\n",
       "    }\n",
       "\n",
       "    .dataframe tbody tr th {\n",
       "        vertical-align: top;\n",
       "    }\n",
       "\n",
       "    .dataframe thead th {\n",
       "        text-align: right;\n",
       "    }\n",
       "</style>\n",
       "<table border=\"1\" class=\"dataframe\">\n",
       "  <thead>\n",
       "    <tr style=\"text-align: right;\">\n",
       "      <th></th>\n",
       "      <th>site_id</th>\n",
       "      <th>site_name</th>\n",
       "    </tr>\n",
       "  </thead>\n",
       "  <tbody>\n",
       "    <tr>\n",
       "      <th>1</th>\n",
       "      <td>0</td>\n",
       "      <td>hackforums.net</td>\n",
       "    </tr>\n",
       "    <tr>\n",
       "      <th>2</th>\n",
       "      <td>1</td>\n",
       "      <td>www.kernelmode.info/forum</td>\n",
       "    </tr>\n",
       "    <tr>\n",
       "      <th>4</th>\n",
       "      <td>3</td>\n",
       "      <td>offensivecommunity.net/index.php</td>\n",
       "    </tr>\n",
       "    <tr>\n",
       "      <th>3</th>\n",
       "      <td>4</td>\n",
       "      <td>www.mpgh.net</td>\n",
       "    </tr>\n",
       "    <tr>\n",
       "      <th>5</th>\n",
       "      <td>5</td>\n",
       "      <td>stresserforums.net/index.php</td>\n",
       "    </tr>\n",
       "    <tr>\n",
       "      <th>0</th>\n",
       "      <td>6</td>\n",
       "      <td>greysec.net/index.php</td>\n",
       "    </tr>\n",
       "  </tbody>\n",
       "</table>\n",
       "</div>"
      ],
      "text/plain": [
       "   site_id                         site_name\n",
       "1        0                    hackforums.net\n",
       "2        1         www.kernelmode.info/forum\n",
       "4        3  offensivecommunity.net/index.php\n",
       "3        4                      www.mpgh.net\n",
       "5        5      stresserforums.net/index.php\n",
       "0        6             greysec.net/index.php"
      ]
     },
     "execution_count": 8,
     "metadata": {},
     "output_type": "execute_result"
    }
   ],
   "source": [
    "crimeBB_data.read_sites_2019()\n",
    "crimeBB_data.website_df"
   ]
  },
  {
   "cell_type": "markdown",
   "id": "6e9f9549",
   "metadata": {},
   "source": [
    "#### boards"
   ]
  },
  {
   "cell_type": "code",
   "execution_count": 9,
   "id": "cc280552",
   "metadata": {},
   "outputs": [
    {
     "data": {
      "text/html": [
       "<div>\n",
       "<style scoped>\n",
       "    .dataframe tbody tr th:only-of-type {\n",
       "        vertical-align: middle;\n",
       "    }\n",
       "\n",
       "    .dataframe tbody tr th {\n",
       "        vertical-align: top;\n",
       "    }\n",
       "\n",
       "    .dataframe thead th {\n",
       "        text-align: right;\n",
       "    }\n",
       "</style>\n",
       "<table border=\"1\" class=\"dataframe\">\n",
       "  <thead>\n",
       "    <tr style=\"text-align: right;\">\n",
       "      <th></th>\n",
       "      <th>board_id</th>\n",
       "      <th>site_id</th>\n",
       "      <th>site_name</th>\n",
       "      <th>board_title</th>\n",
       "      <th>board_url</th>\n",
       "    </tr>\n",
       "  </thead>\n",
       "  <tbody>\n",
       "    <tr>\n",
       "      <th>0</th>\n",
       "      <td>9</td>\n",
       "      <td>6</td>\n",
       "      <td>greysec.net/index.php</td>\n",
       "      <td>Web Application Security</td>\n",
       "      <td>https://greysec.net/forumdisplay.php?fid=9&amp;page=2</td>\n",
       "    </tr>\n",
       "    <tr>\n",
       "      <th>1</th>\n",
       "      <td>3</td>\n",
       "      <td>6</td>\n",
       "      <td>greysec.net/index.php</td>\n",
       "      <td>Changelog</td>\n",
       "      <td>https://greysec.net/forumdisplay.php?fid=3&amp;page=2</td>\n",
       "    </tr>\n",
       "    <tr>\n",
       "      <th>2</th>\n",
       "      <td>8</td>\n",
       "      <td>6</td>\n",
       "      <td>greysec.net/index.php</td>\n",
       "      <td>General Hacking and Security</td>\n",
       "      <td>https://greysec.net/forumdisplay.php?fid=8&amp;page=2</td>\n",
       "    </tr>\n",
       "    <tr>\n",
       "      <th>3</th>\n",
       "      <td>28</td>\n",
       "      <td>6</td>\n",
       "      <td>greysec.net/index.php</td>\n",
       "      <td>Other Languages</td>\n",
       "      <td>https://greysec.net/forumdisplay.php?fid=28</td>\n",
       "    </tr>\n",
       "    <tr>\n",
       "      <th>4</th>\n",
       "      <td>5</td>\n",
       "      <td>6</td>\n",
       "      <td>greysec.net/index.php</td>\n",
       "      <td>Miscellaneous Discussion</td>\n",
       "      <td>https://greysec.net/forumdisplay.php?fid=5&amp;page=2</td>\n",
       "    </tr>\n",
       "    <tr>\n",
       "      <th>...</th>\n",
       "      <td>...</td>\n",
       "      <td>...</td>\n",
       "      <td>...</td>\n",
       "      <td>...</td>\n",
       "      <td>...</td>\n",
       "    </tr>\n",
       "    <tr>\n",
       "      <th>1048</th>\n",
       "      <td>12</td>\n",
       "      <td>5</td>\n",
       "      <td>stresserforums.net/index.php</td>\n",
       "      <td>Server Stress Testing</td>\n",
       "      <td>https://stresserforums.net/forumdisplay.php?fi...</td>\n",
       "    </tr>\n",
       "    <tr>\n",
       "      <th>1049</th>\n",
       "      <td>22</td>\n",
       "      <td>5</td>\n",
       "      <td>stresserforums.net/index.php</td>\n",
       "      <td>Contests &amp; Rewards</td>\n",
       "      <td>https://stresserforums.net/forumdisplay.php?fi...</td>\n",
       "    </tr>\n",
       "    <tr>\n",
       "      <th>1050</th>\n",
       "      <td>4</td>\n",
       "      <td>5</td>\n",
       "      <td>stresserforums.net/index.php</td>\n",
       "      <td>DDoS Talk &amp; News</td>\n",
       "      <td>https://stresserforums.net/forumdisplay.php?fi...</td>\n",
       "    </tr>\n",
       "    <tr>\n",
       "      <th>1051</th>\n",
       "      <td>13</td>\n",
       "      <td>5</td>\n",
       "      <td>stresserforums.net/index.php</td>\n",
       "      <td>DDoS Protection</td>\n",
       "      <td>https://stresserforums.net/forumdisplay.php?fi...</td>\n",
       "    </tr>\n",
       "    <tr>\n",
       "      <th>1052</th>\n",
       "      <td>9</td>\n",
       "      <td>5</td>\n",
       "      <td>stresserforums.net/index.php</td>\n",
       "      <td>Stresser Services</td>\n",
       "      <td>https://stresserforums.net/forumdisplay.php?fi...</td>\n",
       "    </tr>\n",
       "  </tbody>\n",
       "</table>\n",
       "<p>1053 rows × 5 columns</p>\n",
       "</div>"
      ],
      "text/plain": [
       "      board_id  site_id                     site_name  \\\n",
       "0            9        6         greysec.net/index.php   \n",
       "1            3        6         greysec.net/index.php   \n",
       "2            8        6         greysec.net/index.php   \n",
       "3           28        6         greysec.net/index.php   \n",
       "4            5        6         greysec.net/index.php   \n",
       "...        ...      ...                           ...   \n",
       "1048        12        5  stresserforums.net/index.php   \n",
       "1049        22        5  stresserforums.net/index.php   \n",
       "1050         4        5  stresserforums.net/index.php   \n",
       "1051        13        5  stresserforums.net/index.php   \n",
       "1052         9        5  stresserforums.net/index.php   \n",
       "\n",
       "                       board_title  \\\n",
       "0         Web Application Security   \n",
       "1                        Changelog   \n",
       "2     General Hacking and Security   \n",
       "3                  Other Languages   \n",
       "4         Miscellaneous Discussion   \n",
       "...                            ...   \n",
       "1048         Server Stress Testing   \n",
       "1049            Contests & Rewards   \n",
       "1050              DDoS Talk & News   \n",
       "1051               DDoS Protection   \n",
       "1052             Stresser Services   \n",
       "\n",
       "                                              board_url  \n",
       "0     https://greysec.net/forumdisplay.php?fid=9&page=2  \n",
       "1     https://greysec.net/forumdisplay.php?fid=3&page=2  \n",
       "2     https://greysec.net/forumdisplay.php?fid=8&page=2  \n",
       "3           https://greysec.net/forumdisplay.php?fid=28  \n",
       "4     https://greysec.net/forumdisplay.php?fid=5&page=2  \n",
       "...                                                 ...  \n",
       "1048  https://stresserforums.net/forumdisplay.php?fi...  \n",
       "1049  https://stresserforums.net/forumdisplay.php?fi...  \n",
       "1050  https://stresserforums.net/forumdisplay.php?fi...  \n",
       "1051  https://stresserforums.net/forumdisplay.php?fi...  \n",
       "1052  https://stresserforums.net/forumdisplay.php?fi...  \n",
       "\n",
       "[1053 rows x 5 columns]"
      ]
     },
     "execution_count": 9,
     "metadata": {},
     "output_type": "execute_result"
    }
   ],
   "source": [
    "crimeBB_data.read_boards_2019()\n",
    "crimeBB_data.boards_df"
   ]
  },
  {
   "cell_type": "markdown",
   "id": "1c452183",
   "metadata": {},
   "source": [
    "#### Threads"
   ]
  },
  {
   "cell_type": "code",
   "execution_count": 10,
   "id": "975b2818",
   "metadata": {},
   "outputs": [
    {
     "data": {
      "text/html": [
       "<div>\n",
       "<style scoped>\n",
       "    .dataframe tbody tr th:only-of-type {\n",
       "        vertical-align: middle;\n",
       "    }\n",
       "\n",
       "    .dataframe tbody tr th {\n",
       "        vertical-align: top;\n",
       "    }\n",
       "\n",
       "    .dataframe thead th {\n",
       "        text-align: right;\n",
       "    }\n",
       "</style>\n",
       "<table border=\"1\" class=\"dataframe\">\n",
       "  <thead>\n",
       "    <tr style=\"text-align: right;\">\n",
       "      <th></th>\n",
       "      <th>thread_id</th>\n",
       "      <th>site_id</th>\n",
       "      <th>board_id</th>\n",
       "      <th>user_id</th>\n",
       "      <th>username</th>\n",
       "      <th>thread_title</th>\n",
       "      <th>thread_url</th>\n",
       "    </tr>\n",
       "  </thead>\n",
       "  <tbody>\n",
       "    <tr>\n",
       "      <th>0</th>\n",
       "      <td>2903</td>\n",
       "      <td>6</td>\n",
       "      <td>27</td>\n",
       "      <td>834</td>\n",
       "      <td>Cypher</td>\n",
       "      <td>PGP: An Operational Introduction</td>\n",
       "      <td>https://greysec.net/showthread.php?tid=2903</td>\n",
       "    </tr>\n",
       "    <tr>\n",
       "      <th>1</th>\n",
       "      <td>2695</td>\n",
       "      <td>6</td>\n",
       "      <td>27</td>\n",
       "      <td>1</td>\n",
       "      <td>Insider</td>\n",
       "      <td>PGP - Should you sign your messages?</td>\n",
       "      <td>https://greysec.net/showthread.php?tid=2695</td>\n",
       "    </tr>\n",
       "    <tr>\n",
       "      <th>2</th>\n",
       "      <td>2842</td>\n",
       "      <td>6</td>\n",
       "      <td>21</td>\n",
       "      <td>2036</td>\n",
       "      <td>ImArtisan</td>\n",
       "      <td>Words with friends(Cheat) Java</td>\n",
       "      <td>https://greysec.net/showthread.php?tid=2842</td>\n",
       "    </tr>\n",
       "    <tr>\n",
       "      <th>3</th>\n",
       "      <td>2809</td>\n",
       "      <td>6</td>\n",
       "      <td>21</td>\n",
       "      <td>2036</td>\n",
       "      <td>ImArtisan</td>\n",
       "      <td>Learning Java first text game im trying</td>\n",
       "      <td>https://greysec.net/showthread.php?tid=2809</td>\n",
       "    </tr>\n",
       "    <tr>\n",
       "      <th>4</th>\n",
       "      <td>2920</td>\n",
       "      <td>6</td>\n",
       "      <td>21</td>\n",
       "      <td>2036</td>\n",
       "      <td>ImArtisan</td>\n",
       "      <td>Confused? Need help</td>\n",
       "      <td>https://greysec.net/showthread.php?tid=2920</td>\n",
       "    </tr>\n",
       "    <tr>\n",
       "      <th>...</th>\n",
       "      <td>...</td>\n",
       "      <td>...</td>\n",
       "      <td>...</td>\n",
       "      <td>...</td>\n",
       "      <td>...</td>\n",
       "      <td>...</td>\n",
       "      <td>...</td>\n",
       "    </tr>\n",
       "    <tr>\n",
       "      <th>4871536</th>\n",
       "      <td>773</td>\n",
       "      <td>5</td>\n",
       "      <td>12</td>\n",
       "      <td>8784</td>\n",
       "      <td>GetemQuick42</td>\n",
       "      <td>Quick review on IPbooter.com</td>\n",
       "      <td>https://stresserforums.net/showthread.php?tid=773</td>\n",
       "    </tr>\n",
       "    <tr>\n",
       "      <th>4871537</th>\n",
       "      <td>814</td>\n",
       "      <td>5</td>\n",
       "      <td>12</td>\n",
       "      <td>9406</td>\n",
       "      <td>dexterity</td>\n",
       "      <td>SKIDSTRESS.COM |REVIEW</td>\n",
       "      <td>https://stresserforums.net/showthread.php?tid=...</td>\n",
       "    </tr>\n",
       "    <tr>\n",
       "      <th>4871538</th>\n",
       "      <td>585</td>\n",
       "      <td>5</td>\n",
       "      <td>25</td>\n",
       "      <td>8373</td>\n",
       "      <td>SpoofMAX</td>\n",
       "      <td>Spoofed Dedicated Servers! | Link up to 10Gbit...</td>\n",
       "      <td>https://stresserforums.net/showthread.php?tid=...</td>\n",
       "    </tr>\n",
       "    <tr>\n",
       "      <th>4871539</th>\n",
       "      <td>522</td>\n",
       "      <td>5</td>\n",
       "      <td>25</td>\n",
       "      <td>7288</td>\n",
       "      <td>Smok4</td>\n",
       "      <td>CHEAP | PRIVATE | HIGH QUALITY | DDOS SCRIPTS</td>\n",
       "      <td>https://stresserforums.net/showthread.php?tid=...</td>\n",
       "    </tr>\n",
       "    <tr>\n",
       "      <th>4871540</th>\n",
       "      <td>803</td>\n",
       "      <td>5</td>\n",
       "      <td>25</td>\n",
       "      <td>8350</td>\n",
       "      <td>bigboner</td>\n",
       "      <td>Stresser source</td>\n",
       "      <td>https://stresserforums.net/showthread.php?tid=803</td>\n",
       "    </tr>\n",
       "  </tbody>\n",
       "</table>\n",
       "<p>4871541 rows × 7 columns</p>\n",
       "</div>"
      ],
      "text/plain": [
       "         thread_id  site_id  board_id  user_id      username  \\\n",
       "0             2903        6        27      834        Cypher   \n",
       "1             2695        6        27        1       Insider   \n",
       "2             2842        6        21     2036     ImArtisan   \n",
       "3             2809        6        21     2036     ImArtisan   \n",
       "4             2920        6        21     2036     ImArtisan   \n",
       "...            ...      ...       ...      ...           ...   \n",
       "4871536        773        5        12     8784  GetemQuick42   \n",
       "4871537        814        5        12     9406     dexterity   \n",
       "4871538        585        5        25     8373      SpoofMAX   \n",
       "4871539        522        5        25     7288         Smok4   \n",
       "4871540        803        5        25     8350      bigboner   \n",
       "\n",
       "                                              thread_title  \\\n",
       "0                         PGP: An Operational Introduction   \n",
       "1                     PGP - Should you sign your messages?   \n",
       "2                           Words with friends(Cheat) Java   \n",
       "3                  Learning Java first text game im trying   \n",
       "4                                      Confused? Need help   \n",
       "...                                                    ...   \n",
       "4871536                       Quick review on IPbooter.com   \n",
       "4871537                             SKIDSTRESS.COM |REVIEW   \n",
       "4871538  Spoofed Dedicated Servers! | Link up to 10Gbit...   \n",
       "4871539      CHEAP | PRIVATE | HIGH QUALITY | DDOS SCRIPTS   \n",
       "4871540                                    Stresser source   \n",
       "\n",
       "                                                thread_url  \n",
       "0              https://greysec.net/showthread.php?tid=2903  \n",
       "1              https://greysec.net/showthread.php?tid=2695  \n",
       "2              https://greysec.net/showthread.php?tid=2842  \n",
       "3              https://greysec.net/showthread.php?tid=2809  \n",
       "4              https://greysec.net/showthread.php?tid=2920  \n",
       "...                                                    ...  \n",
       "4871536  https://stresserforums.net/showthread.php?tid=773  \n",
       "4871537  https://stresserforums.net/showthread.php?tid=...  \n",
       "4871538  https://stresserforums.net/showthread.php?tid=...  \n",
       "4871539  https://stresserforums.net/showthread.php?tid=...  \n",
       "4871540  https://stresserforums.net/showthread.php?tid=803  \n",
       "\n",
       "[4871541 rows x 7 columns]"
      ]
     },
     "execution_count": 10,
     "metadata": {},
     "output_type": "execute_result"
    }
   ],
   "source": [
    "crimeBB_data.read_threads_2019()\n",
    "crimeBB_data.threads_df"
   ]
  },
  {
   "cell_type": "markdown",
   "id": "28acda76",
   "metadata": {},
   "source": [
    "#### posts"
   ]
  },
  {
   "cell_type": "code",
   "execution_count": 11,
   "id": "e8e92f34",
   "metadata": {},
   "outputs": [
    {
     "ename": "KeyError",
     "evalue": "\"['is_a_reply' 'updated_on' 'db_created_on' 'db_updated_on'] not found in axis\"",
     "output_type": "error",
     "traceback": [
      "\u001b[0;31m---------------------------------------------------------------------------\u001b[0m",
      "\u001b[0;31mKeyError\u001b[0m                                  Traceback (most recent call last)",
      "Input \u001b[0;32mIn [11]\u001b[0m, in \u001b[0;36m<cell line: 1>\u001b[0;34m()\u001b[0m\n\u001b[0;32m----> 1\u001b[0m \u001b[43mcrimeBB_data\u001b[49m\u001b[38;5;241;43m.\u001b[39;49m\u001b[43mread_posts\u001b[49m\u001b[43m(\u001b[49m\u001b[43m)\u001b[49m\n\u001b[1;32m      2\u001b[0m crimeBB_data\u001b[38;5;241m.\u001b[39mposts_df\n",
      "File \u001b[0;32m/media/fmorenovr/87ae90e0-7049-439e-854e-b9268b9619f3/github/crimepy/crimebb/data_processing/CrimeBB_Manager.py:78\u001b[0m, in \u001b[0;36mCrimeBBManager.read_posts\u001b[0;34m(self, chunk_size)\u001b[0m\n\u001b[1;32m     74\u001b[0m posts_df \u001b[38;5;241m=\u001b[39m posts_reader\u001b[38;5;241m.\u001b[39mget_chunk(chunk_size)\u001b[38;5;241m.\u001b[39mcopy()\n\u001b[1;32m     76\u001b[0m posts_df\u001b[38;5;241m.\u001b[39mdrop_duplicates(inplace\u001b[38;5;241m=\u001b[39m\u001b[38;5;28;01mTrue\u001b[39;00m)\n\u001b[0;32m---> 78\u001b[0m \u001b[43mposts_df\u001b[49m\u001b[38;5;241;43m.\u001b[39;49m\u001b[43mdrop\u001b[49m\u001b[43m(\u001b[49m\u001b[43mcolumns\u001b[49m\u001b[38;5;241;43m=\u001b[39;49m\u001b[43m[\u001b[49m\u001b[38;5;124;43m\"\u001b[39;49m\u001b[38;5;124;43mis_a_reply\u001b[39;49m\u001b[38;5;124;43m\"\u001b[39;49m\u001b[43m,\u001b[49m\u001b[43m \u001b[49m\u001b[38;5;124;43m\"\u001b[39;49m\u001b[38;5;124;43mupdated_on\u001b[39;49m\u001b[38;5;124;43m\"\u001b[39;49m\u001b[43m,\u001b[49m\u001b[43m \u001b[49m\u001b[38;5;124;43m\"\u001b[39;49m\u001b[38;5;124;43mdb_created_on\u001b[39;49m\u001b[38;5;124;43m\"\u001b[39;49m\u001b[43m,\u001b[49m\u001b[43m \u001b[49m\u001b[38;5;124;43m\"\u001b[39;49m\u001b[38;5;124;43mdb_updated_on\u001b[39;49m\u001b[38;5;124;43m\"\u001b[39;49m\u001b[43m,\u001b[49m\u001b[43m \u001b[49m\u001b[38;5;124;43m\"\u001b[39;49m\u001b[38;5;124;43mCitedPost\u001b[39;49m\u001b[38;5;124;43m\"\u001b[39;49m\u001b[43m]\u001b[49m\u001b[43m,\u001b[49m\u001b[43m \u001b[49m\u001b[43minplace\u001b[49m\u001b[38;5;241;43m=\u001b[39;49m\u001b[38;5;28;43;01mTrue\u001b[39;49;00m\u001b[43m)\u001b[49m\n\u001b[1;32m     79\u001b[0m posts_df\u001b[38;5;241m.\u001b[39mdrop_duplicates(inplace\u001b[38;5;241m=\u001b[39m\u001b[38;5;28;01mTrue\u001b[39;00m)\n\u001b[1;32m     81\u001b[0m posts_df\u001b[38;5;241m.\u001b[39mrename(columns\u001b[38;5;241m=\u001b[39m{\u001b[38;5;124m\"\u001b[39m\u001b[38;5;124mcreator\u001b[39m\u001b[38;5;124m\"\u001b[39m:\u001b[38;5;124m\"\u001b[39m\u001b[38;5;124musername\u001b[39m\u001b[38;5;124m\"\u001b[39m, \n\u001b[1;32m     82\u001b[0m                          \u001b[38;5;124m\"\u001b[39m\u001b[38;5;124mid\u001b[39m\u001b[38;5;124m\"\u001b[39m:\u001b[38;5;124m\"\u001b[39m\u001b[38;5;124mpost_id\u001b[39m\u001b[38;5;124m\"\u001b[39m, \n\u001b[1;32m     83\u001b[0m                          \u001b[38;5;124m\"\u001b[39m\u001b[38;5;124mcreator_id\u001b[39m\u001b[38;5;124m\"\u001b[39m:\u001b[38;5;124m\"\u001b[39m\u001b[38;5;124muser_id\u001b[39m\u001b[38;5;124m\"\u001b[39m, \n\u001b[1;32m     84\u001b[0m                          \u001b[38;5;124m\"\u001b[39m\u001b[38;5;124mcreator_n_posts\u001b[39m\u001b[38;5;124m\"\u001b[39m:\u001b[38;5;124m\"\u001b[39m\u001b[38;5;124muser_num_posts\u001b[39m\u001b[38;5;124m\"\u001b[39m, \n\u001b[1;32m     85\u001b[0m                          \u001b[38;5;124m\"\u001b[39m\u001b[38;5;124mcreator_reputation\u001b[39m\u001b[38;5;124m\"\u001b[39m:\u001b[38;5;124m\"\u001b[39m\u001b[38;5;124muser_reputation\u001b[39m\u001b[38;5;124m\"\u001b[39m, \n\u001b[1;32m     86\u001b[0m                          \u001b[38;5;124m\"\u001b[39m\u001b[38;5;124mcreated_on\u001b[39m\u001b[38;5;124m\"\u001b[39m:\u001b[38;5;124m\"\u001b[39m\u001b[38;5;124mpost_data_creation\u001b[39m\u001b[38;5;124m\"\u001b[39m}, inplace\u001b[38;5;241m=\u001b[39m\u001b[38;5;28;01mTrue\u001b[39;00m)\n",
      "File \u001b[0;32m~/anaconda3/envs/crimeBB/lib/python3.9/site-packages/pandas/core/frame.py:4308\u001b[0m, in \u001b[0;36mDataFrame.drop\u001b[0;34m(self, labels, axis, index, columns, level, inplace, errors)\u001b[0m\n\u001b[1;32m   4178\u001b[0m \u001b[38;5;28;01mdef\u001b[39;00m \u001b[38;5;21mdrop\u001b[39m(\n\u001b[1;32m   4179\u001b[0m     \u001b[38;5;28mself\u001b[39m,\n\u001b[1;32m   4180\u001b[0m     labels\u001b[38;5;241m=\u001b[39m\u001b[38;5;28;01mNone\u001b[39;00m,\n\u001b[0;32m   (...)\u001b[0m\n\u001b[1;32m   4186\u001b[0m     errors\u001b[38;5;241m=\u001b[39m\u001b[38;5;124m\"\u001b[39m\u001b[38;5;124mraise\u001b[39m\u001b[38;5;124m\"\u001b[39m,\n\u001b[1;32m   4187\u001b[0m ):\n\u001b[1;32m   4188\u001b[0m     \u001b[38;5;124;03m\"\"\"\u001b[39;00m\n\u001b[1;32m   4189\u001b[0m \u001b[38;5;124;03m    Drop specified labels from rows or columns.\u001b[39;00m\n\u001b[1;32m   4190\u001b[0m \n\u001b[0;32m   (...)\u001b[0m\n\u001b[1;32m   4306\u001b[0m \u001b[38;5;124;03m            weight  1.0     0.8\u001b[39;00m\n\u001b[1;32m   4307\u001b[0m \u001b[38;5;124;03m    \"\"\"\u001b[39;00m\n\u001b[0;32m-> 4308\u001b[0m     \u001b[38;5;28;01mreturn\u001b[39;00m \u001b[38;5;28;43msuper\u001b[39;49m\u001b[43m(\u001b[49m\u001b[43m)\u001b[49m\u001b[38;5;241;43m.\u001b[39;49m\u001b[43mdrop\u001b[49m\u001b[43m(\u001b[49m\n\u001b[1;32m   4309\u001b[0m \u001b[43m        \u001b[49m\u001b[43mlabels\u001b[49m\u001b[38;5;241;43m=\u001b[39;49m\u001b[43mlabels\u001b[49m\u001b[43m,\u001b[49m\n\u001b[1;32m   4310\u001b[0m \u001b[43m        \u001b[49m\u001b[43maxis\u001b[49m\u001b[38;5;241;43m=\u001b[39;49m\u001b[43maxis\u001b[49m\u001b[43m,\u001b[49m\n\u001b[1;32m   4311\u001b[0m \u001b[43m        \u001b[49m\u001b[43mindex\u001b[49m\u001b[38;5;241;43m=\u001b[39;49m\u001b[43mindex\u001b[49m\u001b[43m,\u001b[49m\n\u001b[1;32m   4312\u001b[0m \u001b[43m        \u001b[49m\u001b[43mcolumns\u001b[49m\u001b[38;5;241;43m=\u001b[39;49m\u001b[43mcolumns\u001b[49m\u001b[43m,\u001b[49m\n\u001b[1;32m   4313\u001b[0m \u001b[43m        \u001b[49m\u001b[43mlevel\u001b[49m\u001b[38;5;241;43m=\u001b[39;49m\u001b[43mlevel\u001b[49m\u001b[43m,\u001b[49m\n\u001b[1;32m   4314\u001b[0m \u001b[43m        \u001b[49m\u001b[43minplace\u001b[49m\u001b[38;5;241;43m=\u001b[39;49m\u001b[43minplace\u001b[49m\u001b[43m,\u001b[49m\n\u001b[1;32m   4315\u001b[0m \u001b[43m        \u001b[49m\u001b[43merrors\u001b[49m\u001b[38;5;241;43m=\u001b[39;49m\u001b[43merrors\u001b[49m\u001b[43m,\u001b[49m\n\u001b[1;32m   4316\u001b[0m \u001b[43m    \u001b[49m\u001b[43m)\u001b[49m\n",
      "File \u001b[0;32m~/anaconda3/envs/crimeBB/lib/python3.9/site-packages/pandas/core/generic.py:4153\u001b[0m, in \u001b[0;36mNDFrame.drop\u001b[0;34m(self, labels, axis, index, columns, level, inplace, errors)\u001b[0m\n\u001b[1;32m   4151\u001b[0m \u001b[38;5;28;01mfor\u001b[39;00m axis, labels \u001b[38;5;129;01min\u001b[39;00m axes\u001b[38;5;241m.\u001b[39mitems():\n\u001b[1;32m   4152\u001b[0m     \u001b[38;5;28;01mif\u001b[39;00m labels \u001b[38;5;129;01mis\u001b[39;00m \u001b[38;5;129;01mnot\u001b[39;00m \u001b[38;5;28;01mNone\u001b[39;00m:\n\u001b[0;32m-> 4153\u001b[0m         obj \u001b[38;5;241m=\u001b[39m \u001b[43mobj\u001b[49m\u001b[38;5;241;43m.\u001b[39;49m\u001b[43m_drop_axis\u001b[49m\u001b[43m(\u001b[49m\u001b[43mlabels\u001b[49m\u001b[43m,\u001b[49m\u001b[43m \u001b[49m\u001b[43maxis\u001b[49m\u001b[43m,\u001b[49m\u001b[43m \u001b[49m\u001b[43mlevel\u001b[49m\u001b[38;5;241;43m=\u001b[39;49m\u001b[43mlevel\u001b[49m\u001b[43m,\u001b[49m\u001b[43m \u001b[49m\u001b[43merrors\u001b[49m\u001b[38;5;241;43m=\u001b[39;49m\u001b[43merrors\u001b[49m\u001b[43m)\u001b[49m\n\u001b[1;32m   4155\u001b[0m \u001b[38;5;28;01mif\u001b[39;00m inplace:\n\u001b[1;32m   4156\u001b[0m     \u001b[38;5;28mself\u001b[39m\u001b[38;5;241m.\u001b[39m_update_inplace(obj)\n",
      "File \u001b[0;32m~/anaconda3/envs/crimeBB/lib/python3.9/site-packages/pandas/core/generic.py:4188\u001b[0m, in \u001b[0;36mNDFrame._drop_axis\u001b[0;34m(self, labels, axis, level, errors)\u001b[0m\n\u001b[1;32m   4186\u001b[0m         new_axis \u001b[38;5;241m=\u001b[39m axis\u001b[38;5;241m.\u001b[39mdrop(labels, level\u001b[38;5;241m=\u001b[39mlevel, errors\u001b[38;5;241m=\u001b[39merrors)\n\u001b[1;32m   4187\u001b[0m     \u001b[38;5;28;01melse\u001b[39;00m:\n\u001b[0;32m-> 4188\u001b[0m         new_axis \u001b[38;5;241m=\u001b[39m \u001b[43maxis\u001b[49m\u001b[38;5;241;43m.\u001b[39;49m\u001b[43mdrop\u001b[49m\u001b[43m(\u001b[49m\u001b[43mlabels\u001b[49m\u001b[43m,\u001b[49m\u001b[43m \u001b[49m\u001b[43merrors\u001b[49m\u001b[38;5;241;43m=\u001b[39;49m\u001b[43merrors\u001b[49m\u001b[43m)\u001b[49m\n\u001b[1;32m   4189\u001b[0m     result \u001b[38;5;241m=\u001b[39m \u001b[38;5;28mself\u001b[39m\u001b[38;5;241m.\u001b[39mreindex(\u001b[38;5;241m*\u001b[39m\u001b[38;5;241m*\u001b[39m{axis_name: new_axis})\n\u001b[1;32m   4191\u001b[0m \u001b[38;5;66;03m# Case for non-unique axis\u001b[39;00m\n\u001b[1;32m   4192\u001b[0m \u001b[38;5;28;01melse\u001b[39;00m:\n",
      "File \u001b[0;32m~/anaconda3/envs/crimeBB/lib/python3.9/site-packages/pandas/core/indexes/base.py:5591\u001b[0m, in \u001b[0;36mIndex.drop\u001b[0;34m(self, labels, errors)\u001b[0m\n\u001b[1;32m   5589\u001b[0m \u001b[38;5;28;01mif\u001b[39;00m mask\u001b[38;5;241m.\u001b[39many():\n\u001b[1;32m   5590\u001b[0m     \u001b[38;5;28;01mif\u001b[39;00m errors \u001b[38;5;241m!=\u001b[39m \u001b[38;5;124m\"\u001b[39m\u001b[38;5;124mignore\u001b[39m\u001b[38;5;124m\"\u001b[39m:\n\u001b[0;32m-> 5591\u001b[0m         \u001b[38;5;28;01mraise\u001b[39;00m \u001b[38;5;167;01mKeyError\u001b[39;00m(\u001b[38;5;124mf\u001b[39m\u001b[38;5;124m\"\u001b[39m\u001b[38;5;132;01m{\u001b[39;00mlabels[mask]\u001b[38;5;132;01m}\u001b[39;00m\u001b[38;5;124m not found in axis\u001b[39m\u001b[38;5;124m\"\u001b[39m)\n\u001b[1;32m   5592\u001b[0m     indexer \u001b[38;5;241m=\u001b[39m indexer[\u001b[38;5;241m~\u001b[39mmask]\n\u001b[1;32m   5593\u001b[0m \u001b[38;5;28;01mreturn\u001b[39;00m \u001b[38;5;28mself\u001b[39m\u001b[38;5;241m.\u001b[39mdelete(indexer)\n",
      "\u001b[0;31mKeyError\u001b[0m: \"['is_a_reply' 'updated_on' 'db_created_on' 'db_updated_on'] not found in axis\""
     ]
    }
   ],
   "source": [
    "crimeBB_data.read_posts_2019()\n",
    "crimeBB_data.posts_df"
   ]
  },
  {
   "cell_type": "code",
   "execution_count": null,
   "id": "442e091d",
   "metadata": {},
   "outputs": [],
   "source": [
    "os.exit()"
   ]
  },
  {
   "cell_type": "markdown",
   "id": "c65ff5bf",
   "metadata": {},
   "source": [
    "#### posts x threads x boards x website"
   ]
  },
  {
   "cell_type": "code",
   "execution_count": null,
   "id": "5419e7a5",
   "metadata": {},
   "outputs": [],
   "source": [
    "crimeBB_data.generates()"
   ]
  },
  {
   "cell_type": "code",
   "execution_count": null,
   "id": "b394447d",
   "metadata": {},
   "outputs": [],
   "source": [
    "crimeBB_data.crimebb_df.isnull().any()"
   ]
  },
  {
   "cell_type": "code",
   "execution_count": null,
   "id": "f3d5ac92",
   "metadata": {},
   "outputs": [],
   "source": [
    "crimeBB_data.crimebb_df"
   ]
  },
  {
   "cell_type": "code",
   "execution_count": null,
   "id": "deccfafc",
   "metadata": {},
   "outputs": [],
   "source": [
    "os.exit()"
   ]
  },
  {
   "cell_type": "markdown",
   "id": "60cd31d5",
   "metadata": {},
   "source": [
    "#### Detecting languages"
   ]
  },
  {
   "cell_type": "code",
   "execution_count": null,
   "id": "fe1f1b03",
   "metadata": {},
   "outputs": [],
   "source": [
    "language_to_eval = [\"russian\", \"german\", \"english\"]"
   ]
  },
  {
   "cell_type": "code",
   "execution_count": null,
   "id": "e4a2d998",
   "metadata": {},
   "outputs": [],
   "source": [
    "if verifyFile(f\"{CSV_PROCESSED}content_languages.csv\"):\n",
    "    content_df = pd.read_csv(f\"{CSV_PROCESSED}content_languages.csv\", sep=\"\\t\", low_memory=False)\n",
    "    list_post = content_df[~content_df[\"language_detected\"].isna()][\"post_id\"].values\n",
    "else:\n",
    "    content_df = posts_threads_df[[\"post_id\", \"content\"]].copy()\n",
    "    # content_df[\"content_processed\"] = content_df[\"content\"].apply(lambda x: re.sub('[\\\\\\\\\\'\\\"+@_!#$%^&*,;().<>?/\\|\\[\\]}{~:=\\n]', \" \", x) )\n",
    "    # content_df[\"content_processed\"] = content_df[\"content_processed\"].apply(str.lower)\n",
    "    content_df[\"lang_ratio\"] = np.nan\n",
    "    content_df[\"language_detected\"] = np.nan\n",
    "    content_df[\"lang_correct_words\"] = np.nan\n",
    "    content_df[\"len_correct_words\"] = np.nan\n",
    "    content_df[\"lang_incorrect_words\"] = np.nan\n",
    "    content_df[\"len_incorrect_words\"] = np.nan\n",
    "    list_post = []"
   ]
  },
  {
   "cell_type": "code",
   "execution_count": null,
   "id": "9a4c705c",
   "metadata": {},
   "outputs": [],
   "source": [
    "os.exit()"
   ]
  },
  {
   "cell_type": "code",
   "execution_count": null,
   "id": "e54fd8d6",
   "metadata": {
    "scrolled": true
   },
   "outputs": [],
   "source": [
    "count = 1\n",
    "for index, row in tqdm(content_df.iterrows()):\n",
    "    \n",
    "    lang_ratio, lang_badwords, lang_goodwords = detect_language_and_words(row[\"content\"], language_to_eval=language_to_eval)\n",
    "    posts_threads_df.loc[index, \"lang_ratio\"] = [lang_ratio]\n",
    "    lang_detected = max(lang_ratio, key=lang_ratio.get)\n",
    "    content_df.loc[(d_manejo_key['TpRem'] == 'MANEJO'), \"language_detected\"] = lang_detected\n",
    "    content_df.loc[index, \"lang_correct_words\"] = [{lang_detected: lang_goodwords[lang_detected]}]\n",
    "    content_df.loc[index, \"len_correct_words\"] = len(set(lang_goodwords[lang_detected]))\n",
    "    content_df.loc[index, \"lang_incorrect_words\"] = [{lang_detected: lang_badwords[lang_detected]}]\n",
    "    content_df.loc[index, \"len_incorrect_words\"] = len(set(lang_badwords[lang_detected]))\n",
    "\n",
    "    if count%10000==0: # grava cada 10 k muestras\n",
    "        content_df.to_csv(f\"{CSV_PROCESSED}content_languages.csv\", sep='\\t', index=False)\n",
    "    \n",
    "    count+=1\n",
    "    "
   ]
  },
  {
   "cell_type": "code",
   "execution_count": null,
   "id": "0666fbac",
   "metadata": {},
   "outputs": [],
   "source": [
    "content_df.to_csv(f\"{CSV_PROCESSED}content_languages.csv\", sep='\\t', index=False)"
   ]
  },
  {
   "cell_type": "markdown",
   "id": "08f1bcfc",
   "metadata": {},
   "source": [
    "### Languages"
   ]
  },
  {
   "cell_type": "code",
   "execution_count": null,
   "id": "c42e3f16",
   "metadata": {},
   "outputs": [],
   "source": [
    "lang_post_df = content_df.pivot_table(columns=['language_detected'], aggfunc='size')\n",
    "lang_post_df.sort_values(ascending=False, inplace=True)\n",
    "lang_post_df"
   ]
  },
  {
   "cell_type": "code",
   "execution_count": null,
   "id": "6be0f188",
   "metadata": {
    "scrolled": false
   },
   "outputs": [],
   "source": [
    "mean_val = round(lang_post_df.mean(), 2)\n",
    "\n",
    "import matplotlib.pyplot as plt\n",
    "\n",
    "fig, ax = plt.subplots(figsize=(16,8))\n",
    "ax.bar(lang_post_df.index.values, lang_post_df.values)\n",
    "\n",
    "for x,y,p in zip(lang_post_df.index.values, lang_post_df.values, lang_post_df.values):\n",
    "  plt.text(x, y, p)\n",
    "plt.xlabel(\"Languages detected\")\n",
    "plt.ylabel(\"Number of documents\")\n",
    "plt.title(f\"Number of documents per language, Avg: {mean_val}\")\n",
    "plt.show()"
   ]
  },
  {
   "cell_type": "markdown",
   "id": "40024980",
   "metadata": {},
   "source": [
    "#### Russian"
   ]
  },
  {
   "cell_type": "code",
   "execution_count": null,
   "id": "68726af1",
   "metadata": {},
   "outputs": [],
   "source": [
    "# russian_df = content_df[content_df[\"language_detected\"]==\"russian\"].copy()\n",
    "# russian_df.info(), russian_df.shape, russian_df.iloc[0,:]"
   ]
  },
  {
   "cell_type": "code",
   "execution_count": null,
   "id": "6404667d",
   "metadata": {},
   "outputs": [],
   "source": [
    "# russian_content = ' '.join(russian_df[\"content\"])"
   ]
  },
  {
   "cell_type": "code",
   "execution_count": null,
   "id": "2bf431eb",
   "metadata": {},
   "outputs": [],
   "source": [
    "# russian_dict = get_text_frequency(russian_content)\n",
    "# len(russian_dict)"
   ]
  },
  {
   "cell_type": "code",
   "execution_count": null,
   "id": "93c2c479",
   "metadata": {},
   "outputs": [],
   "source": [
    "# showWordCloud(russian_dict, f\"Russian-Wordcloud\", max_words=int(len(russian_dict)))"
   ]
  },
  {
   "cell_type": "markdown",
   "id": "aa24c723",
   "metadata": {},
   "source": [
    "#### English"
   ]
  },
  {
   "cell_type": "code",
   "execution_count": null,
   "id": "f0bab7c7",
   "metadata": {},
   "outputs": [],
   "source": [
    "# english_df = content_df[content_df[\"language_detected\"]==\"english\"].copy()\n",
    "# english_df.info(), english_df.shape, english_df.iloc[0,:]"
   ]
  },
  {
   "cell_type": "code",
   "execution_count": null,
   "id": "6e4c0ddd",
   "metadata": {},
   "outputs": [],
   "source": [
    "# english_content = ' '.join(english_df[\"content\"])"
   ]
  },
  {
   "cell_type": "code",
   "execution_count": null,
   "id": "c0f614d3",
   "metadata": {},
   "outputs": [],
   "source": [
    "# english_dict = get_text_frequency(english_content)\n",
    "# len(english_dict)"
   ]
  },
  {
   "cell_type": "code",
   "execution_count": null,
   "id": "f94506a5",
   "metadata": {},
   "outputs": [],
   "source": [
    "# showWordCloud(english_dict, f\"English-Wordcloud\", max_words=int(len(english_dict)))"
   ]
  },
  {
   "cell_type": "markdown",
   "id": "76c59438",
   "metadata": {},
   "source": [
    "#### German"
   ]
  },
  {
   "cell_type": "code",
   "execution_count": null,
   "id": "2ad577c7",
   "metadata": {},
   "outputs": [],
   "source": [
    "# german_df = content_df[content_df[\"language_detected\"]==\"german\"].copy()\n",
    "# german_df.info(), german_df.shape, german_df.iloc[0,:]"
   ]
  },
  {
   "cell_type": "code",
   "execution_count": null,
   "id": "a270ed4a",
   "metadata": {},
   "outputs": [],
   "source": [
    "# german_content = ' '.join(german_df[\"content\"])"
   ]
  },
  {
   "cell_type": "code",
   "execution_count": null,
   "id": "609fc7b5",
   "metadata": {},
   "outputs": [],
   "source": [
    "# german_dict = get_text_frequency(german_content)\n",
    "# len(german_dict)"
   ]
  },
  {
   "cell_type": "code",
   "execution_count": null,
   "id": "0ba7fa79",
   "metadata": {},
   "outputs": [],
   "source": [
    "# showWordCloud(german_dict, f\"German-Wordcloud\", max_words=int(len(german_dict)))"
   ]
  }
 ],
 "metadata": {
  "kernelspec": {
   "display_name": "Python 3 (ipykernel)",
   "language": "python",
   "name": "python3"
  },
  "language_info": {
   "codemirror_mode": {
    "name": "ipython",
    "version": 3
   },
   "file_extension": ".py",
   "mimetype": "text/x-python",
   "name": "python",
   "nbconvert_exporter": "python",
   "pygments_lexer": "ipython3",
   "version": "3.9.12"
  }
 },
 "nbformat": 4,
 "nbformat_minor": 5
}
