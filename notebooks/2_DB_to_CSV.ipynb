{
 "cells": [
  {
   "cell_type": "code",
   "execution_count": null,
   "id": "a85ed40d",
   "metadata": {},
   "outputs": [],
   "source": [
    "import pandas as pd\n",
    "import sys, os\n",
    "\n",
    "module_path = os.path.abspath(os.path.join('..'))\n",
    "if module_path not in sys.path:\n",
    "    sys.path.append(module_path)"
   ]
  },
  {
   "cell_type": "code",
   "execution_count": null,
   "id": "4e86bdb5",
   "metadata": {},
   "outputs": [],
   "source": [
    "from crimebb import *"
   ]
  },
  {
   "cell_type": "code",
   "execution_count": null,
   "id": "521b491f",
   "metadata": {},
   "outputs": [],
   "source": [
    "YEAR=\"2019\""
   ]
  },
  {
   "cell_type": "code",
   "execution_count": null,
   "id": "4fbb0ecf",
   "metadata": {},
   "outputs": [],
   "source": [
    "DATA_PATH=\"../data/\"\n",
    "SQL_PATH = f\"{DATA_PATH}sql/{YEAR}/\"\n",
    "CSV_PATH = f\"{DATA_PATH}csv/{YEAR}/\""
   ]
  },
  {
   "cell_type": "code",
   "execution_count": null,
   "id": "83e13e93",
   "metadata": {},
   "outputs": [],
   "source": [
    "verifyDir(CSV_PATH)"
   ]
  },
  {
   "cell_type": "markdown",
   "id": "8275b7dd",
   "metadata": {},
   "source": [
    "### Database connection"
   ]
  },
  {
   "cell_type": "code",
   "execution_count": null,
   "id": "b3e52a5b",
   "metadata": {},
   "outputs": [],
   "source": [
    "config = openFile(f'{DATA_PATH}/db_config.json')\n",
    "config_file = config['postgres_connection']\n",
    "config_file"
   ]
  },
  {
   "cell_type": "markdown",
   "id": "50d611ff",
   "metadata": {},
   "source": [
    "### Listing db sizes"
   ]
  },
  {
   "cell_type": "code",
   "execution_count": null,
   "id": "a5e2cc3b",
   "metadata": {},
   "outputs": [],
   "source": [
    "list_dbs, path_dbs, dict_dbs = get_db_names(f\"{SQL_PATH}/*.sql\")\n",
    "\n",
    "print(\"DB Name\\n\", list_dbs,\"\\n\")"
   ]
  },
  {
   "cell_type": "code",
   "execution_count": null,
   "id": "46991d96",
   "metadata": {},
   "outputs": [],
   "source": [
    "db_dict = getDBsSize(config_file, list_dbs)"
   ]
  },
  {
   "cell_type": "code",
   "execution_count": null,
   "id": "6e9b2f93",
   "metadata": {},
   "outputs": [],
   "source": [
    "# sed -i 's/\"Site\"/site/g' crimeBB_2019-10-31_*\n",
    "# sed -i 's/\"Forum\"/forum/g' crimeBB_2019-10-31_*\n",
    "# sed -i 's/\"Post\"/post/g' crimeBB_2019-10-31_*\n",
    "# sed -i 's/\"Member\"/member/g' crimeBB_2019-10-31_*\n",
    "# sed -i 's/\"Thread\"/thread/g' crimeBB_2019-10-31_*\n",
    "# sed -i 's/\"ReputationVotes\"/reputationvotes/g' crimeBB_2019-10-31_*"
   ]
  },
  {
   "cell_type": "code",
   "execution_count": null,
   "id": "5a8f0ce3",
   "metadata": {},
   "outputs": [],
   "source": [
    "pdCSVdb(db_dict, year_studied=YEAR)"
   ]
  },
  {
   "cell_type": "markdown",
   "id": "2ddcc46b",
   "metadata": {},
   "source": [
    "### Listing tables sizes"
   ]
  },
  {
   "cell_type": "code",
   "execution_count": null,
   "id": "95c4e23d",
   "metadata": {
    "scrolled": true
   },
   "outputs": [],
   "source": [
    "getTableSize(config_file, list_dbs)"
   ]
  },
  {
   "cell_type": "markdown",
   "id": "b5846cf0",
   "metadata": {},
   "source": [
    "### List Tables"
   ]
  },
  {
   "cell_type": "code",
   "execution_count": null,
   "id": "5816e148",
   "metadata": {
    "scrolled": true
   },
   "outputs": [],
   "source": [
    "tables_dict = listDBtables(config_file, list_dbs)"
   ]
  },
  {
   "cell_type": "code",
   "execution_count": null,
   "id": "ebeb0d38",
   "metadata": {
    "scrolled": true
   },
   "outputs": [],
   "source": [
    "tables_dict"
   ]
  },
  {
   "cell_type": "markdown",
   "id": "f2a7bd00",
   "metadata": {},
   "source": [
    "### Converting to CSV"
   ]
  },
  {
   "cell_type": "code",
   "execution_count": null,
   "id": "732e4871",
   "metadata": {
    "scrolled": true
   },
   "outputs": [],
   "source": [
    "for db_name in list_dbs:\n",
    "    list_tables = tables_dict[db_name]\n",
    "    print(list_tables)\n",
    "    for cur_table in list_tables:\n",
    "        cmd_table_to_csv(f\"{db_name}\", f\"{cur_table}\", f\"{CSV_PATH}{db_name}/\", passwd=config_file[\"password\"])"
   ]
  },
  {
   "cell_type": "markdown",
   "id": "e7ef0ad8",
   "metadata": {},
   "source": [
    "### Listing CSV files"
   ]
  },
  {
   "cell_type": "code",
   "execution_count": null,
   "id": "e485598f",
   "metadata": {},
   "outputs": [],
   "source": [
    "tables_dict = {}\n",
    "\n",
    "for db_name in list_dbs:\n",
    "    db_tables = [db_.split(\"/\")[-1] for db_ in glob.glob(f\"{CSV_PATH}/{db_name}/*.csv\")]\n",
    "    tables_dict[db_name] = set(db_tables.copy())\n",
    "    print(db_name, db_tables)"
   ]
  },
  {
   "cell_type": "code",
   "execution_count": null,
   "id": "eaa7d681",
   "metadata": {
    "scrolled": true
   },
   "outputs": [],
   "source": [
    "tables_dict"
   ]
  },
  {
   "cell_type": "markdown",
   "id": "c169e474",
   "metadata": {},
   "source": [
    "### Joining"
   ]
  },
  {
   "cell_type": "code",
   "execution_count": null,
   "id": "3de6b82b",
   "metadata": {},
   "outputs": [],
   "source": [
    "tables_final_list = set.intersection(*tables_dict.values())\n",
    "tables_final_list"
   ]
  },
  {
   "cell_type": "code",
   "execution_count": null,
   "id": "26deeb15",
   "metadata": {},
   "outputs": [],
   "source": [
    "for cur_table in tables_final_list:\n",
    "    print(cur_table)\n",
    "    if \"HF\" in cur_table:\n",
    "        continue\n",
    "    if \"Reputation\" in cur_table:\n",
    "        continue\n",
    "    tab_df = pd.DataFrame()\n",
    "    for db_name in list_dbs:\n",
    "        db_path = f\"{CSV_PATH}{db_name}/\"\n",
    "        db_tables = [db_.split(\"\\\\\")[-1] for db_ in glob.glob(f\"{db_path}/*\")]\n",
    "\n",
    "        table_df = pd.read_csv(f\"{db_path}{cur_table}\", sep='\\t', low_memory=False)\n",
    "        tab_df = pd.concat([tab_df, table_df], ignore_index=True)\n",
    "    tab_df.to_csv(f\"{CSV_PATH}{cur_table}\", sep='\\t', index=False)"
   ]
  }
 ],
 "metadata": {
  "kernelspec": {
   "display_name": "Python 3 (ipykernel)",
   "language": "python",
   "name": "python3"
  },
  "language_info": {
   "codemirror_mode": {
    "name": "ipython",
    "version": 3
   },
   "file_extension": ".py",
   "mimetype": "text/x-python",
   "name": "python",
   "nbconvert_exporter": "python",
   "pygments_lexer": "ipython3",
   "version": "3.8.13"
  }
 },
 "nbformat": 4,
 "nbformat_minor": 5
}
