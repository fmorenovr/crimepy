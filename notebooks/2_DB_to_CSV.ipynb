{
 "cells": [
  {
   "cell_type": "code",
   "execution_count": 1,
   "id": "a85ed40d",
   "metadata": {},
   "outputs": [],
   "source": [
    "import pandas as pd\n",
    "import sys, os\n",
    "\n",
    "module_path = os.path.abspath(os.path.join('..'))\n",
    "if module_path not in sys.path:\n",
    "    sys.path.append(module_path)"
   ]
  },
  {
   "cell_type": "code",
   "execution_count": 2,
   "id": "4e86bdb5",
   "metadata": {},
   "outputs": [],
   "source": [
    "from crimebb import *"
   ]
  },
  {
   "cell_type": "code",
   "execution_count": 3,
   "id": "4fbb0ecf",
   "metadata": {},
   "outputs": [],
   "source": [
    "DATA_PATH=\"../data/\"\n",
    "SQL_PATH = f\"{DATA_PATH}sql/\"\n",
    "CSV_PATH = f\"{DATA_PATH}csv/\""
   ]
  },
  {
   "cell_type": "code",
   "execution_count": 4,
   "id": "83e13e93",
   "metadata": {},
   "outputs": [],
   "source": [
    "verifyDir(CSV_PATH)"
   ]
  },
  {
   "cell_type": "markdown",
   "id": "8275b7dd",
   "metadata": {},
   "source": [
    "### Database connection"
   ]
  },
  {
   "cell_type": "code",
   "execution_count": 5,
   "id": "b3e52a5b",
   "metadata": {},
   "outputs": [
    {
     "data": {
      "text/plain": [
       "{'host': 'localhost',\n",
       " 'username': 'postgres',\n",
       " 'password': '123456',\n",
       " 'port': 9200}"
      ]
     },
     "execution_count": 5,
     "metadata": {},
     "output_type": "execute_result"
    }
   ],
   "source": [
    "config = openFile(f'{DATA_PATH}/db_config.json')\n",
    "config_file = config['postgres_connection']\n",
    "config_file"
   ]
  },
  {
   "cell_type": "markdown",
   "id": "50d611ff",
   "metadata": {},
   "source": [
    "### Listing db sizes"
   ]
  },
  {
   "cell_type": "code",
   "execution_count": 6,
   "id": "a5e2cc3b",
   "metadata": {},
   "outputs": [
    {
     "name": "stdout",
     "output_type": "stream",
     "text": [
      "DB Name\n",
      " ['antichat-2021-01-10', 'deutschland-im-deep-web-2021-01-10', 'dread-2021-01-10', 'envoy-forum-2021-01-10', 'garage4hackers-2021-01-10', 'raidforums-2021-01-10', 'runion-2021-01-10', 'safe-sky-hacks-2021-01-10', 'the-hub-2021-01-10', 'torum-2021-01-10'] \n",
      "\n"
     ]
    }
   ],
   "source": [
    "list_dbs, path_dbs, dict_dbs = get_db_names(f\"{SQL_PATH}/*.sql\")\n",
    "\n",
    "print(\"DB Name\\n\", list_dbs,\"\\n\")"
   ]
  },
  {
   "cell_type": "code",
   "execution_count": 7,
   "id": "46991d96",
   "metadata": {},
   "outputs": [
    {
     "name": "stdout",
     "output_type": "stream",
     "text": [
      "db: antichat-2021-01-10 size: 1124 MB\n",
      "db: deutschland-im-deep-web-2021-01-10 size: 24 MB\n",
      "db: dread-2021-01-10 size: 153 MB\n",
      "db: envoy-forum-2021-01-10 size: 9713 kB\n",
      "db: garage4hackers-2021-01-10 size: 13 MB\n",
      "db: raidforums-2021-01-10 size: 85 MB\n",
      "db: runion-2021-01-10 size: 202 MB\n",
      "db: safe-sky-hacks-2021-01-10 size: 58 MB\n",
      "db: the-hub-2021-01-10 size: 65 MB\n",
      "db: torum-2021-01-10 size: 24 MB\n"
     ]
    }
   ],
   "source": [
    "getDBsSize(config_file, list_dbs)"
   ]
  },
  {
   "cell_type": "markdown",
   "id": "2ddcc46b",
   "metadata": {},
   "source": [
    "### Listing tables sizes"
   ]
  },
  {
   "cell_type": "code",
   "execution_count": 8,
   "id": "95c4e23d",
   "metadata": {
    "scrolled": true
   },
   "outputs": [
    {
     "name": "stdout",
     "output_type": "stream",
     "text": [
      "db: antichat-2021-01-10 tables:\n",
      "     relname  num_elements  size_mb  size_bytes\n",
      "0      posts       2449875   942 MB   987324416\n",
      "1    threads        243176    46 MB    47841280\n",
      "2    members         79887    21 MB    22380544\n",
      "3     boards            64    16 kB       16384\n",
      "4  contracts             0  0 bytes           0\n",
      "5      votes             0  0 bytes           0\n",
      "db: deutschland-im-deep-web-2021-01-10 tables:\n",
      "     relname  num_elements     size_mb  size_bytes\n",
      "0      posts         20185       11 MB    11796480\n",
      "1    threads          4075      776 kB      794624\n",
      "2    members          2516      536 kB      548864\n",
      "3     boards             0  8192 bytes        8192\n",
      "4  contracts             0     0 bytes           0\n",
      "5      votes             0     0 bytes           0\n",
      "db: dread-2021-01-10 tables:\n",
      "     relname  num_elements  size_mb  size_bytes\n",
      "0      posts        294596   105 MB   109846528\n",
      "1    threads         75122    14 MB    15171584\n",
      "2    members         52406    11 MB    11173888\n",
      "3     boards           446    56 kB       57344\n",
      "4  contracts             0  0 bytes           0\n",
      "5      votes             0  0 bytes           0\n",
      "db: envoy-forum-2021-01-10 tables:\n",
      "     relname  num_elements  size_mb  size_bytes\n",
      "0      posts          2163   960 kB      983040\n",
      "1    members           364   120 kB      122880\n",
      "2    threads           454    88 kB       90112\n",
      "3     boards            93    16 kB       16384\n",
      "4  contracts             0  0 bytes           0\n",
      "5      votes             0  0 bytes           0\n",
      "db: garage4hackers-2021-01-10 tables:\n",
      "     relname  num_elements     size_mb  size_bytes\n",
      "0      posts          7697     3896 kB     3989504\n",
      "1    threads          2096      384 kB      393216\n",
      "2    members           881      216 kB      221184\n",
      "3     boards             0  8192 bytes        8192\n",
      "4  contracts             0     0 bytes           0\n",
      "5      votes             0     0 bytes           0\n",
      "db: raidforums-2021-01-10 tables:\n",
      "     relname  num_elements  size_mb  size_bytes\n",
      "0      posts        214856    55 MB    57425920\n",
      "1    members         46111    11 MB    11313152\n",
      "2    threads         34798  6432 kB     6586368\n",
      "3      votes          3973   416 kB      425984\n",
      "4     boards            75    16 kB       16384\n",
      "5  contracts             0  0 bytes           0\n",
      "db: runion-2021-01-10 tables:\n",
      "     relname  num_elements     size_mb  size_bytes\n",
      "0      posts        240632      159 MB   166658048\n",
      "1    threads         16867     3440 kB     3522560\n",
      "2    members         17343     2720 kB     2785280\n",
      "3     boards             0  8192 bytes        8192\n",
      "4  contracts             0     0 bytes           0\n",
      "5      votes             0     0 bytes           0\n",
      "db: safe-sky-hacks-2021-01-10 tables:\n",
      "     relname  num_elements     size_mb  size_bytes\n",
      "0      posts         27018       15 MB    16244736\n",
      "1    threads         12963     3584 kB     3670016\n",
      "2    members          7471     1768 kB     1810432\n",
      "3     boards             0  8192 bytes        8192\n",
      "4  contracts             0     0 bytes           0\n",
      "5      votes             0     0 bytes           0\n",
      "db: the-hub-2021-01-10 tables:\n",
      "     relname  num_elements     size_mb  size_bytes\n",
      "0      posts         88753       44 MB    46309376\n",
      "1    members          8340     2160 kB     2211840\n",
      "2    threads         11286     2088 kB     2138112\n",
      "3     boards            62  8192 bytes        8192\n",
      "4  contracts             0     0 bytes           0\n",
      "5      votes             0     0 bytes           0\n",
      "db: torum-2021-01-10 tables:\n",
      "     relname  num_elements     size_mb  size_bytes\n",
      "0      posts         28485       13 MB    13369344\n",
      "1    members          3835      920 kB      942080\n",
      "2    threads          4346      800 kB      819200\n",
      "3     boards             0  8192 bytes        8192\n",
      "4  contracts             0     0 bytes           0\n",
      "5      votes             0     0 bytes           0\n"
     ]
    }
   ],
   "source": [
    "getTableSize(config_file, list_dbs)"
   ]
  },
  {
   "cell_type": "markdown",
   "id": "b5846cf0",
   "metadata": {},
   "source": [
    "### List Tables"
   ]
  },
  {
   "cell_type": "code",
   "execution_count": 9,
   "id": "5816e148",
   "metadata": {
    "scrolled": true
   },
   "outputs": [],
   "source": [
    "tables_dict = listDBtables(config_file, list_dbs)"
   ]
  },
  {
   "cell_type": "markdown",
   "id": "f2a7bd00",
   "metadata": {},
   "source": [
    "### Converting to CSV"
   ]
  },
  {
   "cell_type": "code",
   "execution_count": 10,
   "id": "732e4871",
   "metadata": {},
   "outputs": [
    {
     "name": "stdout",
     "output_type": "stream",
     "text": [
      "['boards', 'contracts', 'members', 'posts', 'threads', 'votes']\n",
      "Table to CSV ... antichat-2021-01-10-boards\n",
      "COPY 64\n"
     ]
    },
    {
     "name": "stderr",
     "output_type": "stream",
     "text": [
      "Senha: "
     ]
    },
    {
     "name": "stdout",
     "output_type": "stream",
     "text": [
      "Table to CSV ... antichat-2021-01-10-contracts\n",
      "COPY 0\n"
     ]
    },
    {
     "name": "stderr",
     "output_type": "stream",
     "text": [
      "Senha: "
     ]
    },
    {
     "name": "stdout",
     "output_type": "stream",
     "text": [
      "Table to CSV ... antichat-2021-01-10-members\n"
     ]
    },
    {
     "name": "stderr",
     "output_type": "stream",
     "text": [
      "Senha: "
     ]
    },
    {
     "name": "stdout",
     "output_type": "stream",
     "text": [
      "COPY 79887\n",
      "Table to CSV ... antichat-2021-01-10-posts\n"
     ]
    },
    {
     "name": "stderr",
     "output_type": "stream",
     "text": [
      "Senha: "
     ]
    },
    {
     "name": "stdout",
     "output_type": "stream",
     "text": [
      "COPY 2449404\n",
      "Table to CSV ... antichat-2021-01-10-threads\n"
     ]
    },
    {
     "name": "stderr",
     "output_type": "stream",
     "text": [
      "Senha: "
     ]
    },
    {
     "name": "stdout",
     "output_type": "stream",
     "text": [
      "COPY 243176\n",
      "Table to CSV ... antichat-2021-01-10-votes\n",
      "COPY 0\n"
     ]
    },
    {
     "name": "stderr",
     "output_type": "stream",
     "text": [
      "Senha: "
     ]
    },
    {
     "name": "stdout",
     "output_type": "stream",
     "text": [
      "['boards', 'contracts', 'members', 'posts', 'threads', 'votes']\n",
      "Table to CSV ... deutschland-im-deep-web-2021-01-10-boards\n",
      "COPY 43\n"
     ]
    },
    {
     "name": "stderr",
     "output_type": "stream",
     "text": [
      "Senha: "
     ]
    },
    {
     "name": "stdout",
     "output_type": "stream",
     "text": [
      "Table to CSV ... deutschland-im-deep-web-2021-01-10-contracts\n",
      "COPY 0\n"
     ]
    },
    {
     "name": "stderr",
     "output_type": "stream",
     "text": [
      "Senha: "
     ]
    },
    {
     "name": "stdout",
     "output_type": "stream",
     "text": [
      "Table to CSV ... deutschland-im-deep-web-2021-01-10-members\n",
      "COPY 2516\n"
     ]
    },
    {
     "name": "stderr",
     "output_type": "stream",
     "text": [
      "Senha: "
     ]
    },
    {
     "name": "stdout",
     "output_type": "stream",
     "text": [
      "Table to CSV ... deutschland-im-deep-web-2021-01-10-posts\n"
     ]
    },
    {
     "name": "stderr",
     "output_type": "stream",
     "text": [
      "Senha: "
     ]
    },
    {
     "name": "stdout",
     "output_type": "stream",
     "text": [
      "COPY 20185\n",
      "Table to CSV ... deutschland-im-deep-web-2021-01-10-threads\n",
      "COPY 4075\n"
     ]
    },
    {
     "name": "stderr",
     "output_type": "stream",
     "text": [
      "Senha: "
     ]
    },
    {
     "name": "stdout",
     "output_type": "stream",
     "text": [
      "Table to CSV ... deutschland-im-deep-web-2021-01-10-votes\n",
      "COPY 0\n"
     ]
    },
    {
     "name": "stderr",
     "output_type": "stream",
     "text": [
      "Senha: "
     ]
    },
    {
     "name": "stdout",
     "output_type": "stream",
     "text": [
      "['boards', 'contracts', 'members', 'posts', 'threads', 'votes']\n",
      "Table to CSV ... dread-2021-01-10-boards\n",
      "COPY 446\n"
     ]
    },
    {
     "name": "stderr",
     "output_type": "stream",
     "text": [
      "Senha: "
     ]
    },
    {
     "name": "stdout",
     "output_type": "stream",
     "text": [
      "Table to CSV ... dread-2021-01-10-contracts\n",
      "COPY 0\n"
     ]
    },
    {
     "name": "stderr",
     "output_type": "stream",
     "text": [
      "Senha: "
     ]
    },
    {
     "name": "stdout",
     "output_type": "stream",
     "text": [
      "Table to CSV ... dread-2021-01-10-members\n"
     ]
    },
    {
     "name": "stderr",
     "output_type": "stream",
     "text": [
      "Senha: "
     ]
    },
    {
     "name": "stdout",
     "output_type": "stream",
     "text": [
      "COPY 52406\n",
      "Table to CSV ... dread-2021-01-10-posts\n"
     ]
    },
    {
     "name": "stderr",
     "output_type": "stream",
     "text": [
      "Senha: "
     ]
    },
    {
     "name": "stdout",
     "output_type": "stream",
     "text": [
      "COPY 294596\n",
      "Table to CSV ... dread-2021-01-10-threads\n"
     ]
    },
    {
     "name": "stderr",
     "output_type": "stream",
     "text": [
      "Senha: "
     ]
    },
    {
     "name": "stdout",
     "output_type": "stream",
     "text": [
      "COPY 75122\n",
      "Table to CSV ... dread-2021-01-10-votes\n",
      "COPY 0\n"
     ]
    },
    {
     "name": "stderr",
     "output_type": "stream",
     "text": [
      "Senha: "
     ]
    },
    {
     "name": "stdout",
     "output_type": "stream",
     "text": [
      "['boards', 'contracts', 'members', 'posts', 'threads', 'votes']\n",
      "Table to CSV ... envoy-forum-2021-01-10-boards\n",
      "COPY 93\n"
     ]
    },
    {
     "name": "stderr",
     "output_type": "stream",
     "text": [
      "Senha: "
     ]
    },
    {
     "name": "stdout",
     "output_type": "stream",
     "text": [
      "Table to CSV ... envoy-forum-2021-01-10-contracts\n",
      "COPY 0\n"
     ]
    },
    {
     "name": "stderr",
     "output_type": "stream",
     "text": [
      "Senha: "
     ]
    },
    {
     "name": "stdout",
     "output_type": "stream",
     "text": [
      "Table to CSV ... envoy-forum-2021-01-10-members\n",
      "COPY 364\n"
     ]
    },
    {
     "name": "stderr",
     "output_type": "stream",
     "text": [
      "Senha: "
     ]
    },
    {
     "name": "stdout",
     "output_type": "stream",
     "text": [
      "Table to CSV ... envoy-forum-2021-01-10-posts\n",
      "COPY 2163\n"
     ]
    },
    {
     "name": "stderr",
     "output_type": "stream",
     "text": [
      "Senha: "
     ]
    },
    {
     "name": "stdout",
     "output_type": "stream",
     "text": [
      "Table to CSV ... envoy-forum-2021-01-10-threads\n",
      "COPY 454\n"
     ]
    },
    {
     "name": "stderr",
     "output_type": "stream",
     "text": [
      "Senha: "
     ]
    },
    {
     "name": "stdout",
     "output_type": "stream",
     "text": [
      "Table to CSV ... envoy-forum-2021-01-10-votes\n",
      "COPY 0\n"
     ]
    },
    {
     "name": "stderr",
     "output_type": "stream",
     "text": [
      "Senha: "
     ]
    },
    {
     "name": "stdout",
     "output_type": "stream",
     "text": [
      "['boards', 'contracts', 'members', 'posts', 'threads', 'votes']\n",
      "Table to CSV ... garage4hackers-2021-01-10-boards\n",
      "COPY 35\n"
     ]
    },
    {
     "name": "stderr",
     "output_type": "stream",
     "text": [
      "Senha: "
     ]
    },
    {
     "name": "stdout",
     "output_type": "stream",
     "text": [
      "Table to CSV ... garage4hackers-2021-01-10-contracts\n",
      "COPY 0\n"
     ]
    },
    {
     "name": "stderr",
     "output_type": "stream",
     "text": [
      "Senha: "
     ]
    },
    {
     "name": "stdout",
     "output_type": "stream",
     "text": [
      "Table to CSV ... garage4hackers-2021-01-10-members\n",
      "COPY 881\n"
     ]
    },
    {
     "name": "stderr",
     "output_type": "stream",
     "text": [
      "Senha: "
     ]
    },
    {
     "name": "stdout",
     "output_type": "stream",
     "text": [
      "Table to CSV ... garage4hackers-2021-01-10-posts\n"
     ]
    },
    {
     "name": "stderr",
     "output_type": "stream",
     "text": [
      "Senha: "
     ]
    },
    {
     "name": "stdout",
     "output_type": "stream",
     "text": [
      "COPY 7697\n",
      "Table to CSV ... garage4hackers-2021-01-10-threads\n",
      "COPY 2096\n"
     ]
    },
    {
     "name": "stderr",
     "output_type": "stream",
     "text": [
      "Senha: "
     ]
    },
    {
     "name": "stdout",
     "output_type": "stream",
     "text": [
      "Table to CSV ... garage4hackers-2021-01-10-votes\n",
      "COPY 0\n"
     ]
    },
    {
     "name": "stderr",
     "output_type": "stream",
     "text": [
      "Senha: "
     ]
    },
    {
     "name": "stdout",
     "output_type": "stream",
     "text": [
      "['boards', 'contracts', 'members', 'posts', 'threads', 'votes']\n",
      "Table to CSV ... raidforums-2021-01-10-boards\n",
      "COPY 75\n"
     ]
    },
    {
     "name": "stderr",
     "output_type": "stream",
     "text": [
      "Senha: "
     ]
    },
    {
     "name": "stdout",
     "output_type": "stream",
     "text": [
      "Table to CSV ... raidforums-2021-01-10-contracts\n",
      "COPY 0\n"
     ]
    },
    {
     "name": "stderr",
     "output_type": "stream",
     "text": [
      "Senha: "
     ]
    },
    {
     "name": "stdout",
     "output_type": "stream",
     "text": [
      "Table to CSV ... raidforums-2021-01-10-members\n"
     ]
    },
    {
     "name": "stderr",
     "output_type": "stream",
     "text": [
      "Senha: "
     ]
    },
    {
     "name": "stdout",
     "output_type": "stream",
     "text": [
      "COPY 46111\n",
      "Table to CSV ... raidforums-2021-01-10-posts\n"
     ]
    },
    {
     "name": "stderr",
     "output_type": "stream",
     "text": [
      "Senha: "
     ]
    },
    {
     "name": "stdout",
     "output_type": "stream",
     "text": [
      "COPY 214856\n",
      "Table to CSV ... raidforums-2021-01-10-threads\n"
     ]
    },
    {
     "name": "stderr",
     "output_type": "stream",
     "text": [
      "Senha: "
     ]
    },
    {
     "name": "stdout",
     "output_type": "stream",
     "text": [
      "COPY 34798\n",
      "Table to CSV ... raidforums-2021-01-10-votes\n",
      "COPY 3973\n"
     ]
    },
    {
     "name": "stderr",
     "output_type": "stream",
     "text": [
      "Senha: "
     ]
    },
    {
     "name": "stdout",
     "output_type": "stream",
     "text": [
      "['boards', 'contracts', 'members', 'posts', 'threads', 'votes']\n",
      "Table to CSV ... runion-2021-01-10-boards\n",
      "COPY 19\n"
     ]
    },
    {
     "name": "stderr",
     "output_type": "stream",
     "text": [
      "Senha: "
     ]
    },
    {
     "name": "stdout",
     "output_type": "stream",
     "text": [
      "Table to CSV ... runion-2021-01-10-contracts\n",
      "COPY 0\n"
     ]
    },
    {
     "name": "stderr",
     "output_type": "stream",
     "text": [
      "Senha: "
     ]
    },
    {
     "name": "stdout",
     "output_type": "stream",
     "text": [
      "Table to CSV ... runion-2021-01-10-members\n"
     ]
    },
    {
     "name": "stderr",
     "output_type": "stream",
     "text": [
      "Senha: "
     ]
    },
    {
     "name": "stdout",
     "output_type": "stream",
     "text": [
      "COPY 17343\n",
      "Table to CSV ... runion-2021-01-10-posts\n"
     ]
    },
    {
     "name": "stderr",
     "output_type": "stream",
     "text": [
      "Senha: "
     ]
    },
    {
     "name": "stdout",
     "output_type": "stream",
     "text": [
      "COPY 240632\n",
      "Table to CSV ... runion-2021-01-10-threads\n",
      "COPY 16867\n"
     ]
    },
    {
     "name": "stderr",
     "output_type": "stream",
     "text": [
      "Senha: "
     ]
    },
    {
     "name": "stdout",
     "output_type": "stream",
     "text": [
      "Table to CSV ... runion-2021-01-10-votes\n",
      "COPY 0\n"
     ]
    },
    {
     "name": "stderr",
     "output_type": "stream",
     "text": [
      "Senha: "
     ]
    },
    {
     "name": "stdout",
     "output_type": "stream",
     "text": [
      "['boards', 'contracts', 'members', 'posts', 'threads', 'votes']\n",
      "Table to CSV ... safe-sky-hacks-2021-01-10-boards\n",
      "COPY 50\n"
     ]
    },
    {
     "name": "stderr",
     "output_type": "stream",
     "text": [
      "Senha: "
     ]
    },
    {
     "name": "stdout",
     "output_type": "stream",
     "text": [
      "Table to CSV ... safe-sky-hacks-2021-01-10-contracts\n",
      "COPY 0\n"
     ]
    },
    {
     "name": "stderr",
     "output_type": "stream",
     "text": [
      "Senha: "
     ]
    },
    {
     "name": "stdout",
     "output_type": "stream",
     "text": [
      "Table to CSV ... safe-sky-hacks-2021-01-10-members\n",
      "COPY 7471\n"
     ]
    },
    {
     "name": "stderr",
     "output_type": "stream",
     "text": [
      "Senha: "
     ]
    },
    {
     "name": "stdout",
     "output_type": "stream",
     "text": [
      "Table to CSV ... safe-sky-hacks-2021-01-10-posts\n"
     ]
    },
    {
     "name": "stderr",
     "output_type": "stream",
     "text": [
      "Senha: "
     ]
    },
    {
     "name": "stdout",
     "output_type": "stream",
     "text": [
      "COPY 27018\n",
      "Table to CSV ... safe-sky-hacks-2021-01-10-threads\n",
      "COPY 12963\n"
     ]
    },
    {
     "name": "stderr",
     "output_type": "stream",
     "text": [
      "Senha: "
     ]
    },
    {
     "name": "stdout",
     "output_type": "stream",
     "text": [
      "Table to CSV ... safe-sky-hacks-2021-01-10-votes\n",
      "COPY 0\n"
     ]
    },
    {
     "name": "stderr",
     "output_type": "stream",
     "text": [
      "Senha: "
     ]
    },
    {
     "name": "stdout",
     "output_type": "stream",
     "text": [
      "['boards', 'contracts', 'members', 'posts', 'threads', 'votes']\n",
      "Table to CSV ... the-hub-2021-01-10-boards\n",
      "COPY 62\n"
     ]
    },
    {
     "name": "stderr",
     "output_type": "stream",
     "text": [
      "Senha: "
     ]
    },
    {
     "name": "stdout",
     "output_type": "stream",
     "text": [
      "Table to CSV ... the-hub-2021-01-10-contracts\n",
      "COPY 0\n"
     ]
    },
    {
     "name": "stderr",
     "output_type": "stream",
     "text": [
      "Senha: "
     ]
    },
    {
     "name": "stdout",
     "output_type": "stream",
     "text": [
      "Table to CSV ... the-hub-2021-01-10-members\n",
      "COPY 8340\n"
     ]
    },
    {
     "name": "stderr",
     "output_type": "stream",
     "text": [
      "Senha: "
     ]
    },
    {
     "name": "stdout",
     "output_type": "stream",
     "text": [
      "Table to CSV ... the-hub-2021-01-10-posts\n"
     ]
    },
    {
     "name": "stderr",
     "output_type": "stream",
     "text": [
      "Senha: "
     ]
    },
    {
     "name": "stdout",
     "output_type": "stream",
     "text": [
      "COPY 88753\n",
      "Table to CSV ... the-hub-2021-01-10-threads\n",
      "COPY 11286\n"
     ]
    },
    {
     "name": "stderr",
     "output_type": "stream",
     "text": [
      "Senha: "
     ]
    },
    {
     "name": "stdout",
     "output_type": "stream",
     "text": [
      "Table to CSV ... the-hub-2021-01-10-votes\n",
      "COPY 0\n"
     ]
    },
    {
     "name": "stderr",
     "output_type": "stream",
     "text": [
      "Senha: "
     ]
    },
    {
     "name": "stdout",
     "output_type": "stream",
     "text": [
      "['boards', 'contracts', 'members', 'posts', 'threads', 'votes']\n",
      "Table to CSV ... torum-2021-01-10-boards\n",
      "COPY 11\n"
     ]
    },
    {
     "name": "stderr",
     "output_type": "stream",
     "text": [
      "Senha: "
     ]
    },
    {
     "name": "stdout",
     "output_type": "stream",
     "text": [
      "Table to CSV ... torum-2021-01-10-contracts\n",
      "COPY 0\n"
     ]
    },
    {
     "name": "stderr",
     "output_type": "stream",
     "text": [
      "Senha: "
     ]
    },
    {
     "name": "stdout",
     "output_type": "stream",
     "text": [
      "Table to CSV ... torum-2021-01-10-members\n",
      "COPY 3835\n"
     ]
    },
    {
     "name": "stderr",
     "output_type": "stream",
     "text": [
      "Senha: "
     ]
    },
    {
     "name": "stdout",
     "output_type": "stream",
     "text": [
      "Table to CSV ... torum-2021-01-10-posts\n"
     ]
    },
    {
     "name": "stderr",
     "output_type": "stream",
     "text": [
      "Senha: "
     ]
    },
    {
     "name": "stdout",
     "output_type": "stream",
     "text": [
      "COPY 28485\n",
      "Table to CSV ... torum-2021-01-10-threads\n",
      "COPY 4346\n"
     ]
    },
    {
     "name": "stderr",
     "output_type": "stream",
     "text": [
      "Senha: "
     ]
    },
    {
     "name": "stdout",
     "output_type": "stream",
     "text": [
      "Table to CSV ... torum-2021-01-10-votes\n",
      "COPY 0\n"
     ]
    },
    {
     "name": "stderr",
     "output_type": "stream",
     "text": [
      "Senha: "
     ]
    }
   ],
   "source": [
    "for db_name in list_dbs:\n",
    "    list_tables = tables_dict[db_name]\n",
    "    print(list_tables)\n",
    "    for cur_table in list_tables:\n",
    "        cmd_table_to_csv(f\"{db_name}\", f\"{cur_table}\", f\"{CSV_PATH}{db_name}/\", passwd=config_file[\"password\"])"
   ]
  }
 ],
 "metadata": {
  "kernelspec": {
   "display_name": "Python 3 (ipykernel)",
   "language": "python",
   "name": "python3"
  },
  "language_info": {
   "codemirror_mode": {
    "name": "ipython",
    "version": 3
   },
   "file_extension": ".py",
   "mimetype": "text/x-python",
   "name": "python",
   "nbconvert_exporter": "python",
   "pygments_lexer": "ipython3",
   "version": "3.9.12"
  }
 },
 "nbformat": 4,
 "nbformat_minor": 5
}
