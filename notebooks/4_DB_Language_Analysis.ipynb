{
 "cells": [
  {
   "cell_type": "code",
   "execution_count": null,
   "id": "bb9d7924",
   "metadata": {},
   "outputs": [],
   "source": [
    "import pandas as pd\n",
    "import sys, os\n",
    "\n",
    "module_path = os.path.abspath(os.path.join('..'))\n",
    "if module_path not in sys.path:\n",
    "    sys.path.append(module_path)"
   ]
  },
  {
   "cell_type": "code",
   "execution_count": null,
   "id": "3b9d1697",
   "metadata": {},
   "outputs": [],
   "source": [
    "from crimebb import *"
   ]
  },
  {
   "cell_type": "code",
   "execution_count": null,
   "id": "ca851fef",
   "metadata": {},
   "outputs": [],
   "source": [
    "# !pip install pyenchant"
   ]
  },
  {
   "cell_type": "code",
   "execution_count": null,
   "id": "ccef7b21",
   "metadata": {},
   "outputs": [],
   "source": [
    "# !pip install nltk"
   ]
  },
  {
   "cell_type": "code",
   "execution_count": null,
   "id": "22b83a56",
   "metadata": {},
   "outputs": [],
   "source": [
    "# !pip install wordcloud"
   ]
  },
  {
   "cell_type": "code",
   "execution_count": null,
   "id": "eb1b6142",
   "metadata": {},
   "outputs": [],
   "source": [
    "# !pip install pycountry"
   ]
  },
  {
   "cell_type": "code",
   "execution_count": null,
   "id": "716cc2c1",
   "metadata": {},
   "outputs": [],
   "source": [
    "# !pip install multidict"
   ]
  },
  {
   "cell_type": "code",
   "execution_count": null,
   "id": "06d434bb",
   "metadata": {},
   "outputs": [],
   "source": [
    "YEAR=\"2021\""
   ]
  },
  {
   "cell_type": "code",
   "execution_count": null,
   "id": "f5a666e5",
   "metadata": {},
   "outputs": [],
   "source": [
    "DATA_PATH=\"../data/\"\n",
    "CSV_PATH = f\"{DATA_PATH}csv/{YEAR}/\""
   ]
  },
  {
   "cell_type": "code",
   "execution_count": null,
   "id": "fe1f1b03",
   "metadata": {},
   "outputs": [],
   "source": [
    "language_to_eval = [\"russian\", \"english\", \"german\"]"
   ]
  },
  {
   "cell_type": "markdown",
   "id": "18f2af85",
   "metadata": {},
   "source": [
    "### Loading data"
   ]
  },
  {
   "cell_type": "markdown",
   "id": "6e9f9549",
   "metadata": {},
   "source": [
    "#### boards"
   ]
  },
  {
   "cell_type": "code",
   "execution_count": null,
   "id": "b0084dd9",
   "metadata": {},
   "outputs": [],
   "source": [
    "boards_df = pd.read_csv(f\"{CSV_PATH}boards.csv\", sep=\"\\t\", low_memory=False)\n",
    "boards_df[\"url\"] = boards_df[\"url\"].apply(lambda x: x.replace(\"antichat.com\", \"forum.antichat.ru\"))\n",
    "boards_df[\"site_name\"] = boards_df[\"url\"].apply(lambda x: (x.replace(\"https://\", \"\")).split(\"/\")[0] if \"https\" in x else (x.replace(\"http://\", \"\")).split(\"/\")[0] )\n",
    "boards_df.drop_duplicates(inplace=True)\n",
    "boards_df = boards_df[[\"id\", \"site_id\", \"site_name\", \"name\", \"url\"]].copy().drop_duplicates()\n",
    "boards_df.rename(columns={\"id\":\"board_id\", \"name\":\"board_title\", \"url\":\"board_url\"}, inplace=True)\n",
    "boards_df"
   ]
  },
  {
   "cell_type": "markdown",
   "id": "275fe4e9",
   "metadata": {},
   "source": [
    "#### website"
   ]
  },
  {
   "cell_type": "code",
   "execution_count": null,
   "id": "94025b69",
   "metadata": {},
   "outputs": [],
   "source": [
    "website_df = boards_df[[\"site_name\", \"site_id\"]].copy()\n",
    "website_df.drop_duplicates(inplace=True)\n",
    "website_df"
   ]
  },
  {
   "cell_type": "markdown",
   "id": "1c452183",
   "metadata": {},
   "source": [
    "#### Threads"
   ]
  },
  {
   "cell_type": "code",
   "execution_count": null,
   "id": "9e5f4127",
   "metadata": {},
   "outputs": [],
   "source": [
    "threads_df = pd.read_csv(f\"{CSV_PATH}threads.csv\", sep=\"\\t\", low_memory=False)\n",
    "threads_df[\"url\"] = threads_df[\"url\"].apply(lambda x: x.replace(\"antichat.com\", \"forum.antichat.ru\"))\n",
    "threads_df.drop_duplicates(inplace=True)\n",
    "threads_df = threads_df[[\"id\", \"site_id\", \"board_id\", \"creator\", \"creator_id\", \"name\", \"url\", \"created_on\"]].copy().drop_duplicates()\n",
    "threads_df.rename(columns={\"creator\":\"username\", \"id\":\"thread_id\", \"creator_id\":\"user_id\", \"name\":\"thread_title\", \"url\":\"thread_url\", \"created_on\": \"thread_data_creation\"}, inplace=True)\n",
    "#threads_df = threads_df[ (threads_df[\"username\"].str.lower()!=\"none\") & (~threads_df[\"username\"].isna()) ].copy().drop_duplicates()\n",
    "threads_df"
   ]
  },
  {
   "cell_type": "markdown",
   "id": "28acda76",
   "metadata": {},
   "source": [
    "#### posts"
   ]
  },
  {
   "cell_type": "code",
   "execution_count": null,
   "id": "0f043549",
   "metadata": {},
   "outputs": [],
   "source": [
    "posts_df = pd.read_csv(f\"{CSV_PATH}posts.csv\", sep=\"\\t\", low_memory=False)\n",
    "posts_df.drop_duplicates(inplace=True)\n",
    "posts_df = posts_df[[\"id\", \"site_id\", \"board_id\", \"thread_id\", \"creator\", \"creator_id\", \"creator_n_posts\", \"creator_reputation\", \"content\", \"quoted_post_ids\", \"created_on\"]].copy().drop_duplicates()\n",
    "posts_df.rename(columns={\"creator\":\"username\", \"id\":\"post_id\", \"creator_id\":\"user_id\", \"creator_n_posts\":\"user_num_posts\", \"creator_reputation\":\"user_reputation\", \"created_on\": \"post_data_creation\"}, inplace=True)\n",
    "#posts_df = posts_df[ (posts_df[\"username\"].str.lower()!=\"none\") & (~posts_df[\"username\"].isna()) ].copy().drop_duplicates()\n",
    "posts_df = posts_df[~posts_df[\"content\"].isna()].copy().drop_duplicates()\n",
    "posts_df"
   ]
  },
  {
   "cell_type": "markdown",
   "id": "c65ff5bf",
   "metadata": {},
   "source": [
    "#### posts x threads x boards x website"
   ]
  },
  {
   "cell_type": "code",
   "execution_count": null,
   "id": "2d1a2d01",
   "metadata": {},
   "outputs": [],
   "source": [
    "posts_website_df = pd.merge(posts_df, website_df, how=\"left\", on=\"site_id\")\n",
    "posts_website_df"
   ]
  },
  {
   "cell_type": "code",
   "execution_count": null,
   "id": "f5a08458",
   "metadata": {},
   "outputs": [],
   "source": [
    "posts_boards_df = pd.merge(posts_website_df, boards_df[[\"site_id\", \"board_id\", \"board_title\"]].drop_duplicates(), on=[\"site_id\", \"board_id\"], how=\"left\")\n",
    "posts_boards_df"
   ]
  },
  {
   "cell_type": "code",
   "execution_count": null,
   "id": "d4e18824",
   "metadata": {},
   "outputs": [],
   "source": [
    "posts_threads_df = pd.merge(posts_boards_df, threads_df[[\"site_id\", \"board_id\", \"thread_id\", \"thread_title\"]].drop_duplicates(), on=[\"site_id\", \"board_id\", \"thread_id\"], how=\"left\")\n",
    "posts_threads_df"
   ]
  },
  {
   "cell_type": "markdown",
   "id": "85b05922",
   "metadata": {},
   "source": [
    "#### Pre-processing content"
   ]
  },
  {
   "cell_type": "code",
   "execution_count": null,
   "id": "7f7cf1cd",
   "metadata": {},
   "outputs": [],
   "source": [
    "posts_threads_df[\"content_processed\"] = posts_threads_df[\"content\"].apply(lambda x: x.replace(\"https\", \"\") )\n",
    "posts_threads_df[\"content_processed\"] = posts_threads_df[\"content_processed\"].apply(lambda x: x.replace(\"http\", \"\") )\n",
    "posts_threads_df[\"content_processed\"] = posts_threads_df[\"content_processed\"].apply(lambda x: x.replace(\"...\", \"\") )\n",
    "posts_threads_df[\"content_processed\"] = posts_threads_df[\"content_processed\"].apply(lambda x: x.replace(\"..\", \"\") )\n",
    "posts_threads_df[\"content_processed\"] = posts_threads_df[\"content_processed\"].apply(lambda x: re.sub('[\\\\\\'\\\"+@_!#$%^&*,;()<>?/\\|\\[\\]}{~:=\\n]', \" \", x) )\n",
    "posts_threads_df[\"content_processed\"] = posts_threads_df[\"content_processed\"].apply(str.lower)"
   ]
  },
  {
   "cell_type": "markdown",
   "id": "60cd31d5",
   "metadata": {},
   "source": [
    "#### Detecting languages"
   ]
  },
  {
   "cell_type": "code",
   "execution_count": null,
   "id": "49f92b92",
   "metadata": {},
   "outputs": [],
   "source": [
    "posts_threads_df[\"language_content\"] = posts_threads_df[\"content_processed\"].apply(lambda x: detect_language(str(x), language_to_eval=language_to_eval) )"
   ]
  },
  {
   "cell_type": "code",
   "execution_count": null,
   "id": "5b5fbdbf",
   "metadata": {},
   "outputs": [],
   "source": [
    "posts_threads_df[\"language_detected\"] = posts_threads_df[\"language_content\"].apply(lambda x: max(x, key=x.get) )"
   ]
  },
  {
   "cell_type": "code",
   "execution_count": null,
   "id": "7c039f16",
   "metadata": {},
   "outputs": [],
   "source": [
    "posts_threads_df[\"language_score\"] = posts_threads_df[\"language_content\"].apply(lambda x: max(x.values() ))"
   ]
  },
  {
   "cell_type": "code",
   "execution_count": null,
   "id": "57599e21",
   "metadata": {},
   "outputs": [],
   "source": [
    "posts_threads_df[\"language_detected\"].unique()"
   ]
  },
  {
   "cell_type": "code",
   "execution_count": null,
   "id": "0666fbac",
   "metadata": {},
   "outputs": [],
   "source": [
    "posts_threads_df.to_csv(f\"{CSV_PATH}post_thread_board.csv\", sep='\\t', index=False)"
   ]
  },
  {
   "cell_type": "markdown",
   "id": "08f1bcfc",
   "metadata": {},
   "source": [
    "#### Languages"
   ]
  },
  {
   "cell_type": "code",
   "execution_count": null,
   "id": "c42e3f16",
   "metadata": {},
   "outputs": [],
   "source": [
    "lang_post_df = posts_threads_df.pivot_table(columns=['language_detected'], aggfunc='size')\n",
    "lang_post_df.sort_values(ascending=False, inplace=True)\n",
    "lang_post_df"
   ]
  },
  {
   "cell_type": "code",
   "execution_count": null,
   "id": "6be0f188",
   "metadata": {
    "scrolled": false
   },
   "outputs": [],
   "source": [
    "mean_val = round(lang_post_df.mean(), 2)\n",
    "\n",
    "import matplotlib.pyplot as plt\n",
    "\n",
    "fig, ax = plt.subplots(figsize=(16,8))\n",
    "ax.bar(lang_post_df.index.values, lang_post_df.values)\n",
    "\n",
    "for x,y,p in zip(lang_post_df.index.values, lang_post_df.values, lang_post_df.values):\n",
    "  plt.text(x, y, p)\n",
    "plt.xlabel(\"Languages detected\")\n",
    "plt.ylabel(\"Number of documents\")\n",
    "plt.title(f\"Number of documents per language, Avg: {mean_val}\")\n",
    "plt.show()"
   ]
  },
  {
   "cell_type": "markdown",
   "id": "0e3acc4b",
   "metadata": {},
   "source": [
    "#### Wordclouds"
   ]
  },
  {
   "cell_type": "code",
   "execution_count": null,
   "id": "1ec74137",
   "metadata": {},
   "outputs": [],
   "source": [
    "os.exit()"
   ]
  },
  {
   "cell_type": "code",
   "execution_count": null,
   "id": "a6e5850a",
   "metadata": {},
   "outputs": [],
   "source": [
    "english_df = posts_threads_df[posts_threads_df[\"language_detected\"]==\"english\"].copy()\n",
    "english_content = ' '.join(english_df[\"content_processed\"])"
   ]
  },
  {
   "cell_type": "code",
   "execution_count": null,
   "id": "a1dfa501",
   "metadata": {},
   "outputs": [],
   "source": [
    "german_df = posts_threads_df[posts_threads_df[\"language_detected\"]==\"german\"].copy()\n",
    "german_content = ' '.join(german_df[\"content_processed\"])"
   ]
  },
  {
   "cell_type": "code",
   "execution_count": null,
   "id": "89492e28",
   "metadata": {},
   "outputs": [],
   "source": [
    "russian_df = posts_threads_df[posts_threads_df[\"language_detected\"]==\"russian\"].copy()\n",
    "russian_content = ' '.join(russian_df[\"content_processed\"])"
   ]
  },
  {
   "cell_type": "code",
   "execution_count": null,
   "id": "c4c8b455",
   "metadata": {},
   "outputs": [],
   "source": [
    "en_dict = getFrequencyDictForText(english_content, language_to_eval=language_to_eval)"
   ]
  },
  {
   "cell_type": "code",
   "execution_count": null,
   "id": "f9b10480",
   "metadata": {},
   "outputs": [],
   "source": [
    "german_dict = getFrequencyDictForText(german_content, language_to_eval=language_to_eval)"
   ]
  },
  {
   "cell_type": "code",
   "execution_count": null,
   "id": "5deb1d43",
   "metadata": {},
   "outputs": [],
   "source": [
    "ru_dict = getFrequencyDictForText(russian_content, language_to_eval=language_to_eval)"
   ]
  },
  {
   "cell_type": "code",
   "execution_count": null,
   "id": "a9a8b885",
   "metadata": {},
   "outputs": [],
   "source": [
    "showWordCloud(en_dict)"
   ]
  },
  {
   "cell_type": "code",
   "execution_count": null,
   "id": "c1fdb4b1",
   "metadata": {},
   "outputs": [],
   "source": [
    "showWordCloud(german_dict)"
   ]
  },
  {
   "cell_type": "code",
   "execution_count": null,
   "id": "ac6e0186",
   "metadata": {
    "scrolled": false
   },
   "outputs": [],
   "source": [
    "showWordCloud(ru_dict)"
   ]
  }
 ],
 "metadata": {
  "kernelspec": {
   "display_name": "Python 3 (ipykernel)",
   "language": "python",
   "name": "python3"
  },
  "language_info": {
   "codemirror_mode": {
    "name": "ipython",
    "version": 3
   },
   "file_extension": ".py",
   "mimetype": "text/x-python",
   "name": "python",
   "nbconvert_exporter": "python",
   "pygments_lexer": "ipython3",
   "version": "3.9.12"
  }
 },
 "nbformat": 4,
 "nbformat_minor": 5
}
