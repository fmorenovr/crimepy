{
 "cells": [
  {
   "cell_type": "code",
   "execution_count": null,
   "id": "9d543143",
   "metadata": {},
   "outputs": [],
   "source": [
    "import pandas as pd\n",
    "import sys, os\n",
    "\n",
    "module_path = os.path.abspath(os.path.join('..'))\n",
    "if module_path not in sys.path:\n",
    "    sys.path.append(module_path)"
   ]
  },
  {
   "cell_type": "code",
   "execution_count": null,
   "id": "450bf137",
   "metadata": {},
   "outputs": [],
   "source": [
    "from crimebb import *"
   ]
  },
  {
   "cell_type": "code",
   "execution_count": null,
   "id": "ea4aecd5",
   "metadata": {},
   "outputs": [],
   "source": [
    "YEAR=\"2021\""
   ]
  },
  {
   "cell_type": "code",
   "execution_count": null,
   "id": "ce46292a",
   "metadata": {},
   "outputs": [],
   "source": [
    "DATA_PATH=\"../data/\"\n",
    "CSV_PATH = f\"{DATA_PATH}csv/{YEAR}/\""
   ]
  },
  {
   "cell_type": "code",
   "execution_count": null,
   "id": "2848090f",
   "metadata": {},
   "outputs": [],
   "source": [
    "language_to_eval = [\"russian\", \"english\", \"german\"]"
   ]
  },
  {
   "cell_type": "markdown",
   "id": "27c21461",
   "metadata": {},
   "source": [
    "### Loading data"
   ]
  },
  {
   "cell_type": "code",
   "execution_count": null,
   "id": "f6023469",
   "metadata": {},
   "outputs": [],
   "source": [
    "posts_threads_df = pd.read_csv(f\"{CSV_PATH}post_thread_board.csv\", sep=\"\\t\", low_memory=False)\n",
    "posts_threads_df"
   ]
  },
  {
   "cell_type": "code",
   "execution_count": null,
   "id": "a0ab82db",
   "metadata": {},
   "outputs": [],
   "source": [
    "posts_threads_df"
   ]
  },
  {
   "cell_type": "markdown",
   "id": "60e61d4b",
   "metadata": {},
   "source": [
    "#### Getting urls"
   ]
  },
  {
   "cell_type": "code",
   "execution_count": null,
   "id": "9c904565",
   "metadata": {},
   "outputs": [],
   "source": [
    "posts_threads_df[\"urls_mentioned\"] = posts_threads_df[\"content\"].apply(lambda x: re.findall('http[s]?://(?:[a-zA-Z]|[0-9]|[$-_@.&+]|[!*\\(\\),]|(?:%[0-9a-fA-F][0-9a-fA-F]))+', x))\n",
    "posts_threads_df"
   ]
  },
  {
   "cell_type": "markdown",
   "id": "eb2e1dc9",
   "metadata": {},
   "source": [
    "#### Siemens references"
   ]
  },
  {
   "cell_type": "code",
   "execution_count": null,
   "id": "46a42ee9",
   "metadata": {},
   "outputs": [],
   "source": [
    "keywords=[\"siemens\", \"siemens s7\", \"simatic s7\", \"s7\", \"simatic\"]\n",
    "\n",
    "pattern = '|'.join(keywords)"
   ]
  },
  {
   "cell_type": "code",
   "execution_count": null,
   "id": "d24d6c93",
   "metadata": {
    "scrolled": true
   },
   "outputs": [],
   "source": [
    "siemens_df = posts_threads_df[posts_threads_df[\"content_processed\"].str.lower().str.contains(pattern)]\n",
    "siemens_df"
   ]
  },
  {
   "cell_type": "code",
   "execution_count": null,
   "id": "5716167b",
   "metadata": {},
   "outputs": [],
   "source": [
    "siemens_df[\"content_processed\"] = siemens_df[\"content_processed\"].apply(lambda x: re.sub('[0-9]+', \"\", x) )\n",
    "siemens_content = ' '.join(siemens_df[\"content_processed\"])"
   ]
  },
  {
   "cell_type": "code",
   "execution_count": null,
   "id": "0dd14c99",
   "metadata": {},
   "outputs": [],
   "source": [
    "siemens_dict = getFrequencyDictForText(siemens_content, language_to_eval=language_to_eval)"
   ]
  },
  {
   "cell_type": "code",
   "execution_count": null,
   "id": "6f66de97",
   "metadata": {},
   "outputs": [],
   "source": [
    "showWordCloud(siemens_dict)"
   ]
  },
  {
   "cell_type": "markdown",
   "id": "cfec0729",
   "metadata": {},
   "source": [
    "#### Port references"
   ]
  },
  {
   "cell_type": "code",
   "execution_count": null,
   "id": "86990363",
   "metadata": {},
   "outputs": [],
   "source": [
    "keywords=[\"102\", \"port102\", \"port:102\", \"bacnet\", \"port\"]\n",
    "\n",
    "pattern = '|'.join(keywords)"
   ]
  },
  {
   "cell_type": "code",
   "execution_count": null,
   "id": "660caa19",
   "metadata": {
    "scrolled": true
   },
   "outputs": [],
   "source": [
    "port102_df = posts_threads_df[posts_threads_df[\"content_processed\"].str.lower().str.contains(pattern)]\n",
    "port102_df"
   ]
  },
  {
   "cell_type": "code",
   "execution_count": null,
   "id": "88033dd3",
   "metadata": {},
   "outputs": [],
   "source": [
    "port102_df[\"content_processed\"] = port102_df[\"content_processed\"].apply(lambda x: re.sub('[0-9]+', \"\", x) )\n",
    "port102_content = ' '.join(port102_df[\"content_processed\"])"
   ]
  },
  {
   "cell_type": "code",
   "execution_count": null,
   "id": "6dd27d02",
   "metadata": {},
   "outputs": [],
   "source": [
    "port102_dict = getFrequencyDictForText(port102_content, language_to_eval=language_to_eval)"
   ]
  },
  {
   "cell_type": "code",
   "execution_count": null,
   "id": "a81cfb56",
   "metadata": {},
   "outputs": [],
   "source": [
    "showWordCloud(port102_dict)"
   ]
  },
  {
   "cell_type": "markdown",
   "id": "cfa85cc7",
   "metadata": {},
   "source": [
    "#### CVSS references"
   ]
  },
  {
   "cell_type": "code",
   "execution_count": null,
   "id": "1f84cf31",
   "metadata": {},
   "outputs": [],
   "source": [
    "keywords=[\"cvss\"]\n",
    "\n",
    "pattern = '|'.join(keywords)"
   ]
  },
  {
   "cell_type": "code",
   "execution_count": null,
   "id": "ab2287a4",
   "metadata": {},
   "outputs": [],
   "source": [
    "cvss_df = posts_threads_df[posts_threads_df[\"content_processed\"].str.lower().str.contains(pattern)]\n",
    "cvss_df"
   ]
  },
  {
   "cell_type": "code",
   "execution_count": null,
   "id": "32b96107",
   "metadata": {},
   "outputs": [],
   "source": [
    "cvss_df[\"content_processed\"] = cvss_df[\"content_processed\"].apply(lambda x: re.sub('[0-9]+', \"\", x) )\n",
    "cvss_content = ' '.join(cvss_df[\"content_processed\"])"
   ]
  },
  {
   "cell_type": "code",
   "execution_count": null,
   "id": "9112593e",
   "metadata": {},
   "outputs": [],
   "source": [
    "cvss_dict = getFrequencyDictForText(cvss_content, language_to_eval=language_to_eval)"
   ]
  },
  {
   "cell_type": "code",
   "execution_count": null,
   "id": "8e8ca107",
   "metadata": {},
   "outputs": [],
   "source": [
    "showWordCloud(cvss_dict)"
   ]
  },
  {
   "cell_type": "markdown",
   "id": "826b7f5c",
   "metadata": {},
   "source": [
    "#### EPSS references"
   ]
  },
  {
   "cell_type": "code",
   "execution_count": null,
   "id": "d1644221",
   "metadata": {},
   "outputs": [],
   "source": [
    "keywords=[\"epss\"]\n",
    "\n",
    "pattern = '|'.join(keywords)"
   ]
  },
  {
   "cell_type": "code",
   "execution_count": null,
   "id": "907008ee",
   "metadata": {
    "scrolled": true
   },
   "outputs": [],
   "source": [
    "epss_df = posts_threads_df[posts_threads_df[\"content_processed\"].str.lower().str.contains(pattern)]\n",
    "epss_df"
   ]
  },
  {
   "cell_type": "code",
   "execution_count": null,
   "id": "a766cc4f",
   "metadata": {},
   "outputs": [],
   "source": [
    "epss_df[\"content_processed\"] = epss_df[\"content_processed\"].apply(lambda x: re.sub('[0-9]+', \"\", x) )\n",
    "epss_content = ' '.join(epss_df[\"content_processed\"])"
   ]
  },
  {
   "cell_type": "code",
   "execution_count": null,
   "id": "8f39001f",
   "metadata": {},
   "outputs": [],
   "source": [
    "epss_dict = getFrequencyDictForText(epss_content, language_to_eval=language_to_eval)"
   ]
  },
  {
   "cell_type": "code",
   "execution_count": null,
   "id": "36256439",
   "metadata": {},
   "outputs": [],
   "source": [
    "showWordCloud(epss_dict)"
   ]
  },
  {
   "cell_type": "markdown",
   "id": "7451dcf3",
   "metadata": {},
   "source": [
    "#### FUD references"
   ]
  },
  {
   "cell_type": "code",
   "execution_count": null,
   "id": "8a225e2d",
   "metadata": {},
   "outputs": [],
   "source": [
    "keywords=[\"fud\"]\n",
    "\n",
    "pattern = '|'.join(keywords)"
   ]
  },
  {
   "cell_type": "code",
   "execution_count": null,
   "id": "91a0efa2",
   "metadata": {
    "scrolled": true
   },
   "outputs": [],
   "source": [
    "fud_df = posts_threads_df[posts_threads_df[\"content_processed\"].str.lower().str.contains(pattern)]\n",
    "fud_df"
   ]
  },
  {
   "cell_type": "code",
   "execution_count": null,
   "id": "8535f8f7",
   "metadata": {},
   "outputs": [],
   "source": [
    "fud_df[\"content_processed\"] = fud_df[\"content_processed\"].apply(lambda x: re.sub('[0-9]+', \"\", x) )\n",
    "fud_content = ' '.join(fud_df[\"content_processed\"])"
   ]
  },
  {
   "cell_type": "code",
   "execution_count": null,
   "id": "5ecee791",
   "metadata": {},
   "outputs": [],
   "source": [
    "fud_dict = getFrequencyDictForText(fud_content, language_to_eval=language_to_eval)"
   ]
  },
  {
   "cell_type": "code",
   "execution_count": null,
   "id": "83d35076",
   "metadata": {},
   "outputs": [],
   "source": [
    "showWordCloud(fud_dict)"
   ]
  },
  {
   "cell_type": "markdown",
   "id": "0661b0a1",
   "metadata": {},
   "source": [
    "#### SHODAN references"
   ]
  },
  {
   "cell_type": "code",
   "execution_count": null,
   "id": "9817866f",
   "metadata": {},
   "outputs": [],
   "source": [
    "keywords=[\"shodan\"]\n",
    "\n",
    "pattern = '|'.join(keywords)"
   ]
  },
  {
   "cell_type": "code",
   "execution_count": null,
   "id": "fd44bedd",
   "metadata": {
    "scrolled": true
   },
   "outputs": [],
   "source": [
    "shodan_df = posts_threads_df[posts_threads_df[\"content_processed\"].str.lower().str.contains(pattern)]\n",
    "shodan_df"
   ]
  },
  {
   "cell_type": "code",
   "execution_count": null,
   "id": "76b4ebc4",
   "metadata": {},
   "outputs": [],
   "source": [
    "shodan_df[\"content_processed\"] = shodan_df[\"content_processed\"].apply(lambda x: re.sub('[0-9]+', \"\", x) )\n",
    "shodan_content = ' '.join(shodan_df[\"content_processed\"])"
   ]
  },
  {
   "cell_type": "code",
   "execution_count": null,
   "id": "3d95aa64",
   "metadata": {},
   "outputs": [],
   "source": [
    "shodan_dict = getFrequencyDictForText(shodan_content, language_to_eval=language_to_eval)"
   ]
  },
  {
   "cell_type": "code",
   "execution_count": null,
   "id": "0b1beb4e",
   "metadata": {},
   "outputs": [],
   "source": [
    "showWordCloud(shodan_dict)"
   ]
  },
  {
   "cell_type": "markdown",
   "id": "8bf0d8c1",
   "metadata": {},
   "source": [
    "#### CVE references"
   ]
  },
  {
   "cell_type": "code",
   "execution_count": null,
   "id": "df7eff17",
   "metadata": {},
   "outputs": [],
   "source": [
    "keywords=[\"cve \", \"cve-\"]\n",
    "\n",
    "pattern = '|'.join(keywords)"
   ]
  },
  {
   "cell_type": "code",
   "execution_count": null,
   "id": "ded39a72",
   "metadata": {
    "scrolled": true
   },
   "outputs": [],
   "source": [
    "cve_df = posts_threads_df[posts_threads_df[\"content_processed\"].str.lower().str.contains(pattern)]\n",
    "cve_df"
   ]
  },
  {
   "cell_type": "code",
   "execution_count": null,
   "id": "08edce35",
   "metadata": {},
   "outputs": [],
   "source": [
    "cve_df[\"content_processed\"] = cve_df[\"content_processed\"].apply(lambda x: re.sub('[0-9]+', \"\", x) )\n",
    "cve_content = ' '.join(cve_df[\"content_processed\"])"
   ]
  },
  {
   "cell_type": "code",
   "execution_count": null,
   "id": "a344d365",
   "metadata": {},
   "outputs": [],
   "source": [
    "cve_dict = getFrequencyDictForText(cve_content, language_to_eval=language_to_eval)"
   ]
  },
  {
   "cell_type": "code",
   "execution_count": null,
   "id": "b30e0e15",
   "metadata": {},
   "outputs": [],
   "source": [
    "showWordCloud(cve_dict)"
   ]
  },
  {
   "cell_type": "markdown",
   "id": "b2288131",
   "metadata": {},
   "source": [
    "#### COVID References"
   ]
  },
  {
   "cell_type": "code",
   "execution_count": null,
   "id": "7c980a03",
   "metadata": {},
   "outputs": [],
   "source": [
    "keywords=[\"covid\", \"covid19\", \"covid-19\", \"sars\", \"sars-cov-2\", \"sars-cov\"]\n",
    "\n",
    "pattern = '|'.join(keywords)"
   ]
  },
  {
   "cell_type": "code",
   "execution_count": null,
   "id": "0078f70b",
   "metadata": {
    "scrolled": true
   },
   "outputs": [],
   "source": [
    "covid_df = posts_threads_df[posts_threads_df[\"content_processed\"].str.lower().str.contains(pattern)]\n",
    "covid_df"
   ]
  },
  {
   "cell_type": "code",
   "execution_count": null,
   "id": "1547dab9",
   "metadata": {},
   "outputs": [],
   "source": [
    "covid_df[\"content_processed\"] = covid_df[\"content_processed\"].apply(lambda x: re.sub('[0-9]+', \"\", x) )\n",
    "covid_content = ' '.join(covid_df[\"content_processed\"])"
   ]
  },
  {
   "cell_type": "code",
   "execution_count": null,
   "id": "87df6e95",
   "metadata": {},
   "outputs": [],
   "source": [
    "covid_dict = getFrequencyDictForText(covid_content, language_to_eval=language_to_eval)"
   ]
  },
  {
   "cell_type": "code",
   "execution_count": null,
   "id": "ebadccc6",
   "metadata": {},
   "outputs": [],
   "source": [
    "showWordCloud(covid_dict)"
   ]
  }
 ],
 "metadata": {
  "kernelspec": {
   "display_name": "Python 3 (ipykernel)",
   "language": "python",
   "name": "python3"
  },
  "language_info": {
   "codemirror_mode": {
    "name": "ipython",
    "version": 3
   },
   "file_extension": ".py",
   "mimetype": "text/x-python",
   "name": "python",
   "nbconvert_exporter": "python",
   "pygments_lexer": "ipython3",
   "version": "3.9.12"
  }
 },
 "nbformat": 4,
 "nbformat_minor": 5
}
